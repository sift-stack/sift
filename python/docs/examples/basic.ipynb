{
 "cells": [
  {
   "cell_type": "markdown",
   "id": "header",
   "metadata": {},
   "source": [
    "# Sift Client Basic Example\n",
    "\n",
    "This notebook demonstrates the core features of the Sift Python client:\n",
    "- Initializing the Sift client\n",
    "- Finding assets\n",
    "- Finding runs\n",
    "- Searching channels\n",
    "- Pulling data\n",
    "- Creating calculated channels\n",
    "- Setting rules"
   ]
  },
  {
   "metadata": {},
   "cell_type": "markdown",
   "source": [
    "## Running this notebook\n",
    "\n",
    "This notebook is written in Jupyter Notebook format and can be run in any Jupyter environment.\n",
    "\n",
    "Some additional package prerequisites are required to run this notebook:\n",
    "- `notebook` for running Jupyter Notebooks\n",
    "- `python-dotenv` for loading environment variables\n",
    "- `rich` for pretty-printing output\n",
    "- `pandas` for data manipulation and analysis\n",
    "- `matplotlib` for data visualization\n",
    "\n",
    "You can install these packages using `pip install notebook rich python-dotenv pandas matplotlib`."
   ],
   "id": "ef259d05fa338580"
  },
  {
   "metadata": {},
   "cell_type": "markdown",
   "source": [
    "## Setup and Initialization\n",
    "\n",
    "First, import the necessary modules and initialize the Sift client with your credentials.\n",
    "\n",
    "Best practice is to access credentials using environment variables or a `.env` file with `python-dotenv`. Avoid hardcoding your API in any code you write."
   ],
   "id": "f2bbc03e85aa2973"
  },
  {
   "metadata": {
    "ExecuteTime": {
     "end_time": "2025-10-10T18:41:13.634541Z",
     "start_time": "2025-10-10T18:41:13.031402Z"
    }
   },
   "cell_type": "code",
   "source": [
    "import os\n",
    "from datetime import datetime, timedelta\n",
    "from rich import print\n",
    "from dotenv import load_dotenv\n",
    "from sift_client import SiftClient\n",
    "from sift_client.sift_types import (\n",
    "    ChannelReference,\n",
    "    CalculatedChannelCreate,\n",
    "    RuleCreate,\n",
    "    RuleAction,\n",
    "    RuleAnnotationType,\n",
    ")"
   ],
   "id": "497279d83878122e",
   "outputs": [
    {
     "name": "stderr",
     "output_type": "stream",
     "text": [
      "/Users/alexluck/Projects/sift-clients/python/lib/sift_client/resources/_base.py:9: SiftExperimentalWarning: `sift_client` is experimental and is subject to change. Use with caution.\n",
      "  _sift_client_experimental_warning()\n"
     ]
    }
   ],
   "execution_count": 1
  },
  {
   "metadata": {
    "ExecuteTime": {
     "end_time": "2025-10-10T18:41:13.671729Z",
     "start_time": "2025-10-10T18:41:13.639382Z"
    }
   },
   "cell_type": "code",
   "source": [
    "# Get our environment variables\n",
    "load_dotenv()  # Load environment variables from .env file\n",
    "api_key = os.getenv(\"SIFT_API_KEY\")\n",
    "grpc_url = os.getenv(\"SIFT_GRPC_URI\")\n",
    "rest_url = os.getenv(\"SIFT_REST_URI\")\n",
    "\n",
    "client = SiftClient(\n",
    "    api_key=api_key,\n",
    "    grpc_url=grpc_url,\n",
    "    rest_url=rest_url\n",
    ")\n",
    "\n",
    "print(\"✓ Sift client initialized successfully\")"
   ],
   "id": "3492e85e32f1f568",
   "outputs": [
    {
     "data": {
      "text/plain": [
       "✓ Sift client initialized successfully\n"
      ],
      "text/html": [
       "<pre style=\"white-space:pre;overflow-x:auto;line-height:normal;font-family:Menlo,'DejaVu Sans Mono',consolas,'Courier New',monospace\">✓ Sift client initialized successfully\n",
       "</pre>\n"
      ]
     },
     "metadata": {},
     "output_type": "display_data",
     "jetTransient": {
      "display_id": null
     }
    }
   ],
   "execution_count": 2
  },
  {
   "metadata": {},
   "cell_type": "markdown",
   "source": [
    "## Sift Resources\n",
    "\n",
    "Sift objects, such as Assets, Runs, etc. are all accessed via their API resources.\n",
    "\n",
    "The [SiftClient](../../reference/sift_client/#sift_client.SiftClient) class provides these resources as properties:\n",
    "- `assets`\n",
    "- `runs`\n",
    "- etc.\n",
    "\n",
    "Asynchronous versions are also available by accessing the `async_` property of the client. For example:\n",
    "- `client.async_.assets`\n",
    "- `client.async_.runs`\n",
    "- etc.\n",
    "\n",
    "For example, the `Ping` resource can be used for a basic health check:"
   ],
   "id": "378db56e29b1a355"
  },
  {
   "metadata": {
    "ExecuteTime": {
     "end_time": "2025-10-10T18:41:16.613462Z",
     "start_time": "2025-10-10T18:41:14.801033Z"
    }
   },
   "cell_type": "code",
   "source": "client.ping.ping()",
   "id": "fb2db56e076eabec",
   "outputs": [
    {
     "data": {
      "text/plain": [
       "'Hello from Sift!'"
      ]
     },
     "execution_count": 3,
     "metadata": {},
     "output_type": "execute_result"
    }
   ],
   "execution_count": 3
  },
  {
   "metadata": {},
   "cell_type": "markdown",
   "source": [
    "## Assets and Runs\n",
    "\n",
    "Assets represent physical or logical entities in your system (e.g., vehicles, machines, devices). Runs represent time-bounded operational periods for an asset (e.g., a flight, a test, a mission)."
   ],
   "id": "25d1ee945819d7ec"
  },
  {
   "metadata": {},
   "cell_type": "markdown",
   "source": [
    "Resources generally offer similar interaction patterns and methods. For example, the `AssetsAPI` has:\n",
    "- `get`\n",
    "- `list_`\n",
    "- `find`\n",
    "- `update`\n",
    "- `archive`\n",
    "- `unarchive`\n",
    "\n",
    "Other resources may offer additional methods such as `create`."
   ],
   "id": "894e74a9efdc603e"
  },
  {
   "metadata": {},
   "cell_type": "markdown",
   "source": [
    "### Listing, Finding, and Getting\n",
    "\n",
    "`list_` can be used to retrieve objects that match a specific set of criteria:"
   ],
   "id": "86b7b129ccbb2956"
  },
  {
   "metadata": {
    "ExecuteTime": {
     "end_time": "2025-10-10T18:50:58.703512Z",
     "start_time": "2025-10-10T18:50:58.635145Z"
    }
   },
   "cell_type": "code",
   "source": [
    "# List all assets (limited to 10 for this example)\n",
    "assets = client.assets.list_(name_contains=\"Mars\", limit=5)\n",
    "for asset in assets:\n",
    "    print(f\"Name: {asset.name}, ID: {asset.id_}\")\n"
   ],
   "id": "49992189f605c3e4",
   "outputs": [
    {
     "data": {
      "text/plain": [
       "Name: MarsRoverIngestPusher, ID: \u001B[93m429b864b-0911-4e23-b9d1-2a1fba4d441c\u001B[0m\n"
      ],
      "text/html": [
       "<pre style=\"white-space:pre;overflow-x:auto;line-height:normal;font-family:Menlo,'DejaVu Sans Mono',consolas,'Courier New',monospace\">Name: MarsRoverIngestPusher, ID: <span style=\"color: #ffff00; text-decoration-color: #ffff00\">429b864b-0911-4e23-b9d1-2a1fba4d441c</span>\n",
       "</pre>\n"
      ]
     },
     "metadata": {},
     "output_type": "display_data",
     "jetTransient": {
      "display_id": null
     }
    },
    {
     "data": {
      "text/plain": [
       "Name: Mars Rover \u001B[1m[\u001B[0mJonno export test\u001B[1m]\u001B[0m, ID: \u001B[93m5d86ed46-dec6-41c8-8680-a0ba02d9e546\u001B[0m\n"
      ],
      "text/html": [
       "<pre style=\"white-space:pre;overflow-x:auto;line-height:normal;font-family:Menlo,'DejaVu Sans Mono',consolas,'Courier New',monospace\">Name: Mars Rover <span style=\"font-weight: bold\">[</span>Jonno export test<span style=\"font-weight: bold\">]</span>, ID: <span style=\"color: #ffff00; text-decoration-color: #ffff00\">5d86ed46-dec6-41c8-8680-a0ba02d9e546</span>\n",
       "</pre>\n"
      ]
     },
     "metadata": {},
     "output_type": "display_data",
     "jetTransient": {
      "display_id": null
     }
    },
    {
     "data": {
      "text/plain": [
       "Name: MarsRover_pb4, ID: \u001B[93m9bb3bfec-840d-40b7-a5ab-25591f9a1b38\u001B[0m\n"
      ],
      "text/html": [
       "<pre style=\"white-space:pre;overflow-x:auto;line-height:normal;font-family:Menlo,'DejaVu Sans Mono',consolas,'Courier New',monospace\">Name: MarsRover_pb4, ID: <span style=\"color: #ffff00; text-decoration-color: #ffff00\">9bb3bfec-840d-40b7-a5ab-25591f9a1b38</span>\n",
       "</pre>\n"
      ]
     },
     "metadata": {},
     "output_type": "display_data",
     "jetTransient": {
      "display_id": null
     }
    },
    {
     "data": {
      "text/plain": [
       "Name: MarsRover, ID: \u001B[93m611914d3-ffb1-402e-ae1e-5eb3e66dea7c\u001B[0m\n"
      ],
      "text/html": [
       "<pre style=\"white-space:pre;overflow-x:auto;line-height:normal;font-family:Menlo,'DejaVu Sans Mono',consolas,'Courier New',monospace\">Name: MarsRover, ID: <span style=\"color: #ffff00; text-decoration-color: #ffff00\">611914d3-ffb1-402e-ae1e-5eb3e66dea7c</span>\n",
       "</pre>\n"
      ]
     },
     "metadata": {},
     "output_type": "display_data",
     "jetTransient": {
      "display_id": null
     }
    },
    {
     "data": {
      "text/plain": [
       "Name: MarsRover42NaN, ID: \u001B[93m0ad88099-1aea-461c-91b5-0a91c7811f74\u001B[0m\n"
      ],
      "text/html": [
       "<pre style=\"white-space:pre;overflow-x:auto;line-height:normal;font-family:Menlo,'DejaVu Sans Mono',consolas,'Courier New',monospace\">Name: MarsRover42NaN, ID: <span style=\"color: #ffff00; text-decoration-color: #ffff00\">0ad88099-1aea-461c-91b5-0a91c7811f74</span>\n",
       "</pre>\n"
      ]
     },
     "metadata": {},
     "output_type": "display_data",
     "jetTransient": {
      "display_id": null
     }
    }
   ],
   "execution_count": 16
  },
  {
   "metadata": {},
   "cell_type": "markdown",
   "source": "`find` can be used to find a single matching object. It will return an error if multiple are found. It takes the same arguments and filters as `list_`.",
   "id": "a04618d6724e3a2d"
  },
  {
   "metadata": {
    "ExecuteTime": {
     "end_time": "2025-10-10T18:50:58.768704Z",
     "start_time": "2025-10-10T18:50:58.712159Z"
    }
   },
   "cell_type": "code",
   "source": [
    "# Find a specific asset by name\n",
    "asset_name = \"MarsRover0\"\n",
    "asset = client.assets.find(name=asset_name)\n",
    "print(asset)"
   ],
   "id": "8b4b9ce9b806a576",
   "outputs": [
    {
     "data": {
      "text/plain": [
       "\u001B[1;35mAsset\u001B[0m\u001B[1m(\u001B[0m\n",
       "    \u001B[33mid_\u001B[0m=\u001B[32m'61d6e4f0-8287-4678-b071-18a95fcd9db6'\u001B[0m,\n",
       "    \u001B[33mname\u001B[0m=\u001B[32m'MarsRover0'\u001B[0m,\n",
       "    \u001B[33morganization_id\u001B[0m=\u001B[32m'dd9f82ef-7805-4b02-9572-ec61b71edde6'\u001B[0m,\n",
       "    \u001B[33mcreated_date\u001B[0m=\u001B[1;35mdatetime\u001B[0m\u001B[1;35m.datetime\u001B[0m\u001B[1m(\u001B[0m\u001B[1;36m2025\u001B[0m, \u001B[1;36m3\u001B[0m, \u001B[1;36m4\u001B[0m, \u001B[1;36m19\u001B[0m, \u001B[1;36m51\u001B[0m, \u001B[1;36m15\u001B[0m, \u001B[1;36m89746\u001B[0m, \u001B[33mtzinfo\u001B[0m=\u001B[35mdatetime\u001B[0m.timezone.utc\u001B[1m)\u001B[0m,\n",
       "    \u001B[33mcreated_by_user_id\u001B[0m=\u001B[32m'f47e4854-234b-421c-badb-7f8bb757cd9d'\u001B[0m,\n",
       "    \u001B[33mmodified_date\u001B[0m=\u001B[1;35mdatetime\u001B[0m\u001B[1;35m.datetime\u001B[0m\u001B[1m(\u001B[0m\u001B[1;36m2025\u001B[0m, \u001B[1;36m3\u001B[0m, \u001B[1;36m4\u001B[0m, \u001B[1;36m19\u001B[0m, \u001B[1;36m51\u001B[0m, \u001B[1;36m15\u001B[0m, \u001B[1;36m89746\u001B[0m, \u001B[33mtzinfo\u001B[0m=\u001B[35mdatetime\u001B[0m.timezone.utc\u001B[1m)\u001B[0m,\n",
       "    \u001B[33mmodified_by_user_id\u001B[0m=\u001B[32m'f47e4854-234b-421c-badb-7f8bb757cd9d'\u001B[0m,\n",
       "    \u001B[33mtags\u001B[0m=\u001B[1m[\u001B[0m\u001B[32m'simulator'\u001B[0m, \u001B[32m'speed-test'\u001B[0m\u001B[1m]\u001B[0m,\n",
       "    \u001B[33mmetadata\u001B[0m=\u001B[1m{\u001B[0m\u001B[32m'vehicle_type'\u001B[0m: \u001B[32m'rover'\u001B[0m, \u001B[32m'vehicle_version'\u001B[0m: \u001B[1;36m123123123.0\u001B[0m, \u001B[32m'version_active'\u001B[0m: \u001B[3;92mTrue\u001B[0m\u001B[1m}\u001B[0m,\n",
       "    \u001B[33mis_archived\u001B[0m=\u001B[3;91mFalse\u001B[0m,\n",
       "    \u001B[33marchived_date\u001B[0m=\u001B[1;35mdatetime\u001B[0m\u001B[1;35m.datetime\u001B[0m\u001B[1m(\u001B[0m\u001B[1;36m1970\u001B[0m, \u001B[1;36m1\u001B[0m, \u001B[1;36m1\u001B[0m, \u001B[1;36m0\u001B[0m, \u001B[1;36m0\u001B[0m, \u001B[33mtzinfo\u001B[0m=\u001B[35mdatetime\u001B[0m.timezone.utc\u001B[1m)\u001B[0m\n",
       "\u001B[1m)\u001B[0m\n"
      ],
      "text/html": [
       "<pre style=\"white-space:pre;overflow-x:auto;line-height:normal;font-family:Menlo,'DejaVu Sans Mono',consolas,'Courier New',monospace\"><span style=\"color: #800080; text-decoration-color: #800080; font-weight: bold\">Asset</span><span style=\"font-weight: bold\">(</span>\n",
       "    <span style=\"color: #808000; text-decoration-color: #808000\">id_</span>=<span style=\"color: #008000; text-decoration-color: #008000\">'61d6e4f0-8287-4678-b071-18a95fcd9db6'</span>,\n",
       "    <span style=\"color: #808000; text-decoration-color: #808000\">name</span>=<span style=\"color: #008000; text-decoration-color: #008000\">'MarsRover0'</span>,\n",
       "    <span style=\"color: #808000; text-decoration-color: #808000\">organization_id</span>=<span style=\"color: #008000; text-decoration-color: #008000\">'dd9f82ef-7805-4b02-9572-ec61b71edde6'</span>,\n",
       "    <span style=\"color: #808000; text-decoration-color: #808000\">created_date</span>=<span style=\"color: #800080; text-decoration-color: #800080; font-weight: bold\">datetime</span><span style=\"color: #800080; text-decoration-color: #800080; font-weight: bold\">.datetime</span><span style=\"font-weight: bold\">(</span><span style=\"color: #008080; text-decoration-color: #008080; font-weight: bold\">2025</span>, <span style=\"color: #008080; text-decoration-color: #008080; font-weight: bold\">3</span>, <span style=\"color: #008080; text-decoration-color: #008080; font-weight: bold\">4</span>, <span style=\"color: #008080; text-decoration-color: #008080; font-weight: bold\">19</span>, <span style=\"color: #008080; text-decoration-color: #008080; font-weight: bold\">51</span>, <span style=\"color: #008080; text-decoration-color: #008080; font-weight: bold\">15</span>, <span style=\"color: #008080; text-decoration-color: #008080; font-weight: bold\">89746</span>, <span style=\"color: #808000; text-decoration-color: #808000\">tzinfo</span>=<span style=\"color: #800080; text-decoration-color: #800080\">datetime</span>.timezone.utc<span style=\"font-weight: bold\">)</span>,\n",
       "    <span style=\"color: #808000; text-decoration-color: #808000\">created_by_user_id</span>=<span style=\"color: #008000; text-decoration-color: #008000\">'f47e4854-234b-421c-badb-7f8bb757cd9d'</span>,\n",
       "    <span style=\"color: #808000; text-decoration-color: #808000\">modified_date</span>=<span style=\"color: #800080; text-decoration-color: #800080; font-weight: bold\">datetime</span><span style=\"color: #800080; text-decoration-color: #800080; font-weight: bold\">.datetime</span><span style=\"font-weight: bold\">(</span><span style=\"color: #008080; text-decoration-color: #008080; font-weight: bold\">2025</span>, <span style=\"color: #008080; text-decoration-color: #008080; font-weight: bold\">3</span>, <span style=\"color: #008080; text-decoration-color: #008080; font-weight: bold\">4</span>, <span style=\"color: #008080; text-decoration-color: #008080; font-weight: bold\">19</span>, <span style=\"color: #008080; text-decoration-color: #008080; font-weight: bold\">51</span>, <span style=\"color: #008080; text-decoration-color: #008080; font-weight: bold\">15</span>, <span style=\"color: #008080; text-decoration-color: #008080; font-weight: bold\">89746</span>, <span style=\"color: #808000; text-decoration-color: #808000\">tzinfo</span>=<span style=\"color: #800080; text-decoration-color: #800080\">datetime</span>.timezone.utc<span style=\"font-weight: bold\">)</span>,\n",
       "    <span style=\"color: #808000; text-decoration-color: #808000\">modified_by_user_id</span>=<span style=\"color: #008000; text-decoration-color: #008000\">'f47e4854-234b-421c-badb-7f8bb757cd9d'</span>,\n",
       "    <span style=\"color: #808000; text-decoration-color: #808000\">tags</span>=<span style=\"font-weight: bold\">[</span><span style=\"color: #008000; text-decoration-color: #008000\">'simulator'</span>, <span style=\"color: #008000; text-decoration-color: #008000\">'speed-test'</span><span style=\"font-weight: bold\">]</span>,\n",
       "    <span style=\"color: #808000; text-decoration-color: #808000\">metadata</span>=<span style=\"font-weight: bold\">{</span><span style=\"color: #008000; text-decoration-color: #008000\">'vehicle_type'</span>: <span style=\"color: #008000; text-decoration-color: #008000\">'rover'</span>, <span style=\"color: #008000; text-decoration-color: #008000\">'vehicle_version'</span>: <span style=\"color: #008080; text-decoration-color: #008080; font-weight: bold\">123123123.0</span>, <span style=\"color: #008000; text-decoration-color: #008000\">'version_active'</span>: <span style=\"color: #00ff00; text-decoration-color: #00ff00; font-style: italic\">True</span><span style=\"font-weight: bold\">}</span>,\n",
       "    <span style=\"color: #808000; text-decoration-color: #808000\">is_archived</span>=<span style=\"color: #ff0000; text-decoration-color: #ff0000; font-style: italic\">False</span>,\n",
       "    <span style=\"color: #808000; text-decoration-color: #808000\">archived_date</span>=<span style=\"color: #800080; text-decoration-color: #800080; font-weight: bold\">datetime</span><span style=\"color: #800080; text-decoration-color: #800080; font-weight: bold\">.datetime</span><span style=\"font-weight: bold\">(</span><span style=\"color: #008080; text-decoration-color: #008080; font-weight: bold\">1970</span>, <span style=\"color: #008080; text-decoration-color: #008080; font-weight: bold\">1</span>, <span style=\"color: #008080; text-decoration-color: #008080; font-weight: bold\">1</span>, <span style=\"color: #008080; text-decoration-color: #008080; font-weight: bold\">0</span>, <span style=\"color: #008080; text-decoration-color: #008080; font-weight: bold\">0</span>, <span style=\"color: #808000; text-decoration-color: #808000\">tzinfo</span>=<span style=\"color: #800080; text-decoration-color: #800080\">datetime</span>.timezone.utc<span style=\"font-weight: bold\">)</span>\n",
       "<span style=\"font-weight: bold\">)</span>\n",
       "</pre>\n"
      ]
     },
     "metadata": {},
     "output_type": "display_data",
     "jetTransient": {
      "display_id": null
     }
    }
   ],
   "execution_count": 17
  },
  {
   "metadata": {},
   "cell_type": "markdown",
   "source": "When we know exactly what we are looking for, we can use `get`.",
   "id": "1df0e447f3a04c98"
  },
  {
   "metadata": {
    "ExecuteTime": {
     "end_time": "2025-10-10T18:50:58.831165Z",
     "start_time": "2025-10-10T18:50:58.773015Z"
    }
   },
   "cell_type": "code",
   "source": [
    "# Get the exact asset by ID\n",
    "asset = client.assets.get(asset_id=asset.id_)\n",
    "print(asset)"
   ],
   "id": "d8c650d021ff4af8",
   "outputs": [
    {
     "data": {
      "text/plain": [
       "\u001B[1;35mAsset\u001B[0m\u001B[1m(\u001B[0m\n",
       "    \u001B[33mid_\u001B[0m=\u001B[32m'61d6e4f0-8287-4678-b071-18a95fcd9db6'\u001B[0m,\n",
       "    \u001B[33mname\u001B[0m=\u001B[32m'MarsRover0'\u001B[0m,\n",
       "    \u001B[33morganization_id\u001B[0m=\u001B[32m'dd9f82ef-7805-4b02-9572-ec61b71edde6'\u001B[0m,\n",
       "    \u001B[33mcreated_date\u001B[0m=\u001B[1;35mdatetime\u001B[0m\u001B[1;35m.datetime\u001B[0m\u001B[1m(\u001B[0m\u001B[1;36m2025\u001B[0m, \u001B[1;36m3\u001B[0m, \u001B[1;36m4\u001B[0m, \u001B[1;36m19\u001B[0m, \u001B[1;36m51\u001B[0m, \u001B[1;36m15\u001B[0m, \u001B[1;36m89746\u001B[0m, \u001B[33mtzinfo\u001B[0m=\u001B[35mdatetime\u001B[0m.timezone.utc\u001B[1m)\u001B[0m,\n",
       "    \u001B[33mcreated_by_user_id\u001B[0m=\u001B[32m'f47e4854-234b-421c-badb-7f8bb757cd9d'\u001B[0m,\n",
       "    \u001B[33mmodified_date\u001B[0m=\u001B[1;35mdatetime\u001B[0m\u001B[1;35m.datetime\u001B[0m\u001B[1m(\u001B[0m\u001B[1;36m2025\u001B[0m, \u001B[1;36m3\u001B[0m, \u001B[1;36m4\u001B[0m, \u001B[1;36m19\u001B[0m, \u001B[1;36m51\u001B[0m, \u001B[1;36m15\u001B[0m, \u001B[1;36m89746\u001B[0m, \u001B[33mtzinfo\u001B[0m=\u001B[35mdatetime\u001B[0m.timezone.utc\u001B[1m)\u001B[0m,\n",
       "    \u001B[33mmodified_by_user_id\u001B[0m=\u001B[32m'f47e4854-234b-421c-badb-7f8bb757cd9d'\u001B[0m,\n",
       "    \u001B[33mtags\u001B[0m=\u001B[1m[\u001B[0m\u001B[32m'simulator'\u001B[0m, \u001B[32m'speed-test'\u001B[0m\u001B[1m]\u001B[0m,\n",
       "    \u001B[33mmetadata\u001B[0m=\u001B[1m{\u001B[0m\u001B[32m'vehicle_type'\u001B[0m: \u001B[32m'rover'\u001B[0m, \u001B[32m'vehicle_version'\u001B[0m: \u001B[1;36m123123123.0\u001B[0m, \u001B[32m'version_active'\u001B[0m: \u001B[3;92mTrue\u001B[0m\u001B[1m}\u001B[0m,\n",
       "    \u001B[33mis_archived\u001B[0m=\u001B[3;91mFalse\u001B[0m,\n",
       "    \u001B[33marchived_date\u001B[0m=\u001B[1;35mdatetime\u001B[0m\u001B[1;35m.datetime\u001B[0m\u001B[1m(\u001B[0m\u001B[1;36m1970\u001B[0m, \u001B[1;36m1\u001B[0m, \u001B[1;36m1\u001B[0m, \u001B[1;36m0\u001B[0m, \u001B[1;36m0\u001B[0m, \u001B[33mtzinfo\u001B[0m=\u001B[35mdatetime\u001B[0m.timezone.utc\u001B[1m)\u001B[0m\n",
       "\u001B[1m)\u001B[0m\n"
      ],
      "text/html": [
       "<pre style=\"white-space:pre;overflow-x:auto;line-height:normal;font-family:Menlo,'DejaVu Sans Mono',consolas,'Courier New',monospace\"><span style=\"color: #800080; text-decoration-color: #800080; font-weight: bold\">Asset</span><span style=\"font-weight: bold\">(</span>\n",
       "    <span style=\"color: #808000; text-decoration-color: #808000\">id_</span>=<span style=\"color: #008000; text-decoration-color: #008000\">'61d6e4f0-8287-4678-b071-18a95fcd9db6'</span>,\n",
       "    <span style=\"color: #808000; text-decoration-color: #808000\">name</span>=<span style=\"color: #008000; text-decoration-color: #008000\">'MarsRover0'</span>,\n",
       "    <span style=\"color: #808000; text-decoration-color: #808000\">organization_id</span>=<span style=\"color: #008000; text-decoration-color: #008000\">'dd9f82ef-7805-4b02-9572-ec61b71edde6'</span>,\n",
       "    <span style=\"color: #808000; text-decoration-color: #808000\">created_date</span>=<span style=\"color: #800080; text-decoration-color: #800080; font-weight: bold\">datetime</span><span style=\"color: #800080; text-decoration-color: #800080; font-weight: bold\">.datetime</span><span style=\"font-weight: bold\">(</span><span style=\"color: #008080; text-decoration-color: #008080; font-weight: bold\">2025</span>, <span style=\"color: #008080; text-decoration-color: #008080; font-weight: bold\">3</span>, <span style=\"color: #008080; text-decoration-color: #008080; font-weight: bold\">4</span>, <span style=\"color: #008080; text-decoration-color: #008080; font-weight: bold\">19</span>, <span style=\"color: #008080; text-decoration-color: #008080; font-weight: bold\">51</span>, <span style=\"color: #008080; text-decoration-color: #008080; font-weight: bold\">15</span>, <span style=\"color: #008080; text-decoration-color: #008080; font-weight: bold\">89746</span>, <span style=\"color: #808000; text-decoration-color: #808000\">tzinfo</span>=<span style=\"color: #800080; text-decoration-color: #800080\">datetime</span>.timezone.utc<span style=\"font-weight: bold\">)</span>,\n",
       "    <span style=\"color: #808000; text-decoration-color: #808000\">created_by_user_id</span>=<span style=\"color: #008000; text-decoration-color: #008000\">'f47e4854-234b-421c-badb-7f8bb757cd9d'</span>,\n",
       "    <span style=\"color: #808000; text-decoration-color: #808000\">modified_date</span>=<span style=\"color: #800080; text-decoration-color: #800080; font-weight: bold\">datetime</span><span style=\"color: #800080; text-decoration-color: #800080; font-weight: bold\">.datetime</span><span style=\"font-weight: bold\">(</span><span style=\"color: #008080; text-decoration-color: #008080; font-weight: bold\">2025</span>, <span style=\"color: #008080; text-decoration-color: #008080; font-weight: bold\">3</span>, <span style=\"color: #008080; text-decoration-color: #008080; font-weight: bold\">4</span>, <span style=\"color: #008080; text-decoration-color: #008080; font-weight: bold\">19</span>, <span style=\"color: #008080; text-decoration-color: #008080; font-weight: bold\">51</span>, <span style=\"color: #008080; text-decoration-color: #008080; font-weight: bold\">15</span>, <span style=\"color: #008080; text-decoration-color: #008080; font-weight: bold\">89746</span>, <span style=\"color: #808000; text-decoration-color: #808000\">tzinfo</span>=<span style=\"color: #800080; text-decoration-color: #800080\">datetime</span>.timezone.utc<span style=\"font-weight: bold\">)</span>,\n",
       "    <span style=\"color: #808000; text-decoration-color: #808000\">modified_by_user_id</span>=<span style=\"color: #008000; text-decoration-color: #008000\">'f47e4854-234b-421c-badb-7f8bb757cd9d'</span>,\n",
       "    <span style=\"color: #808000; text-decoration-color: #808000\">tags</span>=<span style=\"font-weight: bold\">[</span><span style=\"color: #008000; text-decoration-color: #008000\">'simulator'</span>, <span style=\"color: #008000; text-decoration-color: #008000\">'speed-test'</span><span style=\"font-weight: bold\">]</span>,\n",
       "    <span style=\"color: #808000; text-decoration-color: #808000\">metadata</span>=<span style=\"font-weight: bold\">{</span><span style=\"color: #008000; text-decoration-color: #008000\">'vehicle_type'</span>: <span style=\"color: #008000; text-decoration-color: #008000\">'rover'</span>, <span style=\"color: #008000; text-decoration-color: #008000\">'vehicle_version'</span>: <span style=\"color: #008080; text-decoration-color: #008080; font-weight: bold\">123123123.0</span>, <span style=\"color: #008000; text-decoration-color: #008000\">'version_active'</span>: <span style=\"color: #00ff00; text-decoration-color: #00ff00; font-style: italic\">True</span><span style=\"font-weight: bold\">}</span>,\n",
       "    <span style=\"color: #808000; text-decoration-color: #808000\">is_archived</span>=<span style=\"color: #ff0000; text-decoration-color: #ff0000; font-style: italic\">False</span>,\n",
       "    <span style=\"color: #808000; text-decoration-color: #808000\">archived_date</span>=<span style=\"color: #800080; text-decoration-color: #800080; font-weight: bold\">datetime</span><span style=\"color: #800080; text-decoration-color: #800080; font-weight: bold\">.datetime</span><span style=\"font-weight: bold\">(</span><span style=\"color: #008080; text-decoration-color: #008080; font-weight: bold\">1970</span>, <span style=\"color: #008080; text-decoration-color: #008080; font-weight: bold\">1</span>, <span style=\"color: #008080; text-decoration-color: #008080; font-weight: bold\">1</span>, <span style=\"color: #008080; text-decoration-color: #008080; font-weight: bold\">0</span>, <span style=\"color: #008080; text-decoration-color: #008080; font-weight: bold\">0</span>, <span style=\"color: #808000; text-decoration-color: #808000\">tzinfo</span>=<span style=\"color: #800080; text-decoration-color: #800080\">datetime</span>.timezone.utc<span style=\"font-weight: bold\">)</span>\n",
       "<span style=\"font-weight: bold\">)</span>\n",
       "</pre>\n"
      ]
     },
     "metadata": {},
     "output_type": "display_data",
     "jetTransient": {
      "display_id": null
     }
    }
   ],
   "execution_count": 18
  },
  {
   "metadata": {},
   "cell_type": "markdown",
   "source": [
    "### Creating, Updating, and Archiving\n",
    "\n",
    "Most resources offer `create`, `update`, and `archive` methods. "
   ],
   "id": "e8ebf9754df8f646"
  },
  {
   "metadata": {
    "ExecuteTime": {
     "end_time": "2025-10-10T18:51:57.257730Z",
     "start_time": "2025-10-10T18:51:57.142330Z"
    }
   },
   "cell_type": "code",
   "source": [
    "# List runs for the selected asset\n",
    "runs = client.runs.list_(\n",
    "    assets=[asset.id_],\n",
    "    limit=10,\n",
    "    order_by=\"start_time desc\"\n",
    ")\n",
    "\n",
    "print(f\"Found {len(runs)} runs for asset '{asset.name}':\")\n",
    "for run in runs:\n",
    "    status = \"Running\" if run.stop_time is None else \"Stopped\"\n",
    "    print(f\"  - {run.name} ({status})\")\n",
    "    print(f\"    Start: {run.start_time}\")\n",
    "    if run.stop_time:\n",
    "        print(f\"    Stop: {run.stop_time}\")"
   ],
   "id": "58645b9030c86cc4",
   "outputs": [
    {
     "ename": "AioRpcError",
     "evalue": "<AioRpcError of RPC that terminated with:\n\tstatus = StatusCode.INVALID_ARGUMENT\n\tdetails = \"invalid argument: failed to compile filter: ERROR: <input>:1:25: undeclared reference to 'asset_ids' (in container '')\n | is_archived == false && asset_ids in ['61d6e4f0-8287-4678-b071-18a95fcd9db6']\n | ........................^ (a4aa7f59-a7f8-4026-b602-eeb00912c845)\"\n\tdebug_error_string = \"UNKNOWN:Error received from peer  {created_time:\"2025-10-10T11:51:57.213813-07:00\", grpc_status:3, grpc_message:\"invalid argument: failed to compile filter: ERROR: <input>:1:25: undeclared reference to \\'asset_ids\\' (in container \\'\\')\\n | is_archived == false && asset_ids in [\\'61d6e4f0-8287-4678-b071-18a95fcd9db6\\']\\n | ........................^ (a4aa7f59-a7f8-4026-b602-eeb00912c845)\"}\"\n>",
     "output_type": "error",
     "traceback": [
      "\u001B[0;31m---------------------------------------------------------------------------\u001B[0m",
      "\u001B[0;31mAioRpcError\u001B[0m                               Traceback (most recent call last)",
      "Cell \u001B[0;32mIn[20], line 2\u001B[0m\n\u001B[1;32m      1\u001B[0m \u001B[38;5;66;03m# List runs for the selected asset\u001B[39;00m\n\u001B[0;32m----> 2\u001B[0m runs \u001B[38;5;241m=\u001B[39m \u001B[43mclient\u001B[49m\u001B[38;5;241;43m.\u001B[39;49m\u001B[43mruns\u001B[49m\u001B[38;5;241;43m.\u001B[39;49m\u001B[43mlist_\u001B[49m\u001B[43m(\u001B[49m\n\u001B[1;32m      3\u001B[0m \u001B[43m    \u001B[49m\u001B[43massets\u001B[49m\u001B[38;5;241;43m=\u001B[39;49m\u001B[43m[\u001B[49m\u001B[43masset\u001B[49m\u001B[38;5;241;43m.\u001B[39;49m\u001B[43mid_\u001B[49m\u001B[43m]\u001B[49m\u001B[43m,\u001B[49m\n\u001B[1;32m      4\u001B[0m \u001B[43m    \u001B[49m\u001B[43mlimit\u001B[49m\u001B[38;5;241;43m=\u001B[39;49m\u001B[38;5;241;43m10\u001B[39;49m\u001B[43m,\u001B[49m\n\u001B[1;32m      5\u001B[0m \u001B[43m    \u001B[49m\u001B[43morder_by\u001B[49m\u001B[38;5;241;43m=\u001B[39;49m\u001B[38;5;124;43m\"\u001B[39;49m\u001B[38;5;124;43mstart_time desc\u001B[39;49m\u001B[38;5;124;43m\"\u001B[39;49m\n\u001B[1;32m      6\u001B[0m \u001B[43m)\u001B[49m\n\u001B[1;32m      8\u001B[0m \u001B[38;5;28mprint\u001B[39m(\u001B[38;5;124mf\u001B[39m\u001B[38;5;124m\"\u001B[39m\u001B[38;5;124mFound \u001B[39m\u001B[38;5;132;01m{\u001B[39;00m\u001B[38;5;28mlen\u001B[39m(runs)\u001B[38;5;132;01m}\u001B[39;00m\u001B[38;5;124m runs for asset \u001B[39m\u001B[38;5;124m'\u001B[39m\u001B[38;5;132;01m{\u001B[39;00masset\u001B[38;5;241m.\u001B[39mname\u001B[38;5;132;01m}\u001B[39;00m\u001B[38;5;124m'\u001B[39m\u001B[38;5;124m:\u001B[39m\u001B[38;5;124m\"\u001B[39m)\n\u001B[1;32m      9\u001B[0m \u001B[38;5;28;01mfor\u001B[39;00m run \u001B[38;5;129;01min\u001B[39;00m runs:\n",
      "File \u001B[0;32m~/Projects/sift-clients/python/lib/sift_client/_internal/sync_wrapper.py:72\u001B[0m, in \u001B[0;36mgenerate_sync_api.<locals>._make_sync.<locals>.sync_func\u001B[0;34m(self, *a, **kw)\u001B[0m\n\u001B[1;32m     70\u001B[0m \u001B[38;5;129m@wraps\u001B[39m(async_func)\n\u001B[1;32m     71\u001B[0m \u001B[38;5;28;01mdef\u001B[39;00m \u001B[38;5;21msync_func\u001B[39m(\u001B[38;5;28mself\u001B[39m, \u001B[38;5;241m*\u001B[39ma, \u001B[38;5;241m*\u001B[39m\u001B[38;5;241m*\u001B[39mkw):\n\u001B[0;32m---> 72\u001B[0m     \u001B[38;5;28;01mreturn\u001B[39;00m \u001B[38;5;28;43mself\u001B[39;49m\u001B[38;5;241;43m.\u001B[39;49m\u001B[43m_run\u001B[49m\u001B[43m(\u001B[49m\u001B[38;5;28;43mgetattr\u001B[39;49m\u001B[43m(\u001B[49m\u001B[38;5;28;43mself\u001B[39;49m\u001B[38;5;241;43m.\u001B[39;49m\u001B[43m_async_impl\u001B[49m\u001B[43m,\u001B[49m\u001B[43m \u001B[49m\u001B[43mfunc_name\u001B[49m\u001B[43m)\u001B[49m\u001B[43m(\u001B[49m\u001B[38;5;241;43m*\u001B[39;49m\u001B[43ma\u001B[49m\u001B[43m,\u001B[49m\u001B[43m \u001B[49m\u001B[38;5;241;43m*\u001B[39;49m\u001B[38;5;241;43m*\u001B[39;49m\u001B[43mkw\u001B[49m\u001B[43m)\u001B[49m\u001B[43m)\u001B[49m\n",
      "File \u001B[0;32m~/Projects/sift-clients/python/lib/sift_client/_internal/sync_wrapper.py:56\u001B[0m, in \u001B[0;36mgenerate_sync_api.<locals>._run\u001B[0;34m(self, coro)\u001B[0m\n\u001B[1;32m     54\u001B[0m \u001B[38;5;28;01mdef\u001B[39;00m \u001B[38;5;21m_run\u001B[39m(\u001B[38;5;28mself\u001B[39m, coro):\n\u001B[1;32m     55\u001B[0m     loop \u001B[38;5;241m=\u001B[39m \u001B[38;5;28mself\u001B[39m\u001B[38;5;241m.\u001B[39m_async_impl\u001B[38;5;241m.\u001B[39mclient\u001B[38;5;241m.\u001B[39mget_asyncio_loop()\n\u001B[0;32m---> 56\u001B[0m     \u001B[38;5;28;01mreturn\u001B[39;00m \u001B[43masyncio\u001B[49m\u001B[38;5;241;43m.\u001B[39;49m\u001B[43mrun_coroutine_threadsafe\u001B[49m\u001B[43m(\u001B[49m\u001B[43mcoro\u001B[49m\u001B[43m,\u001B[49m\u001B[43m \u001B[49m\u001B[43mloop\u001B[49m\u001B[43m)\u001B[49m\u001B[38;5;241;43m.\u001B[39;49m\u001B[43mresult\u001B[49m\u001B[43m(\u001B[49m\u001B[43m)\u001B[49m\n",
      "File \u001B[0;32m~/miniconda3/envs/sift-client_3_8/lib/python3.8/concurrent/futures/_base.py:444\u001B[0m, in \u001B[0;36mFuture.result\u001B[0;34m(self, timeout)\u001B[0m\n\u001B[1;32m    442\u001B[0m     \u001B[38;5;28;01mraise\u001B[39;00m CancelledError()\n\u001B[1;32m    443\u001B[0m \u001B[38;5;28;01melif\u001B[39;00m \u001B[38;5;28mself\u001B[39m\u001B[38;5;241m.\u001B[39m_state \u001B[38;5;241m==\u001B[39m FINISHED:\n\u001B[0;32m--> 444\u001B[0m     \u001B[38;5;28;01mreturn\u001B[39;00m \u001B[38;5;28;43mself\u001B[39;49m\u001B[38;5;241;43m.\u001B[39;49m\u001B[43m__get_result\u001B[49m\u001B[43m(\u001B[49m\u001B[43m)\u001B[49m\n\u001B[1;32m    445\u001B[0m \u001B[38;5;28;01melse\u001B[39;00m:\n\u001B[1;32m    446\u001B[0m     \u001B[38;5;28;01mraise\u001B[39;00m \u001B[38;5;167;01mTimeoutError\u001B[39;00m()\n",
      "File \u001B[0;32m~/miniconda3/envs/sift-client_3_8/lib/python3.8/concurrent/futures/_base.py:389\u001B[0m, in \u001B[0;36mFuture.__get_result\u001B[0;34m(self)\u001B[0m\n\u001B[1;32m    387\u001B[0m \u001B[38;5;28;01mif\u001B[39;00m \u001B[38;5;28mself\u001B[39m\u001B[38;5;241m.\u001B[39m_exception:\n\u001B[1;32m    388\u001B[0m     \u001B[38;5;28;01mtry\u001B[39;00m:\n\u001B[0;32m--> 389\u001B[0m         \u001B[38;5;28;01mraise\u001B[39;00m \u001B[38;5;28mself\u001B[39m\u001B[38;5;241m.\u001B[39m_exception\n\u001B[1;32m    390\u001B[0m     \u001B[38;5;28;01mfinally\u001B[39;00m:\n\u001B[1;32m    391\u001B[0m         \u001B[38;5;66;03m# Break a reference cycle with the exception in self._exception\u001B[39;00m\n\u001B[1;32m    392\u001B[0m         \u001B[38;5;28mself\u001B[39m \u001B[38;5;241m=\u001B[39m \u001B[38;5;28;01mNone\u001B[39;00m\n",
      "File \u001B[0;32m~/Projects/sift-clients/python/lib/sift_client/resources/runs.py:171\u001B[0m, in \u001B[0;36mRunsAPIAsync.list_\u001B[0;34m(self, name, name_contains, name_regex, run_ids, client_keys, created_after, created_before, modified_after, modified_before, created_by, modified_by, metadata, assets, duration_less_than, duration_greater_than, start_time_after, start_time_before, stop_time_after, stop_time_before, is_stopped, description_contains, include_archived, filter_query, order_by, limit)\u001B[0m\n\u001B[1;32m    168\u001B[0m     filter_parts\u001B[38;5;241m.\u001B[39mappend(cel\u001B[38;5;241m.\u001B[39mnot_(cel\u001B[38;5;241m.\u001B[39mequals_null(\u001B[38;5;124m\"\u001B[39m\u001B[38;5;124mstop_time\u001B[39m\u001B[38;5;124m\"\u001B[39m)))\n\u001B[1;32m    169\u001B[0m query_filter \u001B[38;5;241m=\u001B[39m cel\u001B[38;5;241m.\u001B[39mand_(\u001B[38;5;241m*\u001B[39mfilter_parts)\n\u001B[0;32m--> 171\u001B[0m runs \u001B[38;5;241m=\u001B[39m \u001B[38;5;28;01mawait\u001B[39;00m \u001B[38;5;28mself\u001B[39m\u001B[38;5;241m.\u001B[39m_low_level_client\u001B[38;5;241m.\u001B[39mlist_all_runs(\n\u001B[1;32m    172\u001B[0m     query_filter\u001B[38;5;241m=\u001B[39mquery_filter \u001B[38;5;129;01mor\u001B[39;00m \u001B[38;5;28;01mNone\u001B[39;00m,\n\u001B[1;32m    173\u001B[0m     order_by\u001B[38;5;241m=\u001B[39morder_by,\n\u001B[1;32m    174\u001B[0m     max_results\u001B[38;5;241m=\u001B[39mlimit,\n\u001B[1;32m    175\u001B[0m )\n\u001B[1;32m    176\u001B[0m \u001B[38;5;28;01mreturn\u001B[39;00m \u001B[38;5;28mself\u001B[39m\u001B[38;5;241m.\u001B[39m_apply_client_to_instances(runs)\n",
      "File \u001B[0;32m~/Projects/sift-clients/python/lib/sift_client/_internal/low_level_wrappers/runs.py:114\u001B[0m, in \u001B[0;36mRunsLowLevelClient.list_all_runs\u001B[0;34m(self, query_filter, order_by, max_results)\u001B[0m\n\u001B[1;32m     97\u001B[0m \u001B[38;5;28;01masync\u001B[39;00m \u001B[38;5;28;01mdef\u001B[39;00m \u001B[38;5;21mlist_all_runs\u001B[39m(\n\u001B[1;32m     98\u001B[0m     \u001B[38;5;28mself\u001B[39m,\n\u001B[1;32m     99\u001B[0m     \u001B[38;5;241m*\u001B[39m,\n\u001B[0;32m   (...)\u001B[0m\n\u001B[1;32m    102\u001B[0m     max_results: \u001B[38;5;28mint\u001B[39m \u001B[38;5;241m|\u001B[39m \u001B[38;5;28;01mNone\u001B[39;00m \u001B[38;5;241m=\u001B[39m \u001B[38;5;28;01mNone\u001B[39;00m,\n\u001B[1;32m    103\u001B[0m ) \u001B[38;5;241m-\u001B[39m\u001B[38;5;241m>\u001B[39m \u001B[38;5;28mlist\u001B[39m[Run]:\n\u001B[1;32m    104\u001B[0m \u001B[38;5;250m    \u001B[39m\u001B[38;5;124;03m\"\"\"List all runs with optional filtering.\u001B[39;00m\n\u001B[1;32m    105\u001B[0m \n\u001B[1;32m    106\u001B[0m \u001B[38;5;124;03m    Args:\u001B[39;00m\n\u001B[0;32m   (...)\u001B[0m\n\u001B[1;32m    112\u001B[0m \u001B[38;5;124;03m        A list of all matching runs.\u001B[39;00m\n\u001B[1;32m    113\u001B[0m \u001B[38;5;124;03m    \"\"\"\u001B[39;00m\n\u001B[0;32m--> 114\u001B[0m     \u001B[38;5;28;01mreturn\u001B[39;00m \u001B[38;5;28;01mawait\u001B[39;00m \u001B[38;5;28mself\u001B[39m\u001B[38;5;241m.\u001B[39m_handle_pagination(\n\u001B[1;32m    115\u001B[0m         \u001B[38;5;28mself\u001B[39m\u001B[38;5;241m.\u001B[39mlist_runs,\n\u001B[1;32m    116\u001B[0m         kwargs\u001B[38;5;241m=\u001B[39m{\u001B[38;5;124m\"\u001B[39m\u001B[38;5;124mquery_filter\u001B[39m\u001B[38;5;124m\"\u001B[39m: query_filter},\n\u001B[1;32m    117\u001B[0m         order_by\u001B[38;5;241m=\u001B[39morder_by,\n\u001B[1;32m    118\u001B[0m         max_results\u001B[38;5;241m=\u001B[39mmax_results,\n\u001B[1;32m    119\u001B[0m     )\n",
      "File \u001B[0;32m~/Projects/sift-clients/python/lib/sift_client/_internal/low_level_wrappers/base.py:41\u001B[0m, in \u001B[0;36mLowLevelClientBase._handle_pagination\u001B[0;34m(func, kwargs, page_size, page_token, order_by, max_results)\u001B[0m\n\u001B[1;32m     39\u001B[0m \u001B[38;5;28;01mif\u001B[39;00m max_results \u001B[38;5;129;01mis\u001B[39;00m \u001B[38;5;129;01mnot\u001B[39;00m \u001B[38;5;28;01mNone\u001B[39;00m \u001B[38;5;129;01mand\u001B[39;00m \u001B[38;5;28mlen\u001B[39m(results) \u001B[38;5;241m>\u001B[39m\u001B[38;5;241m=\u001B[39m max_results:\n\u001B[1;32m     40\u001B[0m     \u001B[38;5;28;01mbreak\u001B[39;00m\n\u001B[0;32m---> 41\u001B[0m response, page_token \u001B[38;5;241m=\u001B[39m \u001B[38;5;28;01mawait\u001B[39;00m func(\n\u001B[1;32m     42\u001B[0m     page_size\u001B[38;5;241m=\u001B[39mpage_size,\n\u001B[1;32m     43\u001B[0m     page_token\u001B[38;5;241m=\u001B[39mpage_token,\n\u001B[1;32m     44\u001B[0m     order_by\u001B[38;5;241m=\u001B[39morder_by,\n\u001B[1;32m     45\u001B[0m     \u001B[38;5;241m*\u001B[39m\u001B[38;5;241m*\u001B[39mkwargs,\n\u001B[1;32m     46\u001B[0m )\n\u001B[1;32m     47\u001B[0m results\u001B[38;5;241m.\u001B[39mextend(response)\n\u001B[1;32m     48\u001B[0m \u001B[38;5;28;01mif\u001B[39;00m page_token \u001B[38;5;241m==\u001B[39m \u001B[38;5;124m\"\u001B[39m\u001B[38;5;124m\"\u001B[39m:\n",
      "File \u001B[0;32m~/Projects/sift-clients/python/lib/sift_client/_internal/low_level_wrappers/runs.py:91\u001B[0m, in \u001B[0;36mRunsLowLevelClient.list_runs\u001B[0;34m(self, page_size, page_token, query_filter, order_by)\u001B[0m\n\u001B[1;32m     88\u001B[0m     request_kwargs[\u001B[38;5;124m\"\u001B[39m\u001B[38;5;124morder_by\u001B[39m\u001B[38;5;124m\"\u001B[39m] \u001B[38;5;241m=\u001B[39m order_by\n\u001B[1;32m     90\u001B[0m request \u001B[38;5;241m=\u001B[39m ListRunsRequest(\u001B[38;5;241m*\u001B[39m\u001B[38;5;241m*\u001B[39mrequest_kwargs)\n\u001B[0;32m---> 91\u001B[0m response \u001B[38;5;241m=\u001B[39m \u001B[38;5;28;01mawait\u001B[39;00m \u001B[38;5;28mself\u001B[39m\u001B[38;5;241m.\u001B[39m_grpc_client\u001B[38;5;241m.\u001B[39mget_stub(RunServiceStub)\u001B[38;5;241m.\u001B[39mListRuns(request)\n\u001B[1;32m     92\u001B[0m response \u001B[38;5;241m=\u001B[39m cast(\u001B[38;5;124m\"\u001B[39m\u001B[38;5;124mListRunsResponse\u001B[39m\u001B[38;5;124m\"\u001B[39m, response)\n\u001B[1;32m     94\u001B[0m runs \u001B[38;5;241m=\u001B[39m [Run\u001B[38;5;241m.\u001B[39m_from_proto(run) \u001B[38;5;28;01mfor\u001B[39;00m run \u001B[38;5;129;01min\u001B[39;00m response\u001B[38;5;241m.\u001B[39mruns]\n",
      "File \u001B[0;32m~/miniconda3/envs/sift-client_3_8/lib/python3.8/site-packages/grpc/aio/_interceptor.py:472\u001B[0m, in \u001B[0;36m_InterceptedUnaryResponseMixin.__await__\u001B[0;34m(self)\u001B[0m\n\u001B[1;32m    470\u001B[0m \u001B[38;5;28;01mdef\u001B[39;00m \u001B[38;5;21m__await__\u001B[39m(\u001B[38;5;28mself\u001B[39m):\n\u001B[1;32m    471\u001B[0m     call \u001B[38;5;241m=\u001B[39m \u001B[38;5;28;01myield from\u001B[39;00m \u001B[38;5;28mself\u001B[39m\u001B[38;5;241m.\u001B[39m_interceptors_task\u001B[38;5;241m.\u001B[39m\u001B[38;5;21m__await__\u001B[39m()\n\u001B[0;32m--> 472\u001B[0m     response \u001B[38;5;241m=\u001B[39m \u001B[38;5;28;01myield from\u001B[39;00m call\u001B[38;5;241m.\u001B[39m\u001B[38;5;21m__await__\u001B[39m()\n\u001B[1;32m    473\u001B[0m     \u001B[38;5;28;01mreturn\u001B[39;00m response\n",
      "File \u001B[0;32m~/miniconda3/envs/sift-client_3_8/lib/python3.8/site-packages/grpc/aio/_call.py:327\u001B[0m, in \u001B[0;36m_UnaryResponseMixin.__await__\u001B[0;34m(self)\u001B[0m\n\u001B[1;32m    325\u001B[0m         \u001B[38;5;28;01mraise\u001B[39;00m asyncio\u001B[38;5;241m.\u001B[39mCancelledError()\n\u001B[1;32m    326\u001B[0m     \u001B[38;5;28;01melse\u001B[39;00m:\n\u001B[0;32m--> 327\u001B[0m         \u001B[38;5;28;01mraise\u001B[39;00m _create_rpc_error(\n\u001B[1;32m    328\u001B[0m             \u001B[38;5;28mself\u001B[39m\u001B[38;5;241m.\u001B[39m_cython_call\u001B[38;5;241m.\u001B[39m_initial_metadata,\n\u001B[1;32m    329\u001B[0m             \u001B[38;5;28mself\u001B[39m\u001B[38;5;241m.\u001B[39m_cython_call\u001B[38;5;241m.\u001B[39m_status,\n\u001B[1;32m    330\u001B[0m         )\n\u001B[1;32m    331\u001B[0m \u001B[38;5;28;01melse\u001B[39;00m:\n\u001B[1;32m    332\u001B[0m     \u001B[38;5;28;01mreturn\u001B[39;00m response\n",
      "\u001B[0;31mAioRpcError\u001B[0m: <AioRpcError of RPC that terminated with:\n\tstatus = StatusCode.INVALID_ARGUMENT\n\tdetails = \"invalid argument: failed to compile filter: ERROR: <input>:1:25: undeclared reference to 'asset_ids' (in container '')\n | is_archived == false && asset_ids in ['61d6e4f0-8287-4678-b071-18a95fcd9db6']\n | ........................^ (a4aa7f59-a7f8-4026-b602-eeb00912c845)\"\n\tdebug_error_string = \"UNKNOWN:Error received from peer  {created_time:\"2025-10-10T11:51:57.213813-07:00\", grpc_status:3, grpc_message:\"invalid argument: failed to compile filter: ERROR: <input>:1:25: undeclared reference to \\'asset_ids\\' (in container \\'\\')\\n | is_archived == false && asset_ids in [\\'61d6e4f0-8287-4678-b071-18a95fcd9db6\\']\\n | ........................^ (a4aa7f59-a7f8-4026-b602-eeb00912c845)\"}\"\n>"
     ]
    }
   ],
   "execution_count": 20
  },
  {
   "metadata": {},
   "cell_type": "code",
   "outputs": [],
   "execution_count": null,
   "source": [
    "# Get a specific run\n",
    "if runs:\n",
    "    run = runs[0]\n",
    "    print(f\"✓ Selected run: {run.name}\")\n",
    "    print(f\"  ID: {run.id_}\")\n",
    "    print(f\"  Start time: {run.start_time}\")\n",
    "    print(f\"  Stop time: {run.stop_time or 'Still running'}\")\n",
    "else:\n",
    "    print(\"No runs found for this asset\")\n",
    "    run = None"
   ],
   "id": "76b25f66938cf1b6"
  },
  {
   "metadata": {},
   "cell_type": "code",
   "outputs": [],
   "execution_count": null,
   "source": [
    "# Filter runs by time range\n",
    "recent_runs = client.runs.list_(\n",
    "    assets=[asset.id_],\n",
    "    start_time_after=datetime.now() - timedelta(days=7),\n",
    "    limit=5\n",
    ")\n",
    "\n",
    "print(f\"Runs started in the last 7 days: {len(recent_runs)}\")"
   ],
   "id": "15c0bca4bde0101b"
  },
  {
   "metadata": {},
   "cell_type": "markdown",
   "source": [
    "## Searching Channels\n",
    "\n",
    "Channels represent time-series data streams (e.g., sensor readings, telemetry)."
   ],
   "id": "c1830f179b22cb43"
  },
  {
   "metadata": {},
   "cell_type": "code",
   "outputs": [],
   "execution_count": null,
   "source": [
    "# List channels for the selected asset\n",
    "channels = client.channels.list_(\n",
    "    asset=asset.id_,\n",
    "    limit=20\n",
    ")\n",
    "\n",
    "print(f\"Found {len(channels)} channels for asset '{asset.name}':\")\n",
    "for channel in channels[:10]:  # Show first 10\n",
    "    print(f\"  - {channel.name}\")\n",
    "    if channel.description:\n",
    "        print(f\"    Description: {channel.description}\")\n",
    "    if channel.units:\n",
    "        print(f\"    Units: {channel.units}\")"
   ],
   "id": "9c5a1b60c0fce9fc"
  },
  {
   "metadata": {},
   "cell_type": "code",
   "outputs": [],
   "execution_count": null,
   "source": [
    "# Search for specific channels by name pattern\n",
    "# Replace with a pattern that matches your channel names\n",
    "velocity_channels = client.channels.list_(\n",
    "    asset=asset.id_,\n",
    "    name_contains=\"velocity\",\n",
    "    limit=10\n",
    ")\n",
    "\n",
    "print(f\"Channels containing 'velocity': {len(velocity_channels)}\")\n",
    "for ch in velocity_channels:\n",
    "    print(f\"  - {ch.name}\")"
   ],
   "id": "c2317d7f561926d6"
  },
  {
   "metadata": {},
   "cell_type": "code",
   "outputs": [],
   "execution_count": null,
   "source": [
    "# Get channels for a specific run\n",
    "if run:\n",
    "    run_channels = client.channels.list_(\n",
    "        run=run.id_,\n",
    "        limit=10\n",
    "    )\n",
    "    print(f\"Channels in run '{run.name}': {len(run_channels)}\")\n",
    "    for ch in run_channels:\n",
    "        print(f\"  - {ch.name}\")"
   ],
   "id": "1601a55853281e95"
  },
  {
   "metadata": {},
   "cell_type": "markdown",
   "source": [
    "## Pulling Data\n",
    "\n",
    "Retrieve time-series data from channels as pandas DataFrames."
   ],
   "id": "7c611ee731605cbd"
  },
  {
   "metadata": {},
   "cell_type": "code",
   "outputs": [],
   "execution_count": null,
   "source": [
    "# Get data for specific channels\n",
    "if channels and run:\n",
    "    # Select first 3 channels for this example\n",
    "    selected_channels = channels[:3]\n",
    "\n",
    "    print(f\"Fetching data for {len(selected_channels)} channels...\")\n",
    "\n",
    "    # Get data as a dictionary of pandas DataFrames\n",
    "    data = client.channels.get_data(\n",
    "        channels=selected_channels,\n",
    "        run=run.id_,\n",
    "        limit=1000  # Limit to 1000 data points per channel\n",
    "    )\n",
    "\n",
    "    print(f\"\\n✓ Retrieved data for {len(data)} channels:\")\n",
    "    for channel_name, df in data.items():\n",
    "        print(f\"\\n  Channel: {channel_name}\")\n",
    "        print(f\"  Data points: {len(df)}\")\n",
    "        if len(df) > 0:\n",
    "            print(f\"  Columns: {list(df.columns)}\")\n",
    "            print(f\"  Sample data:\")\n",
    "            print(df.head())\n",
    "else:\n",
    "    print(\"No channels or run available to fetch data\")"
   ],
   "id": "b6b40678b0bbe34e"
  },
  {
   "metadata": {},
   "cell_type": "code",
   "outputs": [],
   "execution_count": null,
   "source": [
    "# Get data for a specific time range\n",
    "if channels and run and run.start_time:\n",
    "    selected_channels = channels[:2]\n",
    "\n",
    "    # Get data for first hour of the run\n",
    "    start_time = run.start_time\n",
    "    end_time = start_time + timedelta(hours=1)\n",
    "\n",
    "    print(f\"Fetching data from {start_time} to {end_time}...\")\n",
    "\n",
    "    data = client.channels.get_data(\n",
    "        channels=selected_channels,\n",
    "        run=run.id_,\n",
    "        start_time=start_time,\n",
    "        end_time=end_time\n",
    "    )\n",
    "\n",
    "    print(f\"\\n✓ Retrieved time-ranged data:\")\n",
    "    for channel_name, df in data.items():\n",
    "        print(f\"  {channel_name}: {len(df)} data points\")"
   ],
   "id": "258bccc4cd8868e2"
  },
  {
   "metadata": {},
   "cell_type": "markdown",
   "source": [
    "## Creating Calculated Channels\n",
    "\n",
    "Calculated channels allow you to create derived metrics from existing channels using mathematical expressions."
   ],
   "id": "b6c81e31a31fdc03"
  },
  {
   "metadata": {},
   "cell_type": "code",
   "outputs": [],
   "execution_count": null,
   "source": [
    "# Create a calculated channel\n",
    "# This example creates a channel that divides two existing channels\n",
    "# Replace channel names with actual channels from your system\n",
    "\n",
    "if len(channels) >= 2:\n",
    "    # Use first two channels for this example\n",
    "    channel1 = channels[0]\n",
    "    channel2 = channels[1]\n",
    "\n",
    "    calc_channel_name = f\"{channel1.name}_per_{channel2.name}\"\n",
    "\n",
    "    # Check if calculated channel already exists\n",
    "    existing = client.calculated_channels.find(\n",
    "        name=calc_channel_name,\n",
    "        asset=asset.id_\n",
    "    )\n",
    "\n",
    "    if existing:\n",
    "        print(f\"Calculated channel '{calc_channel_name}' already exists\")\n",
    "        calc_channel = existing\n",
    "    else:\n",
    "        print(f\"Creating calculated channel: {calc_channel_name}\")\n",
    "\n",
    "        calc_channel = client.calculated_channels.create(\n",
    "            CalculatedChannelCreate(\n",
    "                name=calc_channel_name,\n",
    "                description=f\"Ratio of {channel1.name} to {channel2.name}\",\n",
    "                expression=\"$1 / $2\",  # $1 and $2 refer to the channel references below\n",
    "                channel_references=[\n",
    "                    ChannelReference(\n",
    "                        channel_reference=\"$1\",\n",
    "                        channel_identifier=channel1.name\n",
    "                    ),\n",
    "                    ChannelReference(\n",
    "                        channel_reference=\"$2\",\n",
    "                        channel_identifier=channel2.name\n",
    "                    ),\n",
    "                ],\n",
    "                units=f\"{channel1.units or 'unit1'}/{channel2.units or 'unit2'}\",\n",
    "                asset_ids=[asset.id_],\n",
    "            )\n",
    "        )\n",
    "\n",
    "        print(f\"✓ Created calculated channel: {calc_channel.name}\")\n",
    "        print(f\"  ID: {calc_channel.id_}\")\n",
    "        print(f\"  Expression: {calc_channel.expression}\")\n",
    "else:\n",
    "    print(\"Not enough channels available to create a calculated channel\")\n",
    "    calc_channel = None"
   ],
   "id": "70a5b0d39e5230c4"
  },
  {
   "metadata": {},
   "cell_type": "code",
   "outputs": [],
   "execution_count": null,
   "source": [
    "# List all calculated channels for the asset\n",
    "calc_channels = client.calculated_channels.list_(\n",
    "    asset=asset.id_,\n",
    "    limit=10\n",
    ")\n",
    "\n",
    "print(f\"Calculated channels for asset '{asset.name}': {len(calc_channels)}\")\n",
    "for cc in calc_channels:\n",
    "    print(f\"  - {cc.name}\")\n",
    "    print(f\"    Expression: {cc.expression}\")\n",
    "    print(f\"    Version: {cc.version}\")"
   ],
   "id": "c3be1f869e83d59d"
  },
  {
   "metadata": {},
   "cell_type": "markdown",
   "source": [
    "## Setting Rules\n",
    "\n",
    "Rules allow you to define conditions that trigger actions (like creating annotations) when met."
   ],
   "id": "f0e1d24d6fc507a2"
  },
  {
   "metadata": {},
   "cell_type": "code",
   "outputs": [],
   "execution_count": null,
   "source": [
    "# Create a rule that monitors a channel or calculated channel\n",
    "# This example creates a rule that triggers when a value exceeds a threshold\n",
    "\n",
    "if calc_channel:\n",
    "    rule_name = f\"high_{calc_channel.name}_alert\"\n",
    "\n",
    "    # Check if rule already exists\n",
    "    existing_rule = client.rules.find(name=rule_name)\n",
    "\n",
    "    if existing_rule:\n",
    "        print(f\"Rule '{rule_name}' already exists\")\n",
    "        rule = existing_rule\n",
    "    else:\n",
    "        print(f\"Creating rule: {rule_name}\")\n",
    "\n",
    "        rule = client.rules.create(\n",
    "            RuleCreate(\n",
    "                name=rule_name,\n",
    "                description=f\"Alert when {calc_channel.name} exceeds threshold\",\n",
    "                expression=\"$1 > 10\",  # Adjust threshold as needed\n",
    "                channel_references=[\n",
    "                    ChannelReference(\n",
    "                        channel_reference=\"$1\",\n",
    "                        channel_identifier=calc_channel.name\n",
    "                    ),\n",
    "                ],\n",
    "                action=RuleAction.annotation(\n",
    "                    annotation_type=RuleAnnotationType.DATA_REVIEW,\n",
    "                    tags=[\"high_value\", \"alert\"],\n",
    "                    default_assignee_user_id=None,\n",
    "                ),\n",
    "                asset_ids=[asset.id_],\n",
    "            )\n",
    "        )\n",
    "\n",
    "        print(f\"✓ Created rule: {rule.name}\")\n",
    "        print(f\"  ID: {rule.id_}\")\n",
    "        print(f\"  Expression: {rule.expression}\")\n",
    "        print(f\"  Enabled: {rule.is_enabled}\")\n",
    "elif channels:\n",
    "    # Create a rule using a regular channel\n",
    "    channel = channels[0]\n",
    "    rule_name = f\"high_{channel.name}_alert\"\n",
    "\n",
    "    existing_rule = client.rules.find(name=rule_name)\n",
    "\n",
    "    if existing_rule:\n",
    "        print(f\"Rule '{rule_name}' already exists\")\n",
    "        rule = existing_rule\n",
    "    else:\n",
    "        print(f\"Creating rule: {rule_name}\")\n",
    "\n",
    "        rule = client.rules.create(\n",
    "            RuleCreate(\n",
    "                name=rule_name,\n",
    "                description=f\"Alert when {channel.name} exceeds threshold\",\n",
    "                expression=\"$1 > 100\",  # Adjust threshold as needed\n",
    "                channel_references=[\n",
    "                    ChannelReference(\n",
    "                        channel_reference=\"$1\",\n",
    "                        channel_identifier=channel.name\n",
    "                    ),\n",
    "                ],\n",
    "                action=RuleAction.annotation(\n",
    "                    annotation_type=RuleAnnotationType.DATA_REVIEW,\n",
    "                    tags=[\"threshold_exceeded\"],\n",
    "                    default_assignee_user_id=None,\n",
    "                ),\n",
    "                asset_ids=[asset.id_],\n",
    "            )\n",
    "        )\n",
    "\n",
    "        print(f\"✓ Created rule: {rule.name}\")\n",
    "else:\n",
    "    print(\"No channels available to create a rule\")\n",
    "    rule = None"
   ],
   "id": "cd85739f690f302d"
  },
  {
   "metadata": {},
   "cell_type": "code",
   "outputs": [],
   "execution_count": null,
   "source": [
    "# List all rules for the asset\n",
    "rules = client.rules.list_(\n",
    "    asset_ids=[asset.id_],\n",
    "    limit=10\n",
    ")\n",
    "\n",
    "print(f\"Rules for asset '{asset.name}': {len(rules)}\")\n",
    "for r in rules:\n",
    "    status = \"Enabled\" if r.is_enabled else \"Disabled\"\n",
    "    print(f\"  - {r.name} ({status})\")\n",
    "    print(f\"    Expression: {r.expression}\")\n",
    "    if r.action:\n",
    "        print(f\"    Action: {r.action.action_type.name}\")"
   ],
   "id": "3d53d29ebec3a241"
  },
  {
   "metadata": {},
   "cell_type": "markdown",
   "source": [
    "## Summary\n",
    "\n",
    "This notebook demonstrated:\n",
    "1. ✓ Initializing the Sift client with API credentials\n",
    "2. ✓ Finding and filtering assets\n",
    "3. ✓ Finding and filtering runs\n",
    "4. ✓ Searching for channels by various criteria\n",
    "5. ✓ Pulling time-series data as pandas DataFrames\n",
    "6. ✓ Creating calculated channels with mathematical expressions\n",
    "7. ✓ Setting up rules with conditions and actions\n",
    "\n",
    "### Next Steps\n",
    "- Explore more filtering options for assets, runs, and channels\n",
    "- Create more complex calculated channels with advanced expressions\n",
    "- Set up rules with different action types (webhooks, etc.)\n",
    "- Visualize the data using matplotlib or plotly\n",
    "- Use the async API for better performance in production applications"
   ],
   "id": "ab250c26a5bfd825"
  },
  {
   "metadata": {},
   "cell_type": "code",
   "outputs": [],
   "execution_count": null,
   "source": [
    "# Optional: Clean up resources\n",
    "# Uncomment to archive the created calculated channel and rule\n",
    "\n",
    "# if calc_channel:\n",
    "#     calc_channel.archive()\n",
    "#     print(f\"Archived calculated channel: {calc_channel.name}\")\n",
    "\n",
    "# if rule:\n",
    "#     rule.archive()\n",
    "#     print(f\"Archived rule: {rule.name}\")\n",
    "\n",
    "print(\"\\n✓ Example complete!\")"
   ],
   "id": "37b76600aedba1a1"
  }
 ],
 "metadata": {
  "kernelspec": {
   "display_name": "Python 3",
   "language": "python",
   "name": "python3"
  },
  "language_info": {
   "codemirror_mode": {
    "name": "ipython",
    "version": 3
   },
   "file_extension": ".py",
   "mimetype": "text/x-python",
   "name": "python",
   "nbconvert_exporter": "python",
   "pygments_lexer": "ipython3",
   "version": "3.12.0"
  }
 },
 "nbformat": 4,
 "nbformat_minor": 5
}
