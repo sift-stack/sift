{
 "cells": [
  {
   "cell_type": "markdown",
   "id": "header",
   "metadata": {},
   "source": [
    "# Sift Client Basic Example\n",
    "\n",
    "This notebook demonstrates the core features of the Sift Python client:\n",
    "- Initializing the Sift client\n",
    "- Finding, creating, and updating resources\n",
    "- Searching channels\n",
    "- Pulling data\n",
    "- Creating calculated channels"
   ]
  },
  {
   "cell_type": "markdown",
   "id": "ef259d05fa338580",
   "metadata": {},
   "source": [
    "## Running this notebook\n",
    "\n",
    "This notebook is written in Jupyter Notebook format and can be run in any Jupyter environment.\n",
    "\n",
    "Some additional package prerequisites are required to run this notebook\n",
    "- `notebook` for running Jupyter Notebooks\n",
    "- `python-dotenv` for loading environment variables\n",
    "- `rich` for pretty-printing output\n",
    "- `pandas` for data manipulation and analysis\n",
    "- `matplotlib` for data visualization\n",
    "\n",
    "You can install these packages using `pip install notebook rich python-dotenv pandas matplotlib`."
   ]
  },
  {
   "cell_type": "markdown",
   "id": "f2bbc03e85aa2973",
   "metadata": {},
   "source": [
    "## Setup and Initialization\n",
    "\n",
    "First, import the necessary modules and initialize the Sift client with your credentials.\n",
    "\n",
    "Best practice is to access credentials using environment variables or a `.env` file with `python-dotenv`. Avoid hardcoding your API in any code you write."
   ]
  },
  {
   "cell_type": "code",
   "execution_count": 41,
   "id": "497279d83878122e",
   "metadata": {
    "ExecuteTime": {
     "end_time": "2025-10-10T21:43:38.990325Z",
     "start_time": "2025-10-10T21:43:38.928304Z"
    }
   },
   "outputs": [],
   "source": [
    "import os\n",
    "from datetime import datetime, timedelta\n",
    "\n",
    "from dotenv import load_dotenv\n",
    "from rich import print\n",
    "from sift_client import SiftClient"
   ]
  },
  {
   "cell_type": "code",
   "execution_count": 42,
   "id": "3492e85e32f1f568",
   "metadata": {
    "ExecuteTime": {
     "end_time": "2025-10-10T21:43:39.071502Z",
     "start_time": "2025-10-10T21:43:39.006349Z"
    }
   },
   "outputs": [
    {
     "data": {
      "text/html": [
       "<pre style=\"white-space:pre;overflow-x:auto;line-height:normal;font-family:Menlo,'DejaVu Sans Mono',consolas,'Courier New',monospace\">✓ Sift client initialized successfully\n",
       "</pre>\n"
      ],
      "text/plain": [
       "✓ Sift client initialized successfully\n"
      ]
     },
     "jetTransient": {
      "display_id": null
     },
     "metadata": {},
     "output_type": "display_data"
    }
   ],
   "source": [
    "# Get our environment variables\n",
    "load_dotenv()  # Load environment variables from .env file\n",
    "api_key = os.getenv(\"SIFT_API_KEY\")\n",
    "grpc_url = os.getenv(\"SIFT_GRPC_URI\")\n",
    "rest_url = os.getenv(\"SIFT_REST_URI\")\n",
    "\n",
    "client = SiftClient(api_key=api_key, grpc_url=grpc_url, rest_url=rest_url)\n",
    "\n",
    "print(\"✓ Sift client initialized successfully\")"
   ]
  },
  {
   "cell_type": "markdown",
   "id": "378db56e29b1a355",
   "metadata": {},
   "source": [
    "## Sift Resources\n",
    "\n",
    "Sift objects, such as Assets, Runs, etc. are all accessed via their API resources.\n",
    "\n",
    "The [SiftClient](../../reference/sift_client/#sift_client.SiftClient) class provides these resources as properties\n",
    "\n",
    "* `assets`\n",
    "* `runs`\n",
    "* etc.\n",
    "\n",
    "Asynchronous versions are also available by accessing the `async_` property of the client. For example\n",
    "\n",
    "* `client.async_.assets`\n",
    "* `client.async_.runs`\n",
    "* etc.\n",
    "\n",
    "For example, the `Ping` resource can be used for a basic health check."
   ]
  },
  {
   "cell_type": "code",
   "execution_count": 55,
   "id": "fb2db56e076eabec",
   "metadata": {
    "ExecuteTime": {
     "end_time": "2025-10-10T21:44:59.942480Z",
     "start_time": "2025-10-10T21:44:59.885641Z"
    }
   },
   "outputs": [
    {
     "data": {
      "text/plain": [
       "'Hello from Sift!'"
      ]
     },
     "execution_count": 55,
     "metadata": {},
     "output_type": "execute_result"
    }
   ],
   "source": [
    "client.ping.ping()"
   ]
  },
  {
   "cell_type": "markdown",
   "id": "25d1ee945819d7ec",
   "metadata": {},
   "source": [
    "## Assets and Runs\n",
    "\n",
    "Assets represent physical or logical entities in your system (e.g., vehicles, machines, devices). Runs represent time-bounded operational periods for an asset (e.g., a flight, a test, a mission)."
   ]
  },
  {
   "cell_type": "markdown",
   "id": "894e74a9efdc603e",
   "metadata": {},
   "source": [
    "Resources generally offer similar interaction patterns and methods. For example, the `AssetsAPI` has\n",
    "* `get`\n",
    "* `list_`\n",
    "* `find`\n",
    "* `update`\n",
    "* `archive`\n",
    "* `unarchive`\n",
    "\n",
    "Other resources may offer additional methods such as `create`.\n",
    "\n",
    "These resource methods operate on and will return Sift object types. More on tehse can be found here: [sift_types](../../reference/sift_client/sift_types/)"
   ]
  },
  {
   "cell_type": "markdown",
   "id": "86b7b129ccbb2956",
   "metadata": {},
   "source": [
    "## Listing, Finding, and Getting\n",
    "\n",
    "`list_` can be used to retrieve objects that match a specific set of criteria:"
   ]
  },
  {
   "cell_type": "code",
   "execution_count": 44,
   "id": "49992189f605c3e4",
   "metadata": {
    "ExecuteTime": {
     "end_time": "2025-10-10T21:43:39.721956Z",
     "start_time": "2025-10-10T21:43:39.665955Z"
    }
   },
   "outputs": [
    {
     "data": {
      "text/html": [
       "<pre style=\"white-space:pre;overflow-x:auto;line-height:normal;font-family:Menlo,'DejaVu Sans Mono',consolas,'Courier New',monospace\">Name: MarsRoverIngestPusher, ID: <span style=\"color: #ffff00; text-decoration-color: #ffff00\">429b864b-0911-4e23-b9d1-2a1fba4d441c</span>\n",
       "</pre>\n"
      ],
      "text/plain": [
       "Name: MarsRoverIngestPusher, ID: \u001b[93m429b864b-0911-4e23-b9d1-2a1fba4d441c\u001b[0m\n"
      ]
     },
     "jetTransient": {
      "display_id": null
     },
     "metadata": {},
     "output_type": "display_data"
    },
    {
     "data": {
      "text/html": [
       "<pre style=\"white-space:pre;overflow-x:auto;line-height:normal;font-family:Menlo,'DejaVu Sans Mono',consolas,'Courier New',monospace\">Name: Mars Rover <span style=\"font-weight: bold\">[</span>Jonno export test<span style=\"font-weight: bold\">]</span>, ID: <span style=\"color: #ffff00; text-decoration-color: #ffff00\">5d86ed46-dec6-41c8-8680-a0ba02d9e546</span>\n",
       "</pre>\n"
      ],
      "text/plain": [
       "Name: Mars Rover \u001b[1m[\u001b[0mJonno export test\u001b[1m]\u001b[0m, ID: \u001b[93m5d86ed46-dec6-41c8-8680-a0ba02d9e546\u001b[0m\n"
      ]
     },
     "jetTransient": {
      "display_id": null
     },
     "metadata": {},
     "output_type": "display_data"
    },
    {
     "data": {
      "text/html": [
       "<pre style=\"white-space:pre;overflow-x:auto;line-height:normal;font-family:Menlo,'DejaVu Sans Mono',consolas,'Courier New',monospace\">Name: MarsRover_pb4, ID: <span style=\"color: #ffff00; text-decoration-color: #ffff00\">9bb3bfec-840d-40b7-a5ab-25591f9a1b38</span>\n",
       "</pre>\n"
      ],
      "text/plain": [
       "Name: MarsRover_pb4, ID: \u001b[93m9bb3bfec-840d-40b7-a5ab-25591f9a1b38\u001b[0m\n"
      ]
     },
     "jetTransient": {
      "display_id": null
     },
     "metadata": {},
     "output_type": "display_data"
    },
    {
     "data": {
      "text/html": [
       "<pre style=\"white-space:pre;overflow-x:auto;line-height:normal;font-family:Menlo,'DejaVu Sans Mono',consolas,'Courier New',monospace\">Name: MarsRover, ID: <span style=\"color: #ffff00; text-decoration-color: #ffff00\">611914d3-ffb1-402e-ae1e-5eb3e66dea7c</span>\n",
       "</pre>\n"
      ],
      "text/plain": [
       "Name: MarsRover, ID: \u001b[93m611914d3-ffb1-402e-ae1e-5eb3e66dea7c\u001b[0m\n"
      ]
     },
     "jetTransient": {
      "display_id": null
     },
     "metadata": {},
     "output_type": "display_data"
    },
    {
     "data": {
      "text/html": [
       "<pre style=\"white-space:pre;overflow-x:auto;line-height:normal;font-family:Menlo,'DejaVu Sans Mono',consolas,'Courier New',monospace\">Name: MarsRover42NaN, ID: <span style=\"color: #ffff00; text-decoration-color: #ffff00\">0ad88099-1aea-461c-91b5-0a91c7811f74</span>\n",
       "</pre>\n"
      ],
      "text/plain": [
       "Name: MarsRover42NaN, ID: \u001b[93m0ad88099-1aea-461c-91b5-0a91c7811f74\u001b[0m\n"
      ]
     },
     "jetTransient": {
      "display_id": null
     },
     "metadata": {},
     "output_type": "display_data"
    }
   ],
   "source": [
    "# List all assets (limited to 10 for this example)\n",
    "assets = client.assets.list_(name_contains=\"Mars\", limit=5)\n",
    "for asset in assets:\n",
    "    print(f\"Name: {asset.name}, ID: {asset.id_}\")"
   ]
  },
  {
   "cell_type": "markdown",
   "id": "a04618d6724e3a2d",
   "metadata": {},
   "source": "`find` can be used to find a single matching object. It will return an error if multiple are found. It takes the same arguments and filters as `list_`."
  },
  {
   "cell_type": "code",
   "execution_count": 45,
   "id": "8b4b9ce9b806a576",
   "metadata": {
    "ExecuteTime": {
     "end_time": "2025-10-10T21:43:39.790539Z",
     "start_time": "2025-10-10T21:43:39.732441Z"
    }
   },
   "outputs": [
    {
     "data": {
      "text/html": [
       "<pre style=\"white-space:pre;overflow-x:auto;line-height:normal;font-family:Menlo,'DejaVu Sans Mono',consolas,'Courier New',monospace\"><span style=\"color: #800080; text-decoration-color: #800080; font-weight: bold\">Asset</span><span style=\"font-weight: bold\">(</span>\n",
       "    <span style=\"color: #808000; text-decoration-color: #808000\">id_</span>=<span style=\"color: #008000; text-decoration-color: #008000\">'61d6e4f0-8287-4678-b071-18a95fcd9db6'</span>,\n",
       "    <span style=\"color: #808000; text-decoration-color: #808000\">name</span>=<span style=\"color: #008000; text-decoration-color: #008000\">'MarsRover0'</span>,\n",
       "    <span style=\"color: #808000; text-decoration-color: #808000\">organization_id</span>=<span style=\"color: #008000; text-decoration-color: #008000\">'dd9f82ef-7805-4b02-9572-ec61b71edde6'</span>,\n",
       "    <span style=\"color: #808000; text-decoration-color: #808000\">created_date</span>=<span style=\"color: #800080; text-decoration-color: #800080; font-weight: bold\">datetime</span><span style=\"color: #800080; text-decoration-color: #800080; font-weight: bold\">.datetime</span><span style=\"font-weight: bold\">(</span><span style=\"color: #008080; text-decoration-color: #008080; font-weight: bold\">2025</span>, <span style=\"color: #008080; text-decoration-color: #008080; font-weight: bold\">3</span>, <span style=\"color: #008080; text-decoration-color: #008080; font-weight: bold\">4</span>, <span style=\"color: #008080; text-decoration-color: #008080; font-weight: bold\">19</span>, <span style=\"color: #008080; text-decoration-color: #008080; font-weight: bold\">51</span>, <span style=\"color: #008080; text-decoration-color: #008080; font-weight: bold\">15</span>, <span style=\"color: #008080; text-decoration-color: #008080; font-weight: bold\">89746</span>, <span style=\"color: #808000; text-decoration-color: #808000\">tzinfo</span>=<span style=\"color: #800080; text-decoration-color: #800080\">datetime</span>.timezone.utc<span style=\"font-weight: bold\">)</span>,\n",
       "    <span style=\"color: #808000; text-decoration-color: #808000\">created_by_user_id</span>=<span style=\"color: #008000; text-decoration-color: #008000\">'f47e4854-234b-421c-badb-7f8bb757cd9d'</span>,\n",
       "    <span style=\"color: #808000; text-decoration-color: #808000\">modified_date</span>=<span style=\"color: #800080; text-decoration-color: #800080; font-weight: bold\">datetime</span><span style=\"color: #800080; text-decoration-color: #800080; font-weight: bold\">.datetime</span><span style=\"font-weight: bold\">(</span><span style=\"color: #008080; text-decoration-color: #008080; font-weight: bold\">2025</span>, <span style=\"color: #008080; text-decoration-color: #008080; font-weight: bold\">3</span>, <span style=\"color: #008080; text-decoration-color: #008080; font-weight: bold\">4</span>, <span style=\"color: #008080; text-decoration-color: #008080; font-weight: bold\">19</span>, <span style=\"color: #008080; text-decoration-color: #008080; font-weight: bold\">51</span>, <span style=\"color: #008080; text-decoration-color: #008080; font-weight: bold\">15</span>, <span style=\"color: #008080; text-decoration-color: #008080; font-weight: bold\">89746</span>, <span style=\"color: #808000; text-decoration-color: #808000\">tzinfo</span>=<span style=\"color: #800080; text-decoration-color: #800080\">datetime</span>.timezone.utc<span style=\"font-weight: bold\">)</span>,\n",
       "    <span style=\"color: #808000; text-decoration-color: #808000\">modified_by_user_id</span>=<span style=\"color: #008000; text-decoration-color: #008000\">'f47e4854-234b-421c-badb-7f8bb757cd9d'</span>,\n",
       "    <span style=\"color: #808000; text-decoration-color: #808000\">tags</span>=<span style=\"font-weight: bold\">[</span><span style=\"color: #008000; text-decoration-color: #008000\">'simulator'</span>, <span style=\"color: #008000; text-decoration-color: #008000\">'speed-test'</span><span style=\"font-weight: bold\">]</span>,\n",
       "    <span style=\"color: #808000; text-decoration-color: #808000\">metadata</span>=<span style=\"font-weight: bold\">{</span><span style=\"color: #008000; text-decoration-color: #008000\">'vehicle_type'</span>: <span style=\"color: #008000; text-decoration-color: #008000\">'rover'</span>, <span style=\"color: #008000; text-decoration-color: #008000\">'vehicle_version'</span>: <span style=\"color: #008080; text-decoration-color: #008080; font-weight: bold\">123123123.0</span>, <span style=\"color: #008000; text-decoration-color: #008000\">'version_active'</span>: <span style=\"color: #00ff00; text-decoration-color: #00ff00; font-style: italic\">True</span><span style=\"font-weight: bold\">}</span>,\n",
       "    <span style=\"color: #808000; text-decoration-color: #808000\">is_archived</span>=<span style=\"color: #ff0000; text-decoration-color: #ff0000; font-style: italic\">False</span>,\n",
       "    <span style=\"color: #808000; text-decoration-color: #808000\">archived_date</span>=<span style=\"color: #800080; text-decoration-color: #800080; font-weight: bold\">datetime</span><span style=\"color: #800080; text-decoration-color: #800080; font-weight: bold\">.datetime</span><span style=\"font-weight: bold\">(</span><span style=\"color: #008080; text-decoration-color: #008080; font-weight: bold\">1970</span>, <span style=\"color: #008080; text-decoration-color: #008080; font-weight: bold\">1</span>, <span style=\"color: #008080; text-decoration-color: #008080; font-weight: bold\">1</span>, <span style=\"color: #008080; text-decoration-color: #008080; font-weight: bold\">0</span>, <span style=\"color: #008080; text-decoration-color: #008080; font-weight: bold\">0</span>, <span style=\"color: #808000; text-decoration-color: #808000\">tzinfo</span>=<span style=\"color: #800080; text-decoration-color: #800080\">datetime</span>.timezone.utc<span style=\"font-weight: bold\">)</span>\n",
       "<span style=\"font-weight: bold\">)</span>\n",
       "</pre>\n"
      ],
      "text/plain": [
       "\u001b[1;35mAsset\u001b[0m\u001b[1m(\u001b[0m\n",
       "    \u001b[33mid_\u001b[0m=\u001b[32m'61d6e4f0-8287-4678-b071-18a95fcd9db6'\u001b[0m,\n",
       "    \u001b[33mname\u001b[0m=\u001b[32m'MarsRover0'\u001b[0m,\n",
       "    \u001b[33morganization_id\u001b[0m=\u001b[32m'dd9f82ef-7805-4b02-9572-ec61b71edde6'\u001b[0m,\n",
       "    \u001b[33mcreated_date\u001b[0m=\u001b[1;35mdatetime\u001b[0m\u001b[1;35m.datetime\u001b[0m\u001b[1m(\u001b[0m\u001b[1;36m2025\u001b[0m, \u001b[1;36m3\u001b[0m, \u001b[1;36m4\u001b[0m, \u001b[1;36m19\u001b[0m, \u001b[1;36m51\u001b[0m, \u001b[1;36m15\u001b[0m, \u001b[1;36m89746\u001b[0m, \u001b[33mtzinfo\u001b[0m=\u001b[35mdatetime\u001b[0m.timezone.utc\u001b[1m)\u001b[0m,\n",
       "    \u001b[33mcreated_by_user_id\u001b[0m=\u001b[32m'f47e4854-234b-421c-badb-7f8bb757cd9d'\u001b[0m,\n",
       "    \u001b[33mmodified_date\u001b[0m=\u001b[1;35mdatetime\u001b[0m\u001b[1;35m.datetime\u001b[0m\u001b[1m(\u001b[0m\u001b[1;36m2025\u001b[0m, \u001b[1;36m3\u001b[0m, \u001b[1;36m4\u001b[0m, \u001b[1;36m19\u001b[0m, \u001b[1;36m51\u001b[0m, \u001b[1;36m15\u001b[0m, \u001b[1;36m89746\u001b[0m, \u001b[33mtzinfo\u001b[0m=\u001b[35mdatetime\u001b[0m.timezone.utc\u001b[1m)\u001b[0m,\n",
       "    \u001b[33mmodified_by_user_id\u001b[0m=\u001b[32m'f47e4854-234b-421c-badb-7f8bb757cd9d'\u001b[0m,\n",
       "    \u001b[33mtags\u001b[0m=\u001b[1m[\u001b[0m\u001b[32m'simulator'\u001b[0m, \u001b[32m'speed-test'\u001b[0m\u001b[1m]\u001b[0m,\n",
       "    \u001b[33mmetadata\u001b[0m=\u001b[1m{\u001b[0m\u001b[32m'vehicle_type'\u001b[0m: \u001b[32m'rover'\u001b[0m, \u001b[32m'vehicle_version'\u001b[0m: \u001b[1;36m123123123.0\u001b[0m, \u001b[32m'version_active'\u001b[0m: \u001b[3;92mTrue\u001b[0m\u001b[1m}\u001b[0m,\n",
       "    \u001b[33mis_archived\u001b[0m=\u001b[3;91mFalse\u001b[0m,\n",
       "    \u001b[33marchived_date\u001b[0m=\u001b[1;35mdatetime\u001b[0m\u001b[1;35m.datetime\u001b[0m\u001b[1m(\u001b[0m\u001b[1;36m1970\u001b[0m, \u001b[1;36m1\u001b[0m, \u001b[1;36m1\u001b[0m, \u001b[1;36m0\u001b[0m, \u001b[1;36m0\u001b[0m, \u001b[33mtzinfo\u001b[0m=\u001b[35mdatetime\u001b[0m.timezone.utc\u001b[1m)\u001b[0m\n",
       "\u001b[1m)\u001b[0m\n"
      ]
     },
     "jetTransient": {
      "display_id": null
     },
     "metadata": {},
     "output_type": "display_data"
    }
   ],
   "source": [
    "# Find a specific asset by name\n",
    "asset_name = \"MarsRover0\"\n",
    "asset = client.assets.find(name=asset_name)\n",
    "print(asset)"
   ]
  },
  {
   "cell_type": "markdown",
   "id": "1df0e447f3a04c98",
   "metadata": {},
   "source": "When we know exactly what we are looking for, we can use `get`."
  },
  {
   "cell_type": "code",
   "execution_count": 46,
   "id": "d8c650d021ff4af8",
   "metadata": {
    "ExecuteTime": {
     "end_time": "2025-10-10T21:43:39.857266Z",
     "start_time": "2025-10-10T21:43:39.798877Z"
    }
   },
   "outputs": [
    {
     "data": {
      "text/html": [
       "<pre style=\"white-space:pre;overflow-x:auto;line-height:normal;font-family:Menlo,'DejaVu Sans Mono',consolas,'Courier New',monospace\"><span style=\"color: #800080; text-decoration-color: #800080; font-weight: bold\">Asset</span><span style=\"font-weight: bold\">(</span>\n",
       "    <span style=\"color: #808000; text-decoration-color: #808000\">id_</span>=<span style=\"color: #008000; text-decoration-color: #008000\">'61d6e4f0-8287-4678-b071-18a95fcd9db6'</span>,\n",
       "    <span style=\"color: #808000; text-decoration-color: #808000\">name</span>=<span style=\"color: #008000; text-decoration-color: #008000\">'MarsRover0'</span>,\n",
       "    <span style=\"color: #808000; text-decoration-color: #808000\">organization_id</span>=<span style=\"color: #008000; text-decoration-color: #008000\">'dd9f82ef-7805-4b02-9572-ec61b71edde6'</span>,\n",
       "    <span style=\"color: #808000; text-decoration-color: #808000\">created_date</span>=<span style=\"color: #800080; text-decoration-color: #800080; font-weight: bold\">datetime</span><span style=\"color: #800080; text-decoration-color: #800080; font-weight: bold\">.datetime</span><span style=\"font-weight: bold\">(</span><span style=\"color: #008080; text-decoration-color: #008080; font-weight: bold\">2025</span>, <span style=\"color: #008080; text-decoration-color: #008080; font-weight: bold\">3</span>, <span style=\"color: #008080; text-decoration-color: #008080; font-weight: bold\">4</span>, <span style=\"color: #008080; text-decoration-color: #008080; font-weight: bold\">19</span>, <span style=\"color: #008080; text-decoration-color: #008080; font-weight: bold\">51</span>, <span style=\"color: #008080; text-decoration-color: #008080; font-weight: bold\">15</span>, <span style=\"color: #008080; text-decoration-color: #008080; font-weight: bold\">89746</span>, <span style=\"color: #808000; text-decoration-color: #808000\">tzinfo</span>=<span style=\"color: #800080; text-decoration-color: #800080\">datetime</span>.timezone.utc<span style=\"font-weight: bold\">)</span>,\n",
       "    <span style=\"color: #808000; text-decoration-color: #808000\">created_by_user_id</span>=<span style=\"color: #008000; text-decoration-color: #008000\">'f47e4854-234b-421c-badb-7f8bb757cd9d'</span>,\n",
       "    <span style=\"color: #808000; text-decoration-color: #808000\">modified_date</span>=<span style=\"color: #800080; text-decoration-color: #800080; font-weight: bold\">datetime</span><span style=\"color: #800080; text-decoration-color: #800080; font-weight: bold\">.datetime</span><span style=\"font-weight: bold\">(</span><span style=\"color: #008080; text-decoration-color: #008080; font-weight: bold\">2025</span>, <span style=\"color: #008080; text-decoration-color: #008080; font-weight: bold\">3</span>, <span style=\"color: #008080; text-decoration-color: #008080; font-weight: bold\">4</span>, <span style=\"color: #008080; text-decoration-color: #008080; font-weight: bold\">19</span>, <span style=\"color: #008080; text-decoration-color: #008080; font-weight: bold\">51</span>, <span style=\"color: #008080; text-decoration-color: #008080; font-weight: bold\">15</span>, <span style=\"color: #008080; text-decoration-color: #008080; font-weight: bold\">89746</span>, <span style=\"color: #808000; text-decoration-color: #808000\">tzinfo</span>=<span style=\"color: #800080; text-decoration-color: #800080\">datetime</span>.timezone.utc<span style=\"font-weight: bold\">)</span>,\n",
       "    <span style=\"color: #808000; text-decoration-color: #808000\">modified_by_user_id</span>=<span style=\"color: #008000; text-decoration-color: #008000\">'f47e4854-234b-421c-badb-7f8bb757cd9d'</span>,\n",
       "    <span style=\"color: #808000; text-decoration-color: #808000\">tags</span>=<span style=\"font-weight: bold\">[</span><span style=\"color: #008000; text-decoration-color: #008000\">'simulator'</span>, <span style=\"color: #008000; text-decoration-color: #008000\">'speed-test'</span><span style=\"font-weight: bold\">]</span>,\n",
       "    <span style=\"color: #808000; text-decoration-color: #808000\">metadata</span>=<span style=\"font-weight: bold\">{</span><span style=\"color: #008000; text-decoration-color: #008000\">'vehicle_type'</span>: <span style=\"color: #008000; text-decoration-color: #008000\">'rover'</span>, <span style=\"color: #008000; text-decoration-color: #008000\">'vehicle_version'</span>: <span style=\"color: #008080; text-decoration-color: #008080; font-weight: bold\">123123123.0</span>, <span style=\"color: #008000; text-decoration-color: #008000\">'version_active'</span>: <span style=\"color: #00ff00; text-decoration-color: #00ff00; font-style: italic\">True</span><span style=\"font-weight: bold\">}</span>,\n",
       "    <span style=\"color: #808000; text-decoration-color: #808000\">is_archived</span>=<span style=\"color: #ff0000; text-decoration-color: #ff0000; font-style: italic\">False</span>,\n",
       "    <span style=\"color: #808000; text-decoration-color: #808000\">archived_date</span>=<span style=\"color: #800080; text-decoration-color: #800080; font-weight: bold\">datetime</span><span style=\"color: #800080; text-decoration-color: #800080; font-weight: bold\">.datetime</span><span style=\"font-weight: bold\">(</span><span style=\"color: #008080; text-decoration-color: #008080; font-weight: bold\">1970</span>, <span style=\"color: #008080; text-decoration-color: #008080; font-weight: bold\">1</span>, <span style=\"color: #008080; text-decoration-color: #008080; font-weight: bold\">1</span>, <span style=\"color: #008080; text-decoration-color: #008080; font-weight: bold\">0</span>, <span style=\"color: #008080; text-decoration-color: #008080; font-weight: bold\">0</span>, <span style=\"color: #808000; text-decoration-color: #808000\">tzinfo</span>=<span style=\"color: #800080; text-decoration-color: #800080\">datetime</span>.timezone.utc<span style=\"font-weight: bold\">)</span>\n",
       "<span style=\"font-weight: bold\">)</span>\n",
       "</pre>\n"
      ],
      "text/plain": [
       "\u001b[1;35mAsset\u001b[0m\u001b[1m(\u001b[0m\n",
       "    \u001b[33mid_\u001b[0m=\u001b[32m'61d6e4f0-8287-4678-b071-18a95fcd9db6'\u001b[0m,\n",
       "    \u001b[33mname\u001b[0m=\u001b[32m'MarsRover0'\u001b[0m,\n",
       "    \u001b[33morganization_id\u001b[0m=\u001b[32m'dd9f82ef-7805-4b02-9572-ec61b71edde6'\u001b[0m,\n",
       "    \u001b[33mcreated_date\u001b[0m=\u001b[1;35mdatetime\u001b[0m\u001b[1;35m.datetime\u001b[0m\u001b[1m(\u001b[0m\u001b[1;36m2025\u001b[0m, \u001b[1;36m3\u001b[0m, \u001b[1;36m4\u001b[0m, \u001b[1;36m19\u001b[0m, \u001b[1;36m51\u001b[0m, \u001b[1;36m15\u001b[0m, \u001b[1;36m89746\u001b[0m, \u001b[33mtzinfo\u001b[0m=\u001b[35mdatetime\u001b[0m.timezone.utc\u001b[1m)\u001b[0m,\n",
       "    \u001b[33mcreated_by_user_id\u001b[0m=\u001b[32m'f47e4854-234b-421c-badb-7f8bb757cd9d'\u001b[0m,\n",
       "    \u001b[33mmodified_date\u001b[0m=\u001b[1;35mdatetime\u001b[0m\u001b[1;35m.datetime\u001b[0m\u001b[1m(\u001b[0m\u001b[1;36m2025\u001b[0m, \u001b[1;36m3\u001b[0m, \u001b[1;36m4\u001b[0m, \u001b[1;36m19\u001b[0m, \u001b[1;36m51\u001b[0m, \u001b[1;36m15\u001b[0m, \u001b[1;36m89746\u001b[0m, \u001b[33mtzinfo\u001b[0m=\u001b[35mdatetime\u001b[0m.timezone.utc\u001b[1m)\u001b[0m,\n",
       "    \u001b[33mmodified_by_user_id\u001b[0m=\u001b[32m'f47e4854-234b-421c-badb-7f8bb757cd9d'\u001b[0m,\n",
       "    \u001b[33mtags\u001b[0m=\u001b[1m[\u001b[0m\u001b[32m'simulator'\u001b[0m, \u001b[32m'speed-test'\u001b[0m\u001b[1m]\u001b[0m,\n",
       "    \u001b[33mmetadata\u001b[0m=\u001b[1m{\u001b[0m\u001b[32m'vehicle_type'\u001b[0m: \u001b[32m'rover'\u001b[0m, \u001b[32m'vehicle_version'\u001b[0m: \u001b[1;36m123123123.0\u001b[0m, \u001b[32m'version_active'\u001b[0m: \u001b[3;92mTrue\u001b[0m\u001b[1m}\u001b[0m,\n",
       "    \u001b[33mis_archived\u001b[0m=\u001b[3;91mFalse\u001b[0m,\n",
       "    \u001b[33marchived_date\u001b[0m=\u001b[1;35mdatetime\u001b[0m\u001b[1;35m.datetime\u001b[0m\u001b[1m(\u001b[0m\u001b[1;36m1970\u001b[0m, \u001b[1;36m1\u001b[0m, \u001b[1;36m1\u001b[0m, \u001b[1;36m0\u001b[0m, \u001b[1;36m0\u001b[0m, \u001b[33mtzinfo\u001b[0m=\u001b[35mdatetime\u001b[0m.timezone.utc\u001b[1m)\u001b[0m\n",
       "\u001b[1m)\u001b[0m\n"
      ]
     },
     "jetTransient": {
      "display_id": null
     },
     "metadata": {},
     "output_type": "display_data"
    }
   ],
   "source": [
    "# Get the exact asset by ID\n",
    "asset = client.assets.get(asset_id=asset.id_)\n",
    "print(asset)"
   ]
  },
  {
   "cell_type": "markdown",
   "id": "e8ebf9754df8f646",
   "metadata": {},
   "source": [
    "## Creating, Updating, and Archiving\n",
    "\n",
    "Most resources offer `create`, `update`, and `archive` methods.\n",
    "\n",
    "Since `create` returns a `Run`, we can chain `update` and `archive` on it and the Sift object will update in-place."
   ]
  },
  {
   "cell_type": "code",
   "execution_count": 47,
   "id": "143bafd4b2a5edb5",
   "metadata": {
    "ExecuteTime": {
     "end_time": "2025-10-10T21:43:39.914350Z",
     "start_time": "2025-10-10T21:43:39.860934Z"
    }
   },
   "outputs": [
    {
     "data": {
      "text/html": [
       "<pre style=\"white-space:pre;overflow-x:auto;line-height:normal;font-family:Menlo,'DejaVu Sans Mono',consolas,'Courier New',monospace\"><span style=\"color: #800080; text-decoration-color: #800080; font-weight: bold\">Run</span><span style=\"font-weight: bold\">(</span>\n",
       "    <span style=\"color: #808000; text-decoration-color: #808000\">id_</span>=<span style=\"color: #008000; text-decoration-color: #008000\">'523c6f2a-181c-4ee7-8876-421901daf97f'</span>,\n",
       "    <span style=\"color: #808000; text-decoration-color: #808000\">name</span>=<span style=\"color: #008000; text-decoration-color: #008000\">'Test Run'</span>,\n",
       "    <span style=\"color: #808000; text-decoration-color: #808000\">description</span>=<span style=\"color: #008000; text-decoration-color: #008000\">'A test run'</span>,\n",
       "    <span style=\"color: #808000; text-decoration-color: #808000\">created_date</span>=<span style=\"color: #800080; text-decoration-color: #800080; font-weight: bold\">datetime</span><span style=\"color: #800080; text-decoration-color: #800080; font-weight: bold\">.datetime</span><span style=\"font-weight: bold\">(</span><span style=\"color: #008080; text-decoration-color: #008080; font-weight: bold\">2025</span>, <span style=\"color: #008080; text-decoration-color: #008080; font-weight: bold\">10</span>, <span style=\"color: #008080; text-decoration-color: #008080; font-weight: bold\">10</span>, <span style=\"color: #008080; text-decoration-color: #008080; font-weight: bold\">21</span>, <span style=\"color: #008080; text-decoration-color: #008080; font-weight: bold\">43</span>, <span style=\"color: #008080; text-decoration-color: #008080; font-weight: bold\">39</span>, <span style=\"color: #008080; text-decoration-color: #008080; font-weight: bold\">913134</span>, <span style=\"color: #808000; text-decoration-color: #808000\">tzinfo</span>=<span style=\"color: #800080; text-decoration-color: #800080\">datetime</span>.timezone.utc<span style=\"font-weight: bold\">)</span>,\n",
       "    <span style=\"color: #808000; text-decoration-color: #808000\">modified_date</span>=<span style=\"color: #800080; text-decoration-color: #800080; font-weight: bold\">datetime</span><span style=\"color: #800080; text-decoration-color: #800080; font-weight: bold\">.datetime</span><span style=\"font-weight: bold\">(</span><span style=\"color: #008080; text-decoration-color: #008080; font-weight: bold\">2025</span>, <span style=\"color: #008080; text-decoration-color: #008080; font-weight: bold\">10</span>, <span style=\"color: #008080; text-decoration-color: #008080; font-weight: bold\">10</span>, <span style=\"color: #008080; text-decoration-color: #008080; font-weight: bold\">21</span>, <span style=\"color: #008080; text-decoration-color: #008080; font-weight: bold\">43</span>, <span style=\"color: #008080; text-decoration-color: #008080; font-weight: bold\">39</span>, <span style=\"color: #008080; text-decoration-color: #008080; font-weight: bold\">915093</span>, <span style=\"color: #808000; text-decoration-color: #808000\">tzinfo</span>=<span style=\"color: #800080; text-decoration-color: #800080\">datetime</span>.timezone.utc<span style=\"font-weight: bold\">)</span>,\n",
       "    <span style=\"color: #808000; text-decoration-color: #808000\">created_by_user_id</span>=<span style=\"color: #008000; text-decoration-color: #008000\">'ae1f6c7c-3e93-40a9-8796-d227a725662c'</span>,\n",
       "    <span style=\"color: #808000; text-decoration-color: #808000\">modified_by_user_id</span>=<span style=\"color: #008000; text-decoration-color: #008000\">'ae1f6c7c-3e93-40a9-8796-d227a725662c'</span>,\n",
       "    <span style=\"color: #808000; text-decoration-color: #808000\">organization_id</span>=<span style=\"color: #008000; text-decoration-color: #008000\">'dd9f82ef-7805-4b02-9572-ec61b71edde6'</span>,\n",
       "    <span style=\"color: #808000; text-decoration-color: #808000\">metadata</span>=<span style=\"font-weight: bold\">{}</span>,\n",
       "    <span style=\"color: #808000; text-decoration-color: #808000\">tags</span>=<span style=\"font-weight: bold\">[]</span>,\n",
       "    <span style=\"color: #808000; text-decoration-color: #808000\">asset_ids</span>=<span style=\"font-weight: bold\">[]</span>,\n",
       "    <span style=\"color: #808000; text-decoration-color: #808000\">is_adhoc</span>=<span style=\"color: #ff0000; text-decoration-color: #ff0000; font-style: italic\">False</span>,\n",
       "    <span style=\"color: #808000; text-decoration-color: #808000\">is_archived</span>=<span style=\"color: #ff0000; text-decoration-color: #ff0000; font-style: italic\">False</span>,\n",
       "    <span style=\"color: #808000; text-decoration-color: #808000\">start_time</span>=<span style=\"color: #800080; text-decoration-color: #800080; font-weight: bold\">datetime</span><span style=\"color: #800080; text-decoration-color: #800080; font-weight: bold\">.datetime</span><span style=\"font-weight: bold\">(</span><span style=\"color: #008080; text-decoration-color: #008080; font-weight: bold\">2025</span>, <span style=\"color: #008080; text-decoration-color: #008080; font-weight: bold\">10</span>, <span style=\"color: #008080; text-decoration-color: #008080; font-weight: bold\">10</span>, <span style=\"color: #008080; text-decoration-color: #008080; font-weight: bold\">14</span>, <span style=\"color: #008080; text-decoration-color: #008080; font-weight: bold\">43</span>, <span style=\"color: #008080; text-decoration-color: #008080; font-weight: bold\">39</span>, <span style=\"color: #008080; text-decoration-color: #008080; font-weight: bold\">861550</span>, <span style=\"color: #808000; text-decoration-color: #808000\">tzinfo</span>=<span style=\"color: #800080; text-decoration-color: #800080\">datetime</span>.timezone.utc<span style=\"font-weight: bold\">)</span>,\n",
       "    <span style=\"color: #808000; text-decoration-color: #808000\">stop_time</span>=<span style=\"color: #800080; text-decoration-color: #800080; font-style: italic\">None</span>,\n",
       "    <span style=\"color: #808000; text-decoration-color: #808000\">duration</span>=<span style=\"color: #800080; text-decoration-color: #800080; font-weight: bold\">datetime</span><span style=\"color: #800080; text-decoration-color: #800080; font-weight: bold\">.timedelta</span><span style=\"font-weight: bold\">(</span><span style=\"color: #808000; text-decoration-color: #808000\">seconds</span>=<span style=\"color: #008080; text-decoration-color: #008080; font-weight: bold\">25200</span>, <span style=\"color: #808000; text-decoration-color: #808000\">microseconds</span>=<span style=\"color: #008080; text-decoration-color: #008080; font-weight: bold\">54929</span><span style=\"font-weight: bold\">)</span>,\n",
       "    <span style=\"color: #808000; text-decoration-color: #808000\">default_report_id</span>=<span style=\"color: #008000; text-decoration-color: #008000\">'854787b6-4e38-4c81-bdf0-8d143c791d01'</span>,\n",
       "    <span style=\"color: #808000; text-decoration-color: #808000\">client_key</span>=<span style=\"color: #800080; text-decoration-color: #800080; font-style: italic\">None</span>,\n",
       "    <span style=\"color: #808000; text-decoration-color: #808000\">archived_date</span>=<span style=\"color: #800080; text-decoration-color: #800080; font-style: italic\">None</span>\n",
       "<span style=\"font-weight: bold\">)</span>\n",
       "</pre>\n"
      ],
      "text/plain": [
       "\u001b[1;35mRun\u001b[0m\u001b[1m(\u001b[0m\n",
       "    \u001b[33mid_\u001b[0m=\u001b[32m'523c6f2a-181c-4ee7-8876-421901daf97f'\u001b[0m,\n",
       "    \u001b[33mname\u001b[0m=\u001b[32m'Test Run'\u001b[0m,\n",
       "    \u001b[33mdescription\u001b[0m=\u001b[32m'A test run'\u001b[0m,\n",
       "    \u001b[33mcreated_date\u001b[0m=\u001b[1;35mdatetime\u001b[0m\u001b[1;35m.datetime\u001b[0m\u001b[1m(\u001b[0m\u001b[1;36m2025\u001b[0m, \u001b[1;36m10\u001b[0m, \u001b[1;36m10\u001b[0m, \u001b[1;36m21\u001b[0m, \u001b[1;36m43\u001b[0m, \u001b[1;36m39\u001b[0m, \u001b[1;36m913134\u001b[0m, \u001b[33mtzinfo\u001b[0m=\u001b[35mdatetime\u001b[0m.timezone.utc\u001b[1m)\u001b[0m,\n",
       "    \u001b[33mmodified_date\u001b[0m=\u001b[1;35mdatetime\u001b[0m\u001b[1;35m.datetime\u001b[0m\u001b[1m(\u001b[0m\u001b[1;36m2025\u001b[0m, \u001b[1;36m10\u001b[0m, \u001b[1;36m10\u001b[0m, \u001b[1;36m21\u001b[0m, \u001b[1;36m43\u001b[0m, \u001b[1;36m39\u001b[0m, \u001b[1;36m915093\u001b[0m, \u001b[33mtzinfo\u001b[0m=\u001b[35mdatetime\u001b[0m.timezone.utc\u001b[1m)\u001b[0m,\n",
       "    \u001b[33mcreated_by_user_id\u001b[0m=\u001b[32m'ae1f6c7c-3e93-40a9-8796-d227a725662c'\u001b[0m,\n",
       "    \u001b[33mmodified_by_user_id\u001b[0m=\u001b[32m'ae1f6c7c-3e93-40a9-8796-d227a725662c'\u001b[0m,\n",
       "    \u001b[33morganization_id\u001b[0m=\u001b[32m'dd9f82ef-7805-4b02-9572-ec61b71edde6'\u001b[0m,\n",
       "    \u001b[33mmetadata\u001b[0m=\u001b[1m{\u001b[0m\u001b[1m}\u001b[0m,\n",
       "    \u001b[33mtags\u001b[0m=\u001b[1m[\u001b[0m\u001b[1m]\u001b[0m,\n",
       "    \u001b[33masset_ids\u001b[0m=\u001b[1m[\u001b[0m\u001b[1m]\u001b[0m,\n",
       "    \u001b[33mis_adhoc\u001b[0m=\u001b[3;91mFalse\u001b[0m,\n",
       "    \u001b[33mis_archived\u001b[0m=\u001b[3;91mFalse\u001b[0m,\n",
       "    \u001b[33mstart_time\u001b[0m=\u001b[1;35mdatetime\u001b[0m\u001b[1;35m.datetime\u001b[0m\u001b[1m(\u001b[0m\u001b[1;36m2025\u001b[0m, \u001b[1;36m10\u001b[0m, \u001b[1;36m10\u001b[0m, \u001b[1;36m14\u001b[0m, \u001b[1;36m43\u001b[0m, \u001b[1;36m39\u001b[0m, \u001b[1;36m861550\u001b[0m, \u001b[33mtzinfo\u001b[0m=\u001b[35mdatetime\u001b[0m.timezone.utc\u001b[1m)\u001b[0m,\n",
       "    \u001b[33mstop_time\u001b[0m=\u001b[3;35mNone\u001b[0m,\n",
       "    \u001b[33mduration\u001b[0m=\u001b[1;35mdatetime\u001b[0m\u001b[1;35m.timedelta\u001b[0m\u001b[1m(\u001b[0m\u001b[33mseconds\u001b[0m=\u001b[1;36m25200\u001b[0m, \u001b[33mmicroseconds\u001b[0m=\u001b[1;36m54929\u001b[0m\u001b[1m)\u001b[0m,\n",
       "    \u001b[33mdefault_report_id\u001b[0m=\u001b[32m'854787b6-4e38-4c81-bdf0-8d143c791d01'\u001b[0m,\n",
       "    \u001b[33mclient_key\u001b[0m=\u001b[3;35mNone\u001b[0m,\n",
       "    \u001b[33marchived_date\u001b[0m=\u001b[3;35mNone\u001b[0m\n",
       "\u001b[1m)\u001b[0m\n"
      ]
     },
     "jetTransient": {
      "display_id": null
     },
     "metadata": {},
     "output_type": "display_data"
    }
   ],
   "source": [
    "# Run creation\n",
    "run = client.runs.create(\n",
    "    dict(\n",
    "        name=\"Test Run\", description=\"A test run\", asset_ids=[asset.id_], start_time=datetime.now()\n",
    "    )\n",
    ")\n",
    "print(run)"
   ]
  },
  {
   "cell_type": "code",
   "execution_count": 48,
   "id": "22ad6199aeb8cc5d",
   "metadata": {
    "ExecuteTime": {
     "end_time": "2025-10-10T21:43:39.983767Z",
     "start_time": "2025-10-10T21:43:39.922700Z"
    }
   },
   "outputs": [
    {
     "data": {
      "text/html": [
       "<pre style=\"white-space:pre;overflow-x:auto;line-height:normal;font-family:Menlo,'DejaVu Sans Mono',consolas,'Courier New',monospace\"><span style=\"color: #800080; text-decoration-color: #800080; font-weight: bold\">Run</span><span style=\"font-weight: bold\">(</span>\n",
       "    <span style=\"color: #808000; text-decoration-color: #808000\">id_</span>=<span style=\"color: #008000; text-decoration-color: #008000\">'523c6f2a-181c-4ee7-8876-421901daf97f'</span>,\n",
       "    <span style=\"color: #808000; text-decoration-color: #808000\">name</span>=<span style=\"color: #008000; text-decoration-color: #008000\">'Updated Test Run'</span>,\n",
       "    <span style=\"color: #808000; text-decoration-color: #808000\">description</span>=<span style=\"color: #008000; text-decoration-color: #008000\">'An updated test run'</span>,\n",
       "    <span style=\"color: #808000; text-decoration-color: #808000\">created_date</span>=<span style=\"color: #800080; text-decoration-color: #800080; font-weight: bold\">datetime</span><span style=\"color: #800080; text-decoration-color: #800080; font-weight: bold\">.datetime</span><span style=\"font-weight: bold\">(</span><span style=\"color: #008080; text-decoration-color: #008080; font-weight: bold\">2025</span>, <span style=\"color: #008080; text-decoration-color: #008080; font-weight: bold\">10</span>, <span style=\"color: #008080; text-decoration-color: #008080; font-weight: bold\">10</span>, <span style=\"color: #008080; text-decoration-color: #008080; font-weight: bold\">21</span>, <span style=\"color: #008080; text-decoration-color: #008080; font-weight: bold\">43</span>, <span style=\"color: #008080; text-decoration-color: #008080; font-weight: bold\">39</span>, <span style=\"color: #008080; text-decoration-color: #008080; font-weight: bold\">913134</span>, <span style=\"color: #808000; text-decoration-color: #808000\">tzinfo</span>=<span style=\"color: #800080; text-decoration-color: #800080\">datetime</span>.timezone.utc<span style=\"font-weight: bold\">)</span>,\n",
       "    <span style=\"color: #808000; text-decoration-color: #808000\">modified_date</span>=<span style=\"color: #800080; text-decoration-color: #800080; font-weight: bold\">datetime</span><span style=\"color: #800080; text-decoration-color: #800080; font-weight: bold\">.datetime</span><span style=\"font-weight: bold\">(</span><span style=\"color: #008080; text-decoration-color: #008080; font-weight: bold\">2025</span>, <span style=\"color: #008080; text-decoration-color: #008080; font-weight: bold\">10</span>, <span style=\"color: #008080; text-decoration-color: #008080; font-weight: bold\">10</span>, <span style=\"color: #008080; text-decoration-color: #008080; font-weight: bold\">21</span>, <span style=\"color: #008080; text-decoration-color: #008080; font-weight: bold\">43</span>, <span style=\"color: #008080; text-decoration-color: #008080; font-weight: bold\">39</span>, <span style=\"color: #008080; text-decoration-color: #008080; font-weight: bold\">981793</span>, <span style=\"color: #808000; text-decoration-color: #808000\">tzinfo</span>=<span style=\"color: #800080; text-decoration-color: #800080\">datetime</span>.timezone.utc<span style=\"font-weight: bold\">)</span>,\n",
       "    <span style=\"color: #808000; text-decoration-color: #808000\">created_by_user_id</span>=<span style=\"color: #008000; text-decoration-color: #008000\">'ae1f6c7c-3e93-40a9-8796-d227a725662c'</span>,\n",
       "    <span style=\"color: #808000; text-decoration-color: #808000\">modified_by_user_id</span>=<span style=\"color: #008000; text-decoration-color: #008000\">'ae1f6c7c-3e93-40a9-8796-d227a725662c'</span>,\n",
       "    <span style=\"color: #808000; text-decoration-color: #808000\">organization_id</span>=<span style=\"color: #008000; text-decoration-color: #008000\">'dd9f82ef-7805-4b02-9572-ec61b71edde6'</span>,\n",
       "    <span style=\"color: #808000; text-decoration-color: #808000\">metadata</span>=<span style=\"font-weight: bold\">{}</span>,\n",
       "    <span style=\"color: #808000; text-decoration-color: #808000\">tags</span>=<span style=\"font-weight: bold\">[]</span>,\n",
       "    <span style=\"color: #808000; text-decoration-color: #808000\">asset_ids</span>=<span style=\"font-weight: bold\">[]</span>,\n",
       "    <span style=\"color: #808000; text-decoration-color: #808000\">is_adhoc</span>=<span style=\"color: #ff0000; text-decoration-color: #ff0000; font-style: italic\">False</span>,\n",
       "    <span style=\"color: #808000; text-decoration-color: #808000\">is_archived</span>=<span style=\"color: #ff0000; text-decoration-color: #ff0000; font-style: italic\">False</span>,\n",
       "    <span style=\"color: #808000; text-decoration-color: #808000\">start_time</span>=<span style=\"color: #800080; text-decoration-color: #800080; font-weight: bold\">datetime</span><span style=\"color: #800080; text-decoration-color: #800080; font-weight: bold\">.datetime</span><span style=\"font-weight: bold\">(</span><span style=\"color: #008080; text-decoration-color: #008080; font-weight: bold\">2025</span>, <span style=\"color: #008080; text-decoration-color: #008080; font-weight: bold\">10</span>, <span style=\"color: #008080; text-decoration-color: #008080; font-weight: bold\">10</span>, <span style=\"color: #008080; text-decoration-color: #008080; font-weight: bold\">14</span>, <span style=\"color: #008080; text-decoration-color: #008080; font-weight: bold\">43</span>, <span style=\"color: #008080; text-decoration-color: #008080; font-weight: bold\">39</span>, <span style=\"color: #008080; text-decoration-color: #008080; font-weight: bold\">861550</span>, <span style=\"color: #808000; text-decoration-color: #808000\">tzinfo</span>=<span style=\"color: #800080; text-decoration-color: #800080\">datetime</span>.timezone.utc<span style=\"font-weight: bold\">)</span>,\n",
       "    <span style=\"color: #808000; text-decoration-color: #808000\">stop_time</span>=<span style=\"color: #800080; text-decoration-color: #800080; font-style: italic\">None</span>,\n",
       "    <span style=\"color: #808000; text-decoration-color: #808000\">duration</span>=<span style=\"color: #800080; text-decoration-color: #800080; font-weight: bold\">datetime</span><span style=\"color: #800080; text-decoration-color: #800080; font-weight: bold\">.timedelta</span><span style=\"font-weight: bold\">(</span><span style=\"color: #808000; text-decoration-color: #808000\">seconds</span>=<span style=\"color: #008080; text-decoration-color: #008080; font-weight: bold\">25200</span>, <span style=\"color: #808000; text-decoration-color: #808000\">microseconds</span>=<span style=\"color: #008080; text-decoration-color: #008080; font-weight: bold\">123957</span><span style=\"font-weight: bold\">)</span>,\n",
       "    <span style=\"color: #808000; text-decoration-color: #808000\">default_report_id</span>=<span style=\"color: #008000; text-decoration-color: #008000\">'854787b6-4e38-4c81-bdf0-8d143c791d01'</span>,\n",
       "    <span style=\"color: #808000; text-decoration-color: #808000\">client_key</span>=<span style=\"color: #800080; text-decoration-color: #800080; font-style: italic\">None</span>,\n",
       "    <span style=\"color: #808000; text-decoration-color: #808000\">archived_date</span>=<span style=\"color: #800080; text-decoration-color: #800080; font-style: italic\">None</span>\n",
       "<span style=\"font-weight: bold\">)</span>\n",
       "</pre>\n"
      ],
      "text/plain": [
       "\u001b[1;35mRun\u001b[0m\u001b[1m(\u001b[0m\n",
       "    \u001b[33mid_\u001b[0m=\u001b[32m'523c6f2a-181c-4ee7-8876-421901daf97f'\u001b[0m,\n",
       "    \u001b[33mname\u001b[0m=\u001b[32m'Updated Test Run'\u001b[0m,\n",
       "    \u001b[33mdescription\u001b[0m=\u001b[32m'An updated test run'\u001b[0m,\n",
       "    \u001b[33mcreated_date\u001b[0m=\u001b[1;35mdatetime\u001b[0m\u001b[1;35m.datetime\u001b[0m\u001b[1m(\u001b[0m\u001b[1;36m2025\u001b[0m, \u001b[1;36m10\u001b[0m, \u001b[1;36m10\u001b[0m, \u001b[1;36m21\u001b[0m, \u001b[1;36m43\u001b[0m, \u001b[1;36m39\u001b[0m, \u001b[1;36m913134\u001b[0m, \u001b[33mtzinfo\u001b[0m=\u001b[35mdatetime\u001b[0m.timezone.utc\u001b[1m)\u001b[0m,\n",
       "    \u001b[33mmodified_date\u001b[0m=\u001b[1;35mdatetime\u001b[0m\u001b[1;35m.datetime\u001b[0m\u001b[1m(\u001b[0m\u001b[1;36m2025\u001b[0m, \u001b[1;36m10\u001b[0m, \u001b[1;36m10\u001b[0m, \u001b[1;36m21\u001b[0m, \u001b[1;36m43\u001b[0m, \u001b[1;36m39\u001b[0m, \u001b[1;36m981793\u001b[0m, \u001b[33mtzinfo\u001b[0m=\u001b[35mdatetime\u001b[0m.timezone.utc\u001b[1m)\u001b[0m,\n",
       "    \u001b[33mcreated_by_user_id\u001b[0m=\u001b[32m'ae1f6c7c-3e93-40a9-8796-d227a725662c'\u001b[0m,\n",
       "    \u001b[33mmodified_by_user_id\u001b[0m=\u001b[32m'ae1f6c7c-3e93-40a9-8796-d227a725662c'\u001b[0m,\n",
       "    \u001b[33morganization_id\u001b[0m=\u001b[32m'dd9f82ef-7805-4b02-9572-ec61b71edde6'\u001b[0m,\n",
       "    \u001b[33mmetadata\u001b[0m=\u001b[1m{\u001b[0m\u001b[1m}\u001b[0m,\n",
       "    \u001b[33mtags\u001b[0m=\u001b[1m[\u001b[0m\u001b[1m]\u001b[0m,\n",
       "    \u001b[33masset_ids\u001b[0m=\u001b[1m[\u001b[0m\u001b[1m]\u001b[0m,\n",
       "    \u001b[33mis_adhoc\u001b[0m=\u001b[3;91mFalse\u001b[0m,\n",
       "    \u001b[33mis_archived\u001b[0m=\u001b[3;91mFalse\u001b[0m,\n",
       "    \u001b[33mstart_time\u001b[0m=\u001b[1;35mdatetime\u001b[0m\u001b[1;35m.datetime\u001b[0m\u001b[1m(\u001b[0m\u001b[1;36m2025\u001b[0m, \u001b[1;36m10\u001b[0m, \u001b[1;36m10\u001b[0m, \u001b[1;36m14\u001b[0m, \u001b[1;36m43\u001b[0m, \u001b[1;36m39\u001b[0m, \u001b[1;36m861550\u001b[0m, \u001b[33mtzinfo\u001b[0m=\u001b[35mdatetime\u001b[0m.timezone.utc\u001b[1m)\u001b[0m,\n",
       "    \u001b[33mstop_time\u001b[0m=\u001b[3;35mNone\u001b[0m,\n",
       "    \u001b[33mduration\u001b[0m=\u001b[1;35mdatetime\u001b[0m\u001b[1;35m.timedelta\u001b[0m\u001b[1m(\u001b[0m\u001b[33mseconds\u001b[0m=\u001b[1;36m25200\u001b[0m, \u001b[33mmicroseconds\u001b[0m=\u001b[1;36m123957\u001b[0m\u001b[1m)\u001b[0m,\n",
       "    \u001b[33mdefault_report_id\u001b[0m=\u001b[32m'854787b6-4e38-4c81-bdf0-8d143c791d01'\u001b[0m,\n",
       "    \u001b[33mclient_key\u001b[0m=\u001b[3;35mNone\u001b[0m,\n",
       "    \u001b[33marchived_date\u001b[0m=\u001b[3;35mNone\u001b[0m\n",
       "\u001b[1m)\u001b[0m\n"
      ]
     },
     "jetTransient": {
      "display_id": null
     },
     "metadata": {},
     "output_type": "display_data"
    }
   ],
   "source": [
    "# Run update\n",
    "run.update(\n",
    "    dict(\n",
    "        name=\"Updated Test Run\",\n",
    "        description=\"An updated test run\",\n",
    "    )\n",
    ")\n",
    "print(run)"
   ]
  },
  {
   "cell_type": "code",
   "execution_count": 49,
   "id": "3d24afef7771f010",
   "metadata": {
    "ExecuteTime": {
     "end_time": "2025-10-10T21:43:40.057415Z",
     "start_time": "2025-10-10T21:43:39.988773Z"
    }
   },
   "outputs": [
    {
     "data": {
      "text/html": [
       "<pre style=\"white-space:pre;overflow-x:auto;line-height:normal;font-family:Menlo,'DejaVu Sans Mono',consolas,'Courier New',monospace\"><span style=\"color: #800080; text-decoration-color: #800080; font-weight: bold\">Run</span><span style=\"font-weight: bold\">(</span>\n",
       "    <span style=\"color: #808000; text-decoration-color: #808000\">id_</span>=<span style=\"color: #008000; text-decoration-color: #008000\">'523c6f2a-181c-4ee7-8876-421901daf97f'</span>,\n",
       "    <span style=\"color: #808000; text-decoration-color: #808000\">name</span>=<span style=\"color: #008000; text-decoration-color: #008000\">'Updated Test Run'</span>,\n",
       "    <span style=\"color: #808000; text-decoration-color: #808000\">description</span>=<span style=\"color: #008000; text-decoration-color: #008000\">'An updated test run'</span>,\n",
       "    <span style=\"color: #808000; text-decoration-color: #808000\">created_date</span>=<span style=\"color: #800080; text-decoration-color: #800080; font-weight: bold\">datetime</span><span style=\"color: #800080; text-decoration-color: #800080; font-weight: bold\">.datetime</span><span style=\"font-weight: bold\">(</span><span style=\"color: #008080; text-decoration-color: #008080; font-weight: bold\">2025</span>, <span style=\"color: #008080; text-decoration-color: #008080; font-weight: bold\">10</span>, <span style=\"color: #008080; text-decoration-color: #008080; font-weight: bold\">10</span>, <span style=\"color: #008080; text-decoration-color: #008080; font-weight: bold\">21</span>, <span style=\"color: #008080; text-decoration-color: #008080; font-weight: bold\">43</span>, <span style=\"color: #008080; text-decoration-color: #008080; font-weight: bold\">39</span>, <span style=\"color: #008080; text-decoration-color: #008080; font-weight: bold\">913134</span>, <span style=\"color: #808000; text-decoration-color: #808000\">tzinfo</span>=<span style=\"color: #800080; text-decoration-color: #800080\">datetime</span>.timezone.utc<span style=\"font-weight: bold\">)</span>,\n",
       "    <span style=\"color: #808000; text-decoration-color: #808000\">modified_date</span>=<span style=\"color: #800080; text-decoration-color: #800080; font-weight: bold\">datetime</span><span style=\"color: #800080; text-decoration-color: #800080; font-weight: bold\">.datetime</span><span style=\"font-weight: bold\">(</span><span style=\"color: #008080; text-decoration-color: #008080; font-weight: bold\">2025</span>, <span style=\"color: #008080; text-decoration-color: #008080; font-weight: bold\">10</span>, <span style=\"color: #008080; text-decoration-color: #008080; font-weight: bold\">10</span>, <span style=\"color: #008080; text-decoration-color: #008080; font-weight: bold\">21</span>, <span style=\"color: #008080; text-decoration-color: #008080; font-weight: bold\">43</span>, <span style=\"color: #008080; text-decoration-color: #008080; font-weight: bold\">40</span>, <span style=\"color: #008080; text-decoration-color: #008080; font-weight: bold\">52001</span>, <span style=\"color: #808000; text-decoration-color: #808000\">tzinfo</span>=<span style=\"color: #800080; text-decoration-color: #800080\">datetime</span>.timezone.utc<span style=\"font-weight: bold\">)</span>,\n",
       "    <span style=\"color: #808000; text-decoration-color: #808000\">created_by_user_id</span>=<span style=\"color: #008000; text-decoration-color: #008000\">'ae1f6c7c-3e93-40a9-8796-d227a725662c'</span>,\n",
       "    <span style=\"color: #808000; text-decoration-color: #808000\">modified_by_user_id</span>=<span style=\"color: #008000; text-decoration-color: #008000\">'ae1f6c7c-3e93-40a9-8796-d227a725662c'</span>,\n",
       "    <span style=\"color: #808000; text-decoration-color: #808000\">organization_id</span>=<span style=\"color: #008000; text-decoration-color: #008000\">'dd9f82ef-7805-4b02-9572-ec61b71edde6'</span>,\n",
       "    <span style=\"color: #808000; text-decoration-color: #808000\">metadata</span>=<span style=\"font-weight: bold\">{}</span>,\n",
       "    <span style=\"color: #808000; text-decoration-color: #808000\">tags</span>=<span style=\"font-weight: bold\">[]</span>,\n",
       "    <span style=\"color: #808000; text-decoration-color: #808000\">asset_ids</span>=<span style=\"font-weight: bold\">[]</span>,\n",
       "    <span style=\"color: #808000; text-decoration-color: #808000\">is_adhoc</span>=<span style=\"color: #ff0000; text-decoration-color: #ff0000; font-style: italic\">False</span>,\n",
       "    <span style=\"color: #808000; text-decoration-color: #808000\">is_archived</span>=<span style=\"color: #00ff00; text-decoration-color: #00ff00; font-style: italic\">True</span>,\n",
       "    <span style=\"color: #808000; text-decoration-color: #808000\">start_time</span>=<span style=\"color: #800080; text-decoration-color: #800080; font-weight: bold\">datetime</span><span style=\"color: #800080; text-decoration-color: #800080; font-weight: bold\">.datetime</span><span style=\"font-weight: bold\">(</span><span style=\"color: #008080; text-decoration-color: #008080; font-weight: bold\">2025</span>, <span style=\"color: #008080; text-decoration-color: #008080; font-weight: bold\">10</span>, <span style=\"color: #008080; text-decoration-color: #008080; font-weight: bold\">10</span>, <span style=\"color: #008080; text-decoration-color: #008080; font-weight: bold\">14</span>, <span style=\"color: #008080; text-decoration-color: #008080; font-weight: bold\">43</span>, <span style=\"color: #008080; text-decoration-color: #008080; font-weight: bold\">39</span>, <span style=\"color: #008080; text-decoration-color: #008080; font-weight: bold\">861550</span>, <span style=\"color: #808000; text-decoration-color: #808000\">tzinfo</span>=<span style=\"color: #800080; text-decoration-color: #800080\">datetime</span>.timezone.utc<span style=\"font-weight: bold\">)</span>,\n",
       "    <span style=\"color: #808000; text-decoration-color: #808000\">stop_time</span>=<span style=\"color: #800080; text-decoration-color: #800080; font-style: italic\">None</span>,\n",
       "    <span style=\"color: #808000; text-decoration-color: #808000\">duration</span>=<span style=\"color: #800080; text-decoration-color: #800080; font-weight: bold\">datetime</span><span style=\"color: #800080; text-decoration-color: #800080; font-weight: bold\">.timedelta</span><span style=\"font-weight: bold\">(</span><span style=\"color: #808000; text-decoration-color: #808000\">seconds</span>=<span style=\"color: #008080; text-decoration-color: #008080; font-weight: bold\">25200</span>, <span style=\"color: #808000; text-decoration-color: #808000\">microseconds</span>=<span style=\"color: #008080; text-decoration-color: #008080; font-weight: bold\">196350</span><span style=\"font-weight: bold\">)</span>,\n",
       "    <span style=\"color: #808000; text-decoration-color: #808000\">default_report_id</span>=<span style=\"color: #008000; text-decoration-color: #008000\">'854787b6-4e38-4c81-bdf0-8d143c791d01'</span>,\n",
       "    <span style=\"color: #808000; text-decoration-color: #808000\">client_key</span>=<span style=\"color: #800080; text-decoration-color: #800080; font-style: italic\">None</span>,\n",
       "    <span style=\"color: #808000; text-decoration-color: #808000\">archived_date</span>=<span style=\"color: #800080; text-decoration-color: #800080; font-weight: bold\">datetime</span><span style=\"color: #800080; text-decoration-color: #800080; font-weight: bold\">.datetime</span><span style=\"font-weight: bold\">(</span><span style=\"color: #008080; text-decoration-color: #008080; font-weight: bold\">2025</span>, <span style=\"color: #008080; text-decoration-color: #008080; font-weight: bold\">10</span>, <span style=\"color: #008080; text-decoration-color: #008080; font-weight: bold\">10</span>, <span style=\"color: #008080; text-decoration-color: #008080; font-weight: bold\">21</span>, <span style=\"color: #008080; text-decoration-color: #008080; font-weight: bold\">43</span>, <span style=\"color: #008080; text-decoration-color: #008080; font-weight: bold\">40</span>, <span style=\"color: #008080; text-decoration-color: #008080; font-weight: bold\">48186</span>, <span style=\"color: #808000; text-decoration-color: #808000\">tzinfo</span>=<span style=\"color: #800080; text-decoration-color: #800080\">datetime</span>.timezone.utc<span style=\"font-weight: bold\">)</span>\n",
       "<span style=\"font-weight: bold\">)</span>\n",
       "</pre>\n"
      ],
      "text/plain": [
       "\u001b[1;35mRun\u001b[0m\u001b[1m(\u001b[0m\n",
       "    \u001b[33mid_\u001b[0m=\u001b[32m'523c6f2a-181c-4ee7-8876-421901daf97f'\u001b[0m,\n",
       "    \u001b[33mname\u001b[0m=\u001b[32m'Updated Test Run'\u001b[0m,\n",
       "    \u001b[33mdescription\u001b[0m=\u001b[32m'An updated test run'\u001b[0m,\n",
       "    \u001b[33mcreated_date\u001b[0m=\u001b[1;35mdatetime\u001b[0m\u001b[1;35m.datetime\u001b[0m\u001b[1m(\u001b[0m\u001b[1;36m2025\u001b[0m, \u001b[1;36m10\u001b[0m, \u001b[1;36m10\u001b[0m, \u001b[1;36m21\u001b[0m, \u001b[1;36m43\u001b[0m, \u001b[1;36m39\u001b[0m, \u001b[1;36m913134\u001b[0m, \u001b[33mtzinfo\u001b[0m=\u001b[35mdatetime\u001b[0m.timezone.utc\u001b[1m)\u001b[0m,\n",
       "    \u001b[33mmodified_date\u001b[0m=\u001b[1;35mdatetime\u001b[0m\u001b[1;35m.datetime\u001b[0m\u001b[1m(\u001b[0m\u001b[1;36m2025\u001b[0m, \u001b[1;36m10\u001b[0m, \u001b[1;36m10\u001b[0m, \u001b[1;36m21\u001b[0m, \u001b[1;36m43\u001b[0m, \u001b[1;36m40\u001b[0m, \u001b[1;36m52001\u001b[0m, \u001b[33mtzinfo\u001b[0m=\u001b[35mdatetime\u001b[0m.timezone.utc\u001b[1m)\u001b[0m,\n",
       "    \u001b[33mcreated_by_user_id\u001b[0m=\u001b[32m'ae1f6c7c-3e93-40a9-8796-d227a725662c'\u001b[0m,\n",
       "    \u001b[33mmodified_by_user_id\u001b[0m=\u001b[32m'ae1f6c7c-3e93-40a9-8796-d227a725662c'\u001b[0m,\n",
       "    \u001b[33morganization_id\u001b[0m=\u001b[32m'dd9f82ef-7805-4b02-9572-ec61b71edde6'\u001b[0m,\n",
       "    \u001b[33mmetadata\u001b[0m=\u001b[1m{\u001b[0m\u001b[1m}\u001b[0m,\n",
       "    \u001b[33mtags\u001b[0m=\u001b[1m[\u001b[0m\u001b[1m]\u001b[0m,\n",
       "    \u001b[33masset_ids\u001b[0m=\u001b[1m[\u001b[0m\u001b[1m]\u001b[0m,\n",
       "    \u001b[33mis_adhoc\u001b[0m=\u001b[3;91mFalse\u001b[0m,\n",
       "    \u001b[33mis_archived\u001b[0m=\u001b[3;92mTrue\u001b[0m,\n",
       "    \u001b[33mstart_time\u001b[0m=\u001b[1;35mdatetime\u001b[0m\u001b[1;35m.datetime\u001b[0m\u001b[1m(\u001b[0m\u001b[1;36m2025\u001b[0m, \u001b[1;36m10\u001b[0m, \u001b[1;36m10\u001b[0m, \u001b[1;36m14\u001b[0m, \u001b[1;36m43\u001b[0m, \u001b[1;36m39\u001b[0m, \u001b[1;36m861550\u001b[0m, \u001b[33mtzinfo\u001b[0m=\u001b[35mdatetime\u001b[0m.timezone.utc\u001b[1m)\u001b[0m,\n",
       "    \u001b[33mstop_time\u001b[0m=\u001b[3;35mNone\u001b[0m,\n",
       "    \u001b[33mduration\u001b[0m=\u001b[1;35mdatetime\u001b[0m\u001b[1;35m.timedelta\u001b[0m\u001b[1m(\u001b[0m\u001b[33mseconds\u001b[0m=\u001b[1;36m25200\u001b[0m, \u001b[33mmicroseconds\u001b[0m=\u001b[1;36m196350\u001b[0m\u001b[1m)\u001b[0m,\n",
       "    \u001b[33mdefault_report_id\u001b[0m=\u001b[32m'854787b6-4e38-4c81-bdf0-8d143c791d01'\u001b[0m,\n",
       "    \u001b[33mclient_key\u001b[0m=\u001b[3;35mNone\u001b[0m,\n",
       "    \u001b[33marchived_date\u001b[0m=\u001b[1;35mdatetime\u001b[0m\u001b[1;35m.datetime\u001b[0m\u001b[1m(\u001b[0m\u001b[1;36m2025\u001b[0m, \u001b[1;36m10\u001b[0m, \u001b[1;36m10\u001b[0m, \u001b[1;36m21\u001b[0m, \u001b[1;36m43\u001b[0m, \u001b[1;36m40\u001b[0m, \u001b[1;36m48186\u001b[0m, \u001b[33mtzinfo\u001b[0m=\u001b[35mdatetime\u001b[0m.timezone.utc\u001b[1m)\u001b[0m\n",
       "\u001b[1m)\u001b[0m\n"
      ]
     },
     "jetTransient": {
      "display_id": null
     },
     "metadata": {},
     "output_type": "display_data"
    }
   ],
   "source": [
    "# Run archive\n",
    "run.archive()\n",
    "print(run)"
   ]
  },
  {
   "cell_type": "markdown",
   "id": "c1830f179b22cb43",
   "metadata": {},
   "source": [
    "## Searching Channels\n",
    "\n",
    "Channels represent time-series data streams (e.g., sensor readings, telemetry)."
   ]
  },
  {
   "cell_type": "code",
   "execution_count": 50,
   "id": "9c5a1b60c0fce9fc",
   "metadata": {
    "ExecuteTime": {
     "end_time": "2025-10-10T21:43:40.313373Z",
     "start_time": "2025-10-10T21:43:40.062560Z"
    }
   },
   "outputs": [
    {
     "data": {
      "text/html": [
       "<pre style=\"white-space:pre;overflow-x:auto;line-height:normal;font-family:Menlo,'DejaVu Sans Mono',consolas,'Courier New',monospace\">Found <span style=\"color: #008080; text-decoration-color: #008080; font-weight: bold\">5</span> channels for asset <span style=\"color: #008000; text-decoration-color: #008000\">'MarsRover0'</span>:\n",
       "</pre>\n"
      ],
      "text/plain": [
       "Found \u001b[1;36m5\u001b[0m channels for asset \u001b[32m'MarsRover0'\u001b[0m:\n"
      ]
     },
     "jetTransient": {
      "display_id": null
     },
     "metadata": {},
     "output_type": "display_data"
    },
    {
     "data": {
      "text/html": [
       "<pre style=\"white-space:pre;overflow-x:auto;line-height:normal;font-family:Menlo,'DejaVu Sans Mono',consolas,'Courier New',monospace\"><span style=\"color: #800080; text-decoration-color: #800080; font-weight: bold\">Channel</span><span style=\"font-weight: bold\">(</span>\n",
       "    <span style=\"color: #808000; text-decoration-color: #808000\">id_</span>=<span style=\"color: #008000; text-decoration-color: #008000\">'0f1a32d4-0f97-494f-82f8-2ed7f3983e74'</span>,\n",
       "    <span style=\"color: #808000; text-decoration-color: #808000\">name</span>=<span style=\"color: #008000; text-decoration-color: #008000\">'is_even'</span>,\n",
       "    <span style=\"color: #808000; text-decoration-color: #808000\">data_type</span>=<span style=\"font-weight: bold\">&lt;</span><span style=\"color: #ff00ff; text-decoration-color: #ff00ff; font-weight: bold\">ChannelDataType.BOOL:</span><span style=\"color: #000000; text-decoration-color: #000000\"> </span><span style=\"color: #008080; text-decoration-color: #008080; font-weight: bold\">5</span><span style=\"font-weight: bold\">&gt;</span>,\n",
       "    <span style=\"color: #808000; text-decoration-color: #808000\">description</span>=<span style=\"color: #008000; text-decoration-color: #008000\">'is the value of milliseconds even'</span>,\n",
       "    <span style=\"color: #808000; text-decoration-color: #808000\">unit</span>=<span style=\"color: #008000; text-decoration-color: #008000\">'0c359676-c6c9-47d3-acca-d8e938311b2a'</span>,\n",
       "    <span style=\"color: #808000; text-decoration-color: #808000\">bit_field_elements</span>=<span style=\"font-weight: bold\">[]</span>,\n",
       "    <span style=\"color: #808000; text-decoration-color: #808000\">enum_types</span>=<span style=\"font-weight: bold\">{}</span>,\n",
       "    <span style=\"color: #808000; text-decoration-color: #808000\">asset_id</span>=<span style=\"color: #008000; text-decoration-color: #008000\">'61d6e4f0-8287-4678-b071-18a95fcd9db6'</span>,\n",
       "    <span style=\"color: #808000; text-decoration-color: #808000\">created_date</span>=<span style=\"color: #800080; text-decoration-color: #800080; font-weight: bold\">datetime</span><span style=\"color: #800080; text-decoration-color: #800080; font-weight: bold\">.datetime</span><span style=\"font-weight: bold\">(</span><span style=\"color: #008080; text-decoration-color: #008080; font-weight: bold\">2025</span>, <span style=\"color: #008080; text-decoration-color: #008080; font-weight: bold\">3</span>, <span style=\"color: #008080; text-decoration-color: #008080; font-weight: bold\">4</span>, <span style=\"color: #008080; text-decoration-color: #008080; font-weight: bold\">19</span>, <span style=\"color: #008080; text-decoration-color: #008080; font-weight: bold\">51</span>, <span style=\"color: #008080; text-decoration-color: #008080; font-weight: bold\">15</span>, <span style=\"color: #008080; text-decoration-color: #008080; font-weight: bold\">89746</span>, <span style=\"color: #808000; text-decoration-color: #808000\">tzinfo</span>=<span style=\"color: #800080; text-decoration-color: #800080\">datetime</span>.timezone.utc<span style=\"font-weight: bold\">)</span>,\n",
       "    <span style=\"color: #808000; text-decoration-color: #808000\">modified_date</span>=<span style=\"color: #800080; text-decoration-color: #800080; font-weight: bold\">datetime</span><span style=\"color: #800080; text-decoration-color: #800080; font-weight: bold\">.datetime</span><span style=\"font-weight: bold\">(</span><span style=\"color: #008080; text-decoration-color: #008080; font-weight: bold\">2025</span>, <span style=\"color: #008080; text-decoration-color: #008080; font-weight: bold\">3</span>, <span style=\"color: #008080; text-decoration-color: #008080; font-weight: bold\">4</span>, <span style=\"color: #008080; text-decoration-color: #008080; font-weight: bold\">19</span>, <span style=\"color: #008080; text-decoration-color: #008080; font-weight: bold\">51</span>, <span style=\"color: #008080; text-decoration-color: #008080; font-weight: bold\">15</span>, <span style=\"color: #008080; text-decoration-color: #008080; font-weight: bold\">89746</span>, <span style=\"color: #808000; text-decoration-color: #808000\">tzinfo</span>=<span style=\"color: #800080; text-decoration-color: #800080\">datetime</span>.timezone.utc<span style=\"font-weight: bold\">)</span>,\n",
       "    <span style=\"color: #808000; text-decoration-color: #808000\">created_by_user_id</span>=<span style=\"color: #008000; text-decoration-color: #008000\">'f47e4854-234b-421c-badb-7f8bb757cd9d'</span>,\n",
       "    <span style=\"color: #808000; text-decoration-color: #808000\">modified_by_user_id</span>=<span style=\"color: #008000; text-decoration-color: #008000\">'f47e4854-234b-421c-badb-7f8bb757cd9d'</span>\n",
       "<span style=\"font-weight: bold\">)</span>\n",
       "</pre>\n"
      ],
      "text/plain": [
       "\u001b[1;35mChannel\u001b[0m\u001b[1m(\u001b[0m\n",
       "    \u001b[33mid_\u001b[0m=\u001b[32m'0f1a32d4-0f97-494f-82f8-2ed7f3983e74'\u001b[0m,\n",
       "    \u001b[33mname\u001b[0m=\u001b[32m'is_even'\u001b[0m,\n",
       "    \u001b[33mdata_type\u001b[0m=\u001b[1m<\u001b[0m\u001b[1;95mChannelDataType.BOOL:\u001b[0m\u001b[39m \u001b[0m\u001b[1;36m5\u001b[0m\u001b[1m>\u001b[0m,\n",
       "    \u001b[33mdescription\u001b[0m=\u001b[32m'is the value of milliseconds even'\u001b[0m,\n",
       "    \u001b[33munit\u001b[0m=\u001b[32m'0c359676-c6c9-47d3-acca-d8e938311b2a'\u001b[0m,\n",
       "    \u001b[33mbit_field_elements\u001b[0m=\u001b[1m[\u001b[0m\u001b[1m]\u001b[0m,\n",
       "    \u001b[33menum_types\u001b[0m=\u001b[1m{\u001b[0m\u001b[1m}\u001b[0m,\n",
       "    \u001b[33masset_id\u001b[0m=\u001b[32m'61d6e4f0-8287-4678-b071-18a95fcd9db6'\u001b[0m,\n",
       "    \u001b[33mcreated_date\u001b[0m=\u001b[1;35mdatetime\u001b[0m\u001b[1;35m.datetime\u001b[0m\u001b[1m(\u001b[0m\u001b[1;36m2025\u001b[0m, \u001b[1;36m3\u001b[0m, \u001b[1;36m4\u001b[0m, \u001b[1;36m19\u001b[0m, \u001b[1;36m51\u001b[0m, \u001b[1;36m15\u001b[0m, \u001b[1;36m89746\u001b[0m, \u001b[33mtzinfo\u001b[0m=\u001b[35mdatetime\u001b[0m.timezone.utc\u001b[1m)\u001b[0m,\n",
       "    \u001b[33mmodified_date\u001b[0m=\u001b[1;35mdatetime\u001b[0m\u001b[1;35m.datetime\u001b[0m\u001b[1m(\u001b[0m\u001b[1;36m2025\u001b[0m, \u001b[1;36m3\u001b[0m, \u001b[1;36m4\u001b[0m, \u001b[1;36m19\u001b[0m, \u001b[1;36m51\u001b[0m, \u001b[1;36m15\u001b[0m, \u001b[1;36m89746\u001b[0m, \u001b[33mtzinfo\u001b[0m=\u001b[35mdatetime\u001b[0m.timezone.utc\u001b[1m)\u001b[0m,\n",
       "    \u001b[33mcreated_by_user_id\u001b[0m=\u001b[32m'f47e4854-234b-421c-badb-7f8bb757cd9d'\u001b[0m,\n",
       "    \u001b[33mmodified_by_user_id\u001b[0m=\u001b[32m'f47e4854-234b-421c-badb-7f8bb757cd9d'\u001b[0m\n",
       "\u001b[1m)\u001b[0m\n"
      ]
     },
     "jetTransient": {
      "display_id": null
     },
     "metadata": {},
     "output_type": "display_data"
    },
    {
     "data": {
      "text/html": [
       "<pre style=\"white-space:pre;overflow-x:auto;line-height:normal;font-family:Menlo,'DejaVu Sans Mono',consolas,'Courier New',monospace\"><span style=\"color: #800080; text-decoration-color: #800080; font-weight: bold\">Channel</span><span style=\"font-weight: bold\">(</span>\n",
       "    <span style=\"color: #808000; text-decoration-color: #808000\">id_</span>=<span style=\"color: #008000; text-decoration-color: #008000\">'1c2dd815-2c9e-4801-92dc-1f65cad2114b'</span>,\n",
       "    <span style=\"color: #808000; text-decoration-color: #808000\">name</span>=<span style=\"color: #008000; text-decoration-color: #008000\">'voltage'</span>,\n",
       "    <span style=\"color: #808000; text-decoration-color: #808000\">data_type</span>=<span style=\"font-weight: bold\">&lt;</span><span style=\"color: #ff00ff; text-decoration-color: #ff00ff; font-weight: bold\">ChannelDataType.INT_32:</span><span style=\"color: #000000; text-decoration-color: #000000\"> </span><span style=\"color: #008080; text-decoration-color: #008080; font-weight: bold\">7</span><span style=\"font-weight: bold\">&gt;</span>,\n",
       "    <span style=\"color: #808000; text-decoration-color: #808000\">description</span>=<span style=\"color: #008000; text-decoration-color: #008000\">'voltage at the source'</span>,\n",
       "    <span style=\"color: #808000; text-decoration-color: #808000\">unit</span>=<span style=\"color: #008000; text-decoration-color: #008000\">'09f1005b-df6a-4f82-838f-c57e77c587ef'</span>,\n",
       "    <span style=\"color: #808000; text-decoration-color: #808000\">bit_field_elements</span>=<span style=\"font-weight: bold\">[]</span>,\n",
       "    <span style=\"color: #808000; text-decoration-color: #808000\">enum_types</span>=<span style=\"font-weight: bold\">{}</span>,\n",
       "    <span style=\"color: #808000; text-decoration-color: #808000\">asset_id</span>=<span style=\"color: #008000; text-decoration-color: #008000\">'61d6e4f0-8287-4678-b071-18a95fcd9db6'</span>,\n",
       "    <span style=\"color: #808000; text-decoration-color: #808000\">created_date</span>=<span style=\"color: #800080; text-decoration-color: #800080; font-weight: bold\">datetime</span><span style=\"color: #800080; text-decoration-color: #800080; font-weight: bold\">.datetime</span><span style=\"font-weight: bold\">(</span><span style=\"color: #008080; text-decoration-color: #008080; font-weight: bold\">2025</span>, <span style=\"color: #008080; text-decoration-color: #008080; font-weight: bold\">3</span>, <span style=\"color: #008080; text-decoration-color: #008080; font-weight: bold\">4</span>, <span style=\"color: #008080; text-decoration-color: #008080; font-weight: bold\">19</span>, <span style=\"color: #008080; text-decoration-color: #008080; font-weight: bold\">51</span>, <span style=\"color: #008080; text-decoration-color: #008080; font-weight: bold\">15</span>, <span style=\"color: #008080; text-decoration-color: #008080; font-weight: bold\">89746</span>, <span style=\"color: #808000; text-decoration-color: #808000\">tzinfo</span>=<span style=\"color: #800080; text-decoration-color: #800080\">datetime</span>.timezone.utc<span style=\"font-weight: bold\">)</span>,\n",
       "    <span style=\"color: #808000; text-decoration-color: #808000\">modified_date</span>=<span style=\"color: #800080; text-decoration-color: #800080; font-weight: bold\">datetime</span><span style=\"color: #800080; text-decoration-color: #800080; font-weight: bold\">.datetime</span><span style=\"font-weight: bold\">(</span><span style=\"color: #008080; text-decoration-color: #008080; font-weight: bold\">2025</span>, <span style=\"color: #008080; text-decoration-color: #008080; font-weight: bold\">3</span>, <span style=\"color: #008080; text-decoration-color: #008080; font-weight: bold\">4</span>, <span style=\"color: #008080; text-decoration-color: #008080; font-weight: bold\">19</span>, <span style=\"color: #008080; text-decoration-color: #008080; font-weight: bold\">51</span>, <span style=\"color: #008080; text-decoration-color: #008080; font-weight: bold\">15</span>, <span style=\"color: #008080; text-decoration-color: #008080; font-weight: bold\">89746</span>, <span style=\"color: #808000; text-decoration-color: #808000\">tzinfo</span>=<span style=\"color: #800080; text-decoration-color: #800080\">datetime</span>.timezone.utc<span style=\"font-weight: bold\">)</span>,\n",
       "    <span style=\"color: #808000; text-decoration-color: #808000\">created_by_user_id</span>=<span style=\"color: #008000; text-decoration-color: #008000\">'f47e4854-234b-421c-badb-7f8bb757cd9d'</span>,\n",
       "    <span style=\"color: #808000; text-decoration-color: #808000\">modified_by_user_id</span>=<span style=\"color: #008000; text-decoration-color: #008000\">'f47e4854-234b-421c-badb-7f8bb757cd9d'</span>\n",
       "<span style=\"font-weight: bold\">)</span>\n",
       "</pre>\n"
      ],
      "text/plain": [
       "\u001b[1;35mChannel\u001b[0m\u001b[1m(\u001b[0m\n",
       "    \u001b[33mid_\u001b[0m=\u001b[32m'1c2dd815-2c9e-4801-92dc-1f65cad2114b'\u001b[0m,\n",
       "    \u001b[33mname\u001b[0m=\u001b[32m'voltage'\u001b[0m,\n",
       "    \u001b[33mdata_type\u001b[0m=\u001b[1m<\u001b[0m\u001b[1;95mChannelDataType.INT_32:\u001b[0m\u001b[39m \u001b[0m\u001b[1;36m7\u001b[0m\u001b[1m>\u001b[0m,\n",
       "    \u001b[33mdescription\u001b[0m=\u001b[32m'voltage at the source'\u001b[0m,\n",
       "    \u001b[33munit\u001b[0m=\u001b[32m'09f1005b-df6a-4f82-838f-c57e77c587ef'\u001b[0m,\n",
       "    \u001b[33mbit_field_elements\u001b[0m=\u001b[1m[\u001b[0m\u001b[1m]\u001b[0m,\n",
       "    \u001b[33menum_types\u001b[0m=\u001b[1m{\u001b[0m\u001b[1m}\u001b[0m,\n",
       "    \u001b[33masset_id\u001b[0m=\u001b[32m'61d6e4f0-8287-4678-b071-18a95fcd9db6'\u001b[0m,\n",
       "    \u001b[33mcreated_date\u001b[0m=\u001b[1;35mdatetime\u001b[0m\u001b[1;35m.datetime\u001b[0m\u001b[1m(\u001b[0m\u001b[1;36m2025\u001b[0m, \u001b[1;36m3\u001b[0m, \u001b[1;36m4\u001b[0m, \u001b[1;36m19\u001b[0m, \u001b[1;36m51\u001b[0m, \u001b[1;36m15\u001b[0m, \u001b[1;36m89746\u001b[0m, \u001b[33mtzinfo\u001b[0m=\u001b[35mdatetime\u001b[0m.timezone.utc\u001b[1m)\u001b[0m,\n",
       "    \u001b[33mmodified_date\u001b[0m=\u001b[1;35mdatetime\u001b[0m\u001b[1;35m.datetime\u001b[0m\u001b[1m(\u001b[0m\u001b[1;36m2025\u001b[0m, \u001b[1;36m3\u001b[0m, \u001b[1;36m4\u001b[0m, \u001b[1;36m19\u001b[0m, \u001b[1;36m51\u001b[0m, \u001b[1;36m15\u001b[0m, \u001b[1;36m89746\u001b[0m, \u001b[33mtzinfo\u001b[0m=\u001b[35mdatetime\u001b[0m.timezone.utc\u001b[1m)\u001b[0m,\n",
       "    \u001b[33mcreated_by_user_id\u001b[0m=\u001b[32m'f47e4854-234b-421c-badb-7f8bb757cd9d'\u001b[0m,\n",
       "    \u001b[33mmodified_by_user_id\u001b[0m=\u001b[32m'f47e4854-234b-421c-badb-7f8bb757cd9d'\u001b[0m\n",
       "\u001b[1m)\u001b[0m\n"
      ]
     },
     "jetTransient": {
      "display_id": null
     },
     "metadata": {},
     "output_type": "display_data"
    },
    {
     "data": {
      "text/html": [
       "<pre style=\"white-space:pre;overflow-x:auto;line-height:normal;font-family:Menlo,'DejaVu Sans Mono',consolas,'Courier New',monospace\"><span style=\"color: #800080; text-decoration-color: #800080; font-weight: bold\">Channel</span><span style=\"font-weight: bold\">(</span>\n",
       "    <span style=\"color: #808000; text-decoration-color: #808000\">id_</span>=<span style=\"color: #008000; text-decoration-color: #008000\">'606817a0-396e-4575-9ffc-45a4ef9ca66a'</span>,\n",
       "    <span style=\"color: #808000; text-decoration-color: #808000\">name</span>=<span style=\"color: #008000; text-decoration-color: #008000\">'log'</span>,\n",
       "    <span style=\"color: #808000; text-decoration-color: #808000\">data_type</span>=<span style=\"font-weight: bold\">&lt;</span><span style=\"color: #ff00ff; text-decoration-color: #ff00ff; font-weight: bold\">ChannelDataType.STRING:</span><span style=\"color: #000000; text-decoration-color: #000000\"> </span><span style=\"color: #008080; text-decoration-color: #008080; font-weight: bold\">2</span><span style=\"font-weight: bold\">&gt;</span>,\n",
       "    <span style=\"color: #808000; text-decoration-color: #808000\">description</span>=<span style=\"color: #008000; text-decoration-color: #008000\">'this simulates log files'</span>,\n",
       "    <span style=\"color: #808000; text-decoration-color: #808000\">unit</span>=<span style=\"color: #008000; text-decoration-color: #008000\">'0c359676-c6c9-47d3-acca-d8e938311b2a'</span>,\n",
       "    <span style=\"color: #808000; text-decoration-color: #808000\">bit_field_elements</span>=<span style=\"font-weight: bold\">[]</span>,\n",
       "    <span style=\"color: #808000; text-decoration-color: #808000\">enum_types</span>=<span style=\"font-weight: bold\">{}</span>,\n",
       "    <span style=\"color: #808000; text-decoration-color: #808000\">asset_id</span>=<span style=\"color: #008000; text-decoration-color: #008000\">'61d6e4f0-8287-4678-b071-18a95fcd9db6'</span>,\n",
       "    <span style=\"color: #808000; text-decoration-color: #808000\">created_date</span>=<span style=\"color: #800080; text-decoration-color: #800080; font-weight: bold\">datetime</span><span style=\"color: #800080; text-decoration-color: #800080; font-weight: bold\">.datetime</span><span style=\"font-weight: bold\">(</span><span style=\"color: #008080; text-decoration-color: #008080; font-weight: bold\">2025</span>, <span style=\"color: #008080; text-decoration-color: #008080; font-weight: bold\">3</span>, <span style=\"color: #008080; text-decoration-color: #008080; font-weight: bold\">4</span>, <span style=\"color: #008080; text-decoration-color: #008080; font-weight: bold\">19</span>, <span style=\"color: #008080; text-decoration-color: #008080; font-weight: bold\">51</span>, <span style=\"color: #008080; text-decoration-color: #008080; font-weight: bold\">15</span>, <span style=\"color: #008080; text-decoration-color: #008080; font-weight: bold\">89746</span>, <span style=\"color: #808000; text-decoration-color: #808000\">tzinfo</span>=<span style=\"color: #800080; text-decoration-color: #800080\">datetime</span>.timezone.utc<span style=\"font-weight: bold\">)</span>,\n",
       "    <span style=\"color: #808000; text-decoration-color: #808000\">modified_date</span>=<span style=\"color: #800080; text-decoration-color: #800080; font-weight: bold\">datetime</span><span style=\"color: #800080; text-decoration-color: #800080; font-weight: bold\">.datetime</span><span style=\"font-weight: bold\">(</span><span style=\"color: #008080; text-decoration-color: #008080; font-weight: bold\">2025</span>, <span style=\"color: #008080; text-decoration-color: #008080; font-weight: bold\">3</span>, <span style=\"color: #008080; text-decoration-color: #008080; font-weight: bold\">4</span>, <span style=\"color: #008080; text-decoration-color: #008080; font-weight: bold\">19</span>, <span style=\"color: #008080; text-decoration-color: #008080; font-weight: bold\">51</span>, <span style=\"color: #008080; text-decoration-color: #008080; font-weight: bold\">15</span>, <span style=\"color: #008080; text-decoration-color: #008080; font-weight: bold\">89746</span>, <span style=\"color: #808000; text-decoration-color: #808000\">tzinfo</span>=<span style=\"color: #800080; text-decoration-color: #800080\">datetime</span>.timezone.utc<span style=\"font-weight: bold\">)</span>,\n",
       "    <span style=\"color: #808000; text-decoration-color: #808000\">created_by_user_id</span>=<span style=\"color: #008000; text-decoration-color: #008000\">'f47e4854-234b-421c-badb-7f8bb757cd9d'</span>,\n",
       "    <span style=\"color: #808000; text-decoration-color: #808000\">modified_by_user_id</span>=<span style=\"color: #008000; text-decoration-color: #008000\">'f47e4854-234b-421c-badb-7f8bb757cd9d'</span>\n",
       "<span style=\"font-weight: bold\">)</span>\n",
       "</pre>\n"
      ],
      "text/plain": [
       "\u001b[1;35mChannel\u001b[0m\u001b[1m(\u001b[0m\n",
       "    \u001b[33mid_\u001b[0m=\u001b[32m'606817a0-396e-4575-9ffc-45a4ef9ca66a'\u001b[0m,\n",
       "    \u001b[33mname\u001b[0m=\u001b[32m'log'\u001b[0m,\n",
       "    \u001b[33mdata_type\u001b[0m=\u001b[1m<\u001b[0m\u001b[1;95mChannelDataType.STRING:\u001b[0m\u001b[39m \u001b[0m\u001b[1;36m2\u001b[0m\u001b[1m>\u001b[0m,\n",
       "    \u001b[33mdescription\u001b[0m=\u001b[32m'this simulates log files'\u001b[0m,\n",
       "    \u001b[33munit\u001b[0m=\u001b[32m'0c359676-c6c9-47d3-acca-d8e938311b2a'\u001b[0m,\n",
       "    \u001b[33mbit_field_elements\u001b[0m=\u001b[1m[\u001b[0m\u001b[1m]\u001b[0m,\n",
       "    \u001b[33menum_types\u001b[0m=\u001b[1m{\u001b[0m\u001b[1m}\u001b[0m,\n",
       "    \u001b[33masset_id\u001b[0m=\u001b[32m'61d6e4f0-8287-4678-b071-18a95fcd9db6'\u001b[0m,\n",
       "    \u001b[33mcreated_date\u001b[0m=\u001b[1;35mdatetime\u001b[0m\u001b[1;35m.datetime\u001b[0m\u001b[1m(\u001b[0m\u001b[1;36m2025\u001b[0m, \u001b[1;36m3\u001b[0m, \u001b[1;36m4\u001b[0m, \u001b[1;36m19\u001b[0m, \u001b[1;36m51\u001b[0m, \u001b[1;36m15\u001b[0m, \u001b[1;36m89746\u001b[0m, \u001b[33mtzinfo\u001b[0m=\u001b[35mdatetime\u001b[0m.timezone.utc\u001b[1m)\u001b[0m,\n",
       "    \u001b[33mmodified_date\u001b[0m=\u001b[1;35mdatetime\u001b[0m\u001b[1;35m.datetime\u001b[0m\u001b[1m(\u001b[0m\u001b[1;36m2025\u001b[0m, \u001b[1;36m3\u001b[0m, \u001b[1;36m4\u001b[0m, \u001b[1;36m19\u001b[0m, \u001b[1;36m51\u001b[0m, \u001b[1;36m15\u001b[0m, \u001b[1;36m89746\u001b[0m, \u001b[33mtzinfo\u001b[0m=\u001b[35mdatetime\u001b[0m.timezone.utc\u001b[1m)\u001b[0m,\n",
       "    \u001b[33mcreated_by_user_id\u001b[0m=\u001b[32m'f47e4854-234b-421c-badb-7f8bb757cd9d'\u001b[0m,\n",
       "    \u001b[33mmodified_by_user_id\u001b[0m=\u001b[32m'f47e4854-234b-421c-badb-7f8bb757cd9d'\u001b[0m\n",
       "\u001b[1m)\u001b[0m\n"
      ]
     },
     "jetTransient": {
      "display_id": null
     },
     "metadata": {},
     "output_type": "display_data"
    },
    {
     "data": {
      "text/html": [
       "<pre style=\"white-space:pre;overflow-x:auto;line-height:normal;font-family:Menlo,'DejaVu Sans Mono',consolas,'Courier New',monospace\"><span style=\"color: #800080; text-decoration-color: #800080; font-weight: bold\">Channel</span><span style=\"font-weight: bold\">(</span>\n",
       "    <span style=\"color: #808000; text-decoration-color: #808000\">id_</span>=<span style=\"color: #008000; text-decoration-color: #008000\">'a59c4ec4-5e8c-4457-8a41-ecbc06b0dca7'</span>,\n",
       "    <span style=\"color: #808000; text-decoration-color: #808000\">name</span>=<span style=\"color: #008000; text-decoration-color: #008000\">'mainmotor.velocity'</span>,\n",
       "    <span style=\"color: #808000; text-decoration-color: #808000\">data_type</span>=<span style=\"font-weight: bold\">&lt;</span><span style=\"color: #ff00ff; text-decoration-color: #ff00ff; font-weight: bold\">ChannelDataType.DOUBLE:</span><span style=\"color: #000000; text-decoration-color: #000000\"> </span><span style=\"color: #008080; text-decoration-color: #008080; font-weight: bold\">1</span><span style=\"font-weight: bold\">&gt;</span>,\n",
       "    <span style=\"color: #808000; text-decoration-color: #808000\">description</span>=<span style=\"color: #008000; text-decoration-color: #008000\">'speed'</span>,\n",
       "    <span style=\"color: #808000; text-decoration-color: #808000\">unit</span>=<span style=\"color: #008000; text-decoration-color: #008000\">'b840c8e8-33fb-433c-9448-07577f04e990'</span>,\n",
       "    <span style=\"color: #808000; text-decoration-color: #808000\">bit_field_elements</span>=<span style=\"font-weight: bold\">[]</span>,\n",
       "    <span style=\"color: #808000; text-decoration-color: #808000\">enum_types</span>=<span style=\"font-weight: bold\">{}</span>,\n",
       "    <span style=\"color: #808000; text-decoration-color: #808000\">asset_id</span>=<span style=\"color: #008000; text-decoration-color: #008000\">'61d6e4f0-8287-4678-b071-18a95fcd9db6'</span>,\n",
       "    <span style=\"color: #808000; text-decoration-color: #808000\">created_date</span>=<span style=\"color: #800080; text-decoration-color: #800080; font-weight: bold\">datetime</span><span style=\"color: #800080; text-decoration-color: #800080; font-weight: bold\">.datetime</span><span style=\"font-weight: bold\">(</span><span style=\"color: #008080; text-decoration-color: #008080; font-weight: bold\">2025</span>, <span style=\"color: #008080; text-decoration-color: #008080; font-weight: bold\">3</span>, <span style=\"color: #008080; text-decoration-color: #008080; font-weight: bold\">4</span>, <span style=\"color: #008080; text-decoration-color: #008080; font-weight: bold\">19</span>, <span style=\"color: #008080; text-decoration-color: #008080; font-weight: bold\">51</span>, <span style=\"color: #008080; text-decoration-color: #008080; font-weight: bold\">15</span>, <span style=\"color: #008080; text-decoration-color: #008080; font-weight: bold\">89746</span>, <span style=\"color: #808000; text-decoration-color: #808000\">tzinfo</span>=<span style=\"color: #800080; text-decoration-color: #800080\">datetime</span>.timezone.utc<span style=\"font-weight: bold\">)</span>,\n",
       "    <span style=\"color: #808000; text-decoration-color: #808000\">modified_date</span>=<span style=\"color: #800080; text-decoration-color: #800080; font-weight: bold\">datetime</span><span style=\"color: #800080; text-decoration-color: #800080; font-weight: bold\">.datetime</span><span style=\"font-weight: bold\">(</span><span style=\"color: #008080; text-decoration-color: #008080; font-weight: bold\">2025</span>, <span style=\"color: #008080; text-decoration-color: #008080; font-weight: bold\">3</span>, <span style=\"color: #008080; text-decoration-color: #008080; font-weight: bold\">4</span>, <span style=\"color: #008080; text-decoration-color: #008080; font-weight: bold\">19</span>, <span style=\"color: #008080; text-decoration-color: #008080; font-weight: bold\">51</span>, <span style=\"color: #008080; text-decoration-color: #008080; font-weight: bold\">15</span>, <span style=\"color: #008080; text-decoration-color: #008080; font-weight: bold\">89746</span>, <span style=\"color: #808000; text-decoration-color: #808000\">tzinfo</span>=<span style=\"color: #800080; text-decoration-color: #800080\">datetime</span>.timezone.utc<span style=\"font-weight: bold\">)</span>,\n",
       "    <span style=\"color: #808000; text-decoration-color: #808000\">created_by_user_id</span>=<span style=\"color: #008000; text-decoration-color: #008000\">'f47e4854-234b-421c-badb-7f8bb757cd9d'</span>,\n",
       "    <span style=\"color: #808000; text-decoration-color: #808000\">modified_by_user_id</span>=<span style=\"color: #008000; text-decoration-color: #008000\">'f47e4854-234b-421c-badb-7f8bb757cd9d'</span>\n",
       "<span style=\"font-weight: bold\">)</span>\n",
       "</pre>\n"
      ],
      "text/plain": [
       "\u001b[1;35mChannel\u001b[0m\u001b[1m(\u001b[0m\n",
       "    \u001b[33mid_\u001b[0m=\u001b[32m'a59c4ec4-5e8c-4457-8a41-ecbc06b0dca7'\u001b[0m,\n",
       "    \u001b[33mname\u001b[0m=\u001b[32m'mainmotor.velocity'\u001b[0m,\n",
       "    \u001b[33mdata_type\u001b[0m=\u001b[1m<\u001b[0m\u001b[1;95mChannelDataType.DOUBLE:\u001b[0m\u001b[39m \u001b[0m\u001b[1;36m1\u001b[0m\u001b[1m>\u001b[0m,\n",
       "    \u001b[33mdescription\u001b[0m=\u001b[32m'speed'\u001b[0m,\n",
       "    \u001b[33munit\u001b[0m=\u001b[32m'b840c8e8-33fb-433c-9448-07577f04e990'\u001b[0m,\n",
       "    \u001b[33mbit_field_elements\u001b[0m=\u001b[1m[\u001b[0m\u001b[1m]\u001b[0m,\n",
       "    \u001b[33menum_types\u001b[0m=\u001b[1m{\u001b[0m\u001b[1m}\u001b[0m,\n",
       "    \u001b[33masset_id\u001b[0m=\u001b[32m'61d6e4f0-8287-4678-b071-18a95fcd9db6'\u001b[0m,\n",
       "    \u001b[33mcreated_date\u001b[0m=\u001b[1;35mdatetime\u001b[0m\u001b[1;35m.datetime\u001b[0m\u001b[1m(\u001b[0m\u001b[1;36m2025\u001b[0m, \u001b[1;36m3\u001b[0m, \u001b[1;36m4\u001b[0m, \u001b[1;36m19\u001b[0m, \u001b[1;36m51\u001b[0m, \u001b[1;36m15\u001b[0m, \u001b[1;36m89746\u001b[0m, \u001b[33mtzinfo\u001b[0m=\u001b[35mdatetime\u001b[0m.timezone.utc\u001b[1m)\u001b[0m,\n",
       "    \u001b[33mmodified_date\u001b[0m=\u001b[1;35mdatetime\u001b[0m\u001b[1;35m.datetime\u001b[0m\u001b[1m(\u001b[0m\u001b[1;36m2025\u001b[0m, \u001b[1;36m3\u001b[0m, \u001b[1;36m4\u001b[0m, \u001b[1;36m19\u001b[0m, \u001b[1;36m51\u001b[0m, \u001b[1;36m15\u001b[0m, \u001b[1;36m89746\u001b[0m, \u001b[33mtzinfo\u001b[0m=\u001b[35mdatetime\u001b[0m.timezone.utc\u001b[1m)\u001b[0m,\n",
       "    \u001b[33mcreated_by_user_id\u001b[0m=\u001b[32m'f47e4854-234b-421c-badb-7f8bb757cd9d'\u001b[0m,\n",
       "    \u001b[33mmodified_by_user_id\u001b[0m=\u001b[32m'f47e4854-234b-421c-badb-7f8bb757cd9d'\u001b[0m\n",
       "\u001b[1m)\u001b[0m\n"
      ]
     },
     "jetTransient": {
      "display_id": null
     },
     "metadata": {},
     "output_type": "display_data"
    },
    {
     "data": {
      "text/html": [
       "<pre style=\"white-space:pre;overflow-x:auto;line-height:normal;font-family:Menlo,'DejaVu Sans Mono',consolas,'Courier New',monospace\"><span style=\"color: #800080; text-decoration-color: #800080; font-weight: bold\">Channel</span><span style=\"font-weight: bold\">(</span>\n",
       "    <span style=\"color: #808000; text-decoration-color: #808000\">id_</span>=<span style=\"color: #008000; text-decoration-color: #008000\">'c052cef4-d3eb-486e-b3cb-63b59504e913'</span>,\n",
       "    <span style=\"color: #808000; text-decoration-color: #808000\">name</span>=<span style=\"color: #008000; text-decoration-color: #008000\">'gpio'</span>,\n",
       "    <span style=\"color: #808000; text-decoration-color: #808000\">data_type</span>=<span style=\"font-weight: bold\">&lt;</span><span style=\"color: #ff00ff; text-decoration-color: #ff00ff; font-weight: bold\">ChannelDataType.BIT_FIELD:</span><span style=\"color: #000000; text-decoration-color: #000000\"> </span><span style=\"color: #008080; text-decoration-color: #008080; font-weight: bold\">4</span><span style=\"font-weight: bold\">&gt;</span>,\n",
       "    <span style=\"color: #808000; text-decoration-color: #808000\">description</span>=<span style=\"color: #008000; text-decoration-color: #008000\">'on/off values for pins on gpio'</span>,\n",
       "    <span style=\"color: #808000; text-decoration-color: #808000\">unit</span>=<span style=\"color: #008000; text-decoration-color: #008000\">'0c359676-c6c9-47d3-acca-d8e938311b2a'</span>,\n",
       "    <span style=\"color: #808000; text-decoration-color: #808000\">bit_field_elements</span>=<span style=\"font-weight: bold\">[</span>\n",
       "        <span style=\"font-weight: bold\">{</span><span style=\"color: #008000; text-decoration-color: #008000\">'name'</span>: <span style=\"color: #008000; text-decoration-color: #008000\">'12v'</span>, <span style=\"color: #008000; text-decoration-color: #008000\">'index'</span>: <span style=\"color: #008080; text-decoration-color: #008080; font-weight: bold\">0</span>, <span style=\"color: #008000; text-decoration-color: #008000\">'bit_count'</span>: <span style=\"color: #008080; text-decoration-color: #008080; font-weight: bold\">1</span><span style=\"font-weight: bold\">}</span>,\n",
       "        <span style=\"font-weight: bold\">{</span><span style=\"color: #008000; text-decoration-color: #008000\">'name'</span>: <span style=\"color: #008000; text-decoration-color: #008000\">'charge'</span>, <span style=\"color: #008000; text-decoration-color: #008000\">'index'</span>: <span style=\"color: #008080; text-decoration-color: #008080; font-weight: bold\">1</span>, <span style=\"color: #008000; text-decoration-color: #008000\">'bit_count'</span>: <span style=\"color: #008080; text-decoration-color: #008080; font-weight: bold\">2</span><span style=\"font-weight: bold\">}</span>,\n",
       "        <span style=\"font-weight: bold\">{</span><span style=\"color: #008000; text-decoration-color: #008000\">'name'</span>: <span style=\"color: #008000; text-decoration-color: #008000\">'led'</span>, <span style=\"color: #008000; text-decoration-color: #008000\">'index'</span>: <span style=\"color: #008080; text-decoration-color: #008080; font-weight: bold\">3</span>, <span style=\"color: #008000; text-decoration-color: #008000\">'bit_count'</span>: <span style=\"color: #008080; text-decoration-color: #008080; font-weight: bold\">4</span><span style=\"font-weight: bold\">}</span>,\n",
       "        <span style=\"font-weight: bold\">{</span><span style=\"color: #008000; text-decoration-color: #008000\">'name'</span>: <span style=\"color: #008000; text-decoration-color: #008000\">'heater'</span>, <span style=\"color: #008000; text-decoration-color: #008000\">'index'</span>: <span style=\"color: #008080; text-decoration-color: #008080; font-weight: bold\">7</span>, <span style=\"color: #008000; text-decoration-color: #008000\">'bit_count'</span>: <span style=\"color: #008080; text-decoration-color: #008080; font-weight: bold\">1</span><span style=\"font-weight: bold\">}</span>\n",
       "    <span style=\"font-weight: bold\">]</span>,\n",
       "    <span style=\"color: #808000; text-decoration-color: #808000\">enum_types</span>=<span style=\"font-weight: bold\">{}</span>,\n",
       "    <span style=\"color: #808000; text-decoration-color: #808000\">asset_id</span>=<span style=\"color: #008000; text-decoration-color: #008000\">'61d6e4f0-8287-4678-b071-18a95fcd9db6'</span>,\n",
       "    <span style=\"color: #808000; text-decoration-color: #808000\">created_date</span>=<span style=\"color: #800080; text-decoration-color: #800080; font-weight: bold\">datetime</span><span style=\"color: #800080; text-decoration-color: #800080; font-weight: bold\">.datetime</span><span style=\"font-weight: bold\">(</span><span style=\"color: #008080; text-decoration-color: #008080; font-weight: bold\">2025</span>, <span style=\"color: #008080; text-decoration-color: #008080; font-weight: bold\">3</span>, <span style=\"color: #008080; text-decoration-color: #008080; font-weight: bold\">4</span>, <span style=\"color: #008080; text-decoration-color: #008080; font-weight: bold\">19</span>, <span style=\"color: #008080; text-decoration-color: #008080; font-weight: bold\">51</span>, <span style=\"color: #008080; text-decoration-color: #008080; font-weight: bold\">15</span>, <span style=\"color: #008080; text-decoration-color: #008080; font-weight: bold\">89746</span>, <span style=\"color: #808000; text-decoration-color: #808000\">tzinfo</span>=<span style=\"color: #800080; text-decoration-color: #800080\">datetime</span>.timezone.utc<span style=\"font-weight: bold\">)</span>,\n",
       "    <span style=\"color: #808000; text-decoration-color: #808000\">modified_date</span>=<span style=\"color: #800080; text-decoration-color: #800080; font-weight: bold\">datetime</span><span style=\"color: #800080; text-decoration-color: #800080; font-weight: bold\">.datetime</span><span style=\"font-weight: bold\">(</span><span style=\"color: #008080; text-decoration-color: #008080; font-weight: bold\">2025</span>, <span style=\"color: #008080; text-decoration-color: #008080; font-weight: bold\">3</span>, <span style=\"color: #008080; text-decoration-color: #008080; font-weight: bold\">4</span>, <span style=\"color: #008080; text-decoration-color: #008080; font-weight: bold\">19</span>, <span style=\"color: #008080; text-decoration-color: #008080; font-weight: bold\">51</span>, <span style=\"color: #008080; text-decoration-color: #008080; font-weight: bold\">15</span>, <span style=\"color: #008080; text-decoration-color: #008080; font-weight: bold\">89746</span>, <span style=\"color: #808000; text-decoration-color: #808000\">tzinfo</span>=<span style=\"color: #800080; text-decoration-color: #800080\">datetime</span>.timezone.utc<span style=\"font-weight: bold\">)</span>,\n",
       "    <span style=\"color: #808000; text-decoration-color: #808000\">created_by_user_id</span>=<span style=\"color: #008000; text-decoration-color: #008000\">'f47e4854-234b-421c-badb-7f8bb757cd9d'</span>,\n",
       "    <span style=\"color: #808000; text-decoration-color: #808000\">modified_by_user_id</span>=<span style=\"color: #008000; text-decoration-color: #008000\">'f47e4854-234b-421c-badb-7f8bb757cd9d'</span>\n",
       "<span style=\"font-weight: bold\">)</span>\n",
       "</pre>\n"
      ],
      "text/plain": [
       "\u001b[1;35mChannel\u001b[0m\u001b[1m(\u001b[0m\n",
       "    \u001b[33mid_\u001b[0m=\u001b[32m'c052cef4-d3eb-486e-b3cb-63b59504e913'\u001b[0m,\n",
       "    \u001b[33mname\u001b[0m=\u001b[32m'gpio'\u001b[0m,\n",
       "    \u001b[33mdata_type\u001b[0m=\u001b[1m<\u001b[0m\u001b[1;95mChannelDataType.BIT_FIELD:\u001b[0m\u001b[39m \u001b[0m\u001b[1;36m4\u001b[0m\u001b[1m>\u001b[0m,\n",
       "    \u001b[33mdescription\u001b[0m=\u001b[32m'on/off values for pins on gpio'\u001b[0m,\n",
       "    \u001b[33munit\u001b[0m=\u001b[32m'0c359676-c6c9-47d3-acca-d8e938311b2a'\u001b[0m,\n",
       "    \u001b[33mbit_field_elements\u001b[0m=\u001b[1m[\u001b[0m\n",
       "        \u001b[1m{\u001b[0m\u001b[32m'name'\u001b[0m: \u001b[32m'12v'\u001b[0m, \u001b[32m'index'\u001b[0m: \u001b[1;36m0\u001b[0m, \u001b[32m'bit_count'\u001b[0m: \u001b[1;36m1\u001b[0m\u001b[1m}\u001b[0m,\n",
       "        \u001b[1m{\u001b[0m\u001b[32m'name'\u001b[0m: \u001b[32m'charge'\u001b[0m, \u001b[32m'index'\u001b[0m: \u001b[1;36m1\u001b[0m, \u001b[32m'bit_count'\u001b[0m: \u001b[1;36m2\u001b[0m\u001b[1m}\u001b[0m,\n",
       "        \u001b[1m{\u001b[0m\u001b[32m'name'\u001b[0m: \u001b[32m'led'\u001b[0m, \u001b[32m'index'\u001b[0m: \u001b[1;36m3\u001b[0m, \u001b[32m'bit_count'\u001b[0m: \u001b[1;36m4\u001b[0m\u001b[1m}\u001b[0m,\n",
       "        \u001b[1m{\u001b[0m\u001b[32m'name'\u001b[0m: \u001b[32m'heater'\u001b[0m, \u001b[32m'index'\u001b[0m: \u001b[1;36m7\u001b[0m, \u001b[32m'bit_count'\u001b[0m: \u001b[1;36m1\u001b[0m\u001b[1m}\u001b[0m\n",
       "    \u001b[1m]\u001b[0m,\n",
       "    \u001b[33menum_types\u001b[0m=\u001b[1m{\u001b[0m\u001b[1m}\u001b[0m,\n",
       "    \u001b[33masset_id\u001b[0m=\u001b[32m'61d6e4f0-8287-4678-b071-18a95fcd9db6'\u001b[0m,\n",
       "    \u001b[33mcreated_date\u001b[0m=\u001b[1;35mdatetime\u001b[0m\u001b[1;35m.datetime\u001b[0m\u001b[1m(\u001b[0m\u001b[1;36m2025\u001b[0m, \u001b[1;36m3\u001b[0m, \u001b[1;36m4\u001b[0m, \u001b[1;36m19\u001b[0m, \u001b[1;36m51\u001b[0m, \u001b[1;36m15\u001b[0m, \u001b[1;36m89746\u001b[0m, \u001b[33mtzinfo\u001b[0m=\u001b[35mdatetime\u001b[0m.timezone.utc\u001b[1m)\u001b[0m,\n",
       "    \u001b[33mmodified_date\u001b[0m=\u001b[1;35mdatetime\u001b[0m\u001b[1;35m.datetime\u001b[0m\u001b[1m(\u001b[0m\u001b[1;36m2025\u001b[0m, \u001b[1;36m3\u001b[0m, \u001b[1;36m4\u001b[0m, \u001b[1;36m19\u001b[0m, \u001b[1;36m51\u001b[0m, \u001b[1;36m15\u001b[0m, \u001b[1;36m89746\u001b[0m, \u001b[33mtzinfo\u001b[0m=\u001b[35mdatetime\u001b[0m.timezone.utc\u001b[1m)\u001b[0m,\n",
       "    \u001b[33mcreated_by_user_id\u001b[0m=\u001b[32m'f47e4854-234b-421c-badb-7f8bb757cd9d'\u001b[0m,\n",
       "    \u001b[33mmodified_by_user_id\u001b[0m=\u001b[32m'f47e4854-234b-421c-badb-7f8bb757cd9d'\u001b[0m\n",
       "\u001b[1m)\u001b[0m\n"
      ]
     },
     "jetTransient": {
      "display_id": null
     },
     "metadata": {},
     "output_type": "display_data"
    }
   ],
   "source": [
    "# List channels for the selected asset\n",
    "channels = client.channels.list_(asset=asset.id_, limit=5)\n",
    "\n",
    "print(f\"Found {len(channels)} channels for asset '{asset.name}':\")\n",
    "for channel in channels:  # Show first 10\n",
    "    print(channel)"
   ]
  },
  {
   "cell_type": "code",
   "execution_count": 51,
   "id": "c2317d7f561926d6",
   "metadata": {
    "ExecuteTime": {
     "end_time": "2025-10-10T21:43:40.414219Z",
     "start_time": "2025-10-10T21:43:40.325320Z"
    }
   },
   "outputs": [
    {
     "data": {
      "text/html": [
       "<pre style=\"white-space:pre;overflow-x:auto;line-height:normal;font-family:Menlo,'DejaVu Sans Mono',consolas,'Courier New',monospace\">Channels containing <span style=\"color: #008000; text-decoration-color: #008000\">'velocity'</span>: <span style=\"color: #008080; text-decoration-color: #008080; font-weight: bold\">1</span>\n",
       "</pre>\n"
      ],
      "text/plain": [
       "Channels containing \u001b[32m'velocity'\u001b[0m: \u001b[1;36m1\u001b[0m\n"
      ]
     },
     "jetTransient": {
      "display_id": null
     },
     "metadata": {},
     "output_type": "display_data"
    },
    {
     "data": {
      "text/html": [
       "<pre style=\"white-space:pre;overflow-x:auto;line-height:normal;font-family:Menlo,'DejaVu Sans Mono',consolas,'Courier New',monospace\"><span style=\"color: #800080; text-decoration-color: #800080; font-weight: bold\">Channel</span><span style=\"font-weight: bold\">(</span>\n",
       "    <span style=\"color: #808000; text-decoration-color: #808000\">id_</span>=<span style=\"color: #008000; text-decoration-color: #008000\">'a59c4ec4-5e8c-4457-8a41-ecbc06b0dca7'</span>,\n",
       "    <span style=\"color: #808000; text-decoration-color: #808000\">name</span>=<span style=\"color: #008000; text-decoration-color: #008000\">'mainmotor.velocity'</span>,\n",
       "    <span style=\"color: #808000; text-decoration-color: #808000\">data_type</span>=<span style=\"font-weight: bold\">&lt;</span><span style=\"color: #ff00ff; text-decoration-color: #ff00ff; font-weight: bold\">ChannelDataType.DOUBLE:</span><span style=\"color: #000000; text-decoration-color: #000000\"> </span><span style=\"color: #008080; text-decoration-color: #008080; font-weight: bold\">1</span><span style=\"font-weight: bold\">&gt;</span>,\n",
       "    <span style=\"color: #808000; text-decoration-color: #808000\">description</span>=<span style=\"color: #008000; text-decoration-color: #008000\">'speed'</span>,\n",
       "    <span style=\"color: #808000; text-decoration-color: #808000\">unit</span>=<span style=\"color: #008000; text-decoration-color: #008000\">'b840c8e8-33fb-433c-9448-07577f04e990'</span>,\n",
       "    <span style=\"color: #808000; text-decoration-color: #808000\">bit_field_elements</span>=<span style=\"font-weight: bold\">[]</span>,\n",
       "    <span style=\"color: #808000; text-decoration-color: #808000\">enum_types</span>=<span style=\"font-weight: bold\">{}</span>,\n",
       "    <span style=\"color: #808000; text-decoration-color: #808000\">asset_id</span>=<span style=\"color: #008000; text-decoration-color: #008000\">'61d6e4f0-8287-4678-b071-18a95fcd9db6'</span>,\n",
       "    <span style=\"color: #808000; text-decoration-color: #808000\">created_date</span>=<span style=\"color: #800080; text-decoration-color: #800080; font-weight: bold\">datetime</span><span style=\"color: #800080; text-decoration-color: #800080; font-weight: bold\">.datetime</span><span style=\"font-weight: bold\">(</span><span style=\"color: #008080; text-decoration-color: #008080; font-weight: bold\">2025</span>, <span style=\"color: #008080; text-decoration-color: #008080; font-weight: bold\">3</span>, <span style=\"color: #008080; text-decoration-color: #008080; font-weight: bold\">4</span>, <span style=\"color: #008080; text-decoration-color: #008080; font-weight: bold\">19</span>, <span style=\"color: #008080; text-decoration-color: #008080; font-weight: bold\">51</span>, <span style=\"color: #008080; text-decoration-color: #008080; font-weight: bold\">15</span>, <span style=\"color: #008080; text-decoration-color: #008080; font-weight: bold\">89746</span>, <span style=\"color: #808000; text-decoration-color: #808000\">tzinfo</span>=<span style=\"color: #800080; text-decoration-color: #800080\">datetime</span>.timezone.utc<span style=\"font-weight: bold\">)</span>,\n",
       "    <span style=\"color: #808000; text-decoration-color: #808000\">modified_date</span>=<span style=\"color: #800080; text-decoration-color: #800080; font-weight: bold\">datetime</span><span style=\"color: #800080; text-decoration-color: #800080; font-weight: bold\">.datetime</span><span style=\"font-weight: bold\">(</span><span style=\"color: #008080; text-decoration-color: #008080; font-weight: bold\">2025</span>, <span style=\"color: #008080; text-decoration-color: #008080; font-weight: bold\">3</span>, <span style=\"color: #008080; text-decoration-color: #008080; font-weight: bold\">4</span>, <span style=\"color: #008080; text-decoration-color: #008080; font-weight: bold\">19</span>, <span style=\"color: #008080; text-decoration-color: #008080; font-weight: bold\">51</span>, <span style=\"color: #008080; text-decoration-color: #008080; font-weight: bold\">15</span>, <span style=\"color: #008080; text-decoration-color: #008080; font-weight: bold\">89746</span>, <span style=\"color: #808000; text-decoration-color: #808000\">tzinfo</span>=<span style=\"color: #800080; text-decoration-color: #800080\">datetime</span>.timezone.utc<span style=\"font-weight: bold\">)</span>,\n",
       "    <span style=\"color: #808000; text-decoration-color: #808000\">created_by_user_id</span>=<span style=\"color: #008000; text-decoration-color: #008000\">'f47e4854-234b-421c-badb-7f8bb757cd9d'</span>,\n",
       "    <span style=\"color: #808000; text-decoration-color: #808000\">modified_by_user_id</span>=<span style=\"color: #008000; text-decoration-color: #008000\">'f47e4854-234b-421c-badb-7f8bb757cd9d'</span>\n",
       "<span style=\"font-weight: bold\">)</span>\n",
       "</pre>\n"
      ],
      "text/plain": [
       "\u001b[1;35mChannel\u001b[0m\u001b[1m(\u001b[0m\n",
       "    \u001b[33mid_\u001b[0m=\u001b[32m'a59c4ec4-5e8c-4457-8a41-ecbc06b0dca7'\u001b[0m,\n",
       "    \u001b[33mname\u001b[0m=\u001b[32m'mainmotor.velocity'\u001b[0m,\n",
       "    \u001b[33mdata_type\u001b[0m=\u001b[1m<\u001b[0m\u001b[1;95mChannelDataType.DOUBLE:\u001b[0m\u001b[39m \u001b[0m\u001b[1;36m1\u001b[0m\u001b[1m>\u001b[0m,\n",
       "    \u001b[33mdescription\u001b[0m=\u001b[32m'speed'\u001b[0m,\n",
       "    \u001b[33munit\u001b[0m=\u001b[32m'b840c8e8-33fb-433c-9448-07577f04e990'\u001b[0m,\n",
       "    \u001b[33mbit_field_elements\u001b[0m=\u001b[1m[\u001b[0m\u001b[1m]\u001b[0m,\n",
       "    \u001b[33menum_types\u001b[0m=\u001b[1m{\u001b[0m\u001b[1m}\u001b[0m,\n",
       "    \u001b[33masset_id\u001b[0m=\u001b[32m'61d6e4f0-8287-4678-b071-18a95fcd9db6'\u001b[0m,\n",
       "    \u001b[33mcreated_date\u001b[0m=\u001b[1;35mdatetime\u001b[0m\u001b[1;35m.datetime\u001b[0m\u001b[1m(\u001b[0m\u001b[1;36m2025\u001b[0m, \u001b[1;36m3\u001b[0m, \u001b[1;36m4\u001b[0m, \u001b[1;36m19\u001b[0m, \u001b[1;36m51\u001b[0m, \u001b[1;36m15\u001b[0m, \u001b[1;36m89746\u001b[0m, \u001b[33mtzinfo\u001b[0m=\u001b[35mdatetime\u001b[0m.timezone.utc\u001b[1m)\u001b[0m,\n",
       "    \u001b[33mmodified_date\u001b[0m=\u001b[1;35mdatetime\u001b[0m\u001b[1;35m.datetime\u001b[0m\u001b[1m(\u001b[0m\u001b[1;36m2025\u001b[0m, \u001b[1;36m3\u001b[0m, \u001b[1;36m4\u001b[0m, \u001b[1;36m19\u001b[0m, \u001b[1;36m51\u001b[0m, \u001b[1;36m15\u001b[0m, \u001b[1;36m89746\u001b[0m, \u001b[33mtzinfo\u001b[0m=\u001b[35mdatetime\u001b[0m.timezone.utc\u001b[1m)\u001b[0m,\n",
       "    \u001b[33mcreated_by_user_id\u001b[0m=\u001b[32m'f47e4854-234b-421c-badb-7f8bb757cd9d'\u001b[0m,\n",
       "    \u001b[33mmodified_by_user_id\u001b[0m=\u001b[32m'f47e4854-234b-421c-badb-7f8bb757cd9d'\u001b[0m\n",
       "\u001b[1m)\u001b[0m\n"
      ]
     },
     "jetTransient": {
      "display_id": null
     },
     "metadata": {},
     "output_type": "display_data"
    }
   ],
   "source": [
    "# Search for specific channels by name pattern\n",
    "# Replace with a pattern that matches your channel names\n",
    "velocity_channels = client.channels.list_(asset=asset.id_, name_contains=\"velocity\", limit=10)\n",
    "\n",
    "print(f\"Channels containing 'velocity': {len(velocity_channels)}\")\n",
    "for ch in velocity_channels:\n",
    "    print(ch)"
   ]
  },
  {
   "cell_type": "code",
   "execution_count": 52,
   "id": "1601a55853281e95",
   "metadata": {
    "ExecuteTime": {
     "end_time": "2025-10-10T21:43:40.482064Z",
     "start_time": "2025-10-10T21:43:40.429852Z"
    }
   },
   "outputs": [
    {
     "data": {
      "text/html": [
       "<pre style=\"white-space:pre;overflow-x:auto;line-height:normal;font-family:Menlo,'DejaVu Sans Mono',consolas,'Courier New',monospace\">Channels in run <span style=\"color: #008000; text-decoration-color: #008000\">'Updated Test Run'</span>: <span style=\"color: #008080; text-decoration-color: #008080; font-weight: bold\">0</span>\n",
       "</pre>\n"
      ],
      "text/plain": [
       "Channels in run \u001b[32m'Updated Test Run'\u001b[0m: \u001b[1;36m0\u001b[0m\n"
      ]
     },
     "jetTransient": {
      "display_id": null
     },
     "metadata": {},
     "output_type": "display_data"
    }
   ],
   "source": [
    "# Get channels for a specific run. There should be none since we just created it.\n",
    "if run:\n",
    "    run_channels = client.channels.list_(run=run.id_, limit=10)\n",
    "    print(f\"Channels in run '{run.name}': {len(run_channels)}\")\n",
    "    for ch in run_channels:\n",
    "        print(f\"  - {ch.name}\")"
   ]
  },
  {
   "cell_type": "markdown",
   "id": "7c611ee731605cbd",
   "metadata": {},
   "source": [
    "## Pulling Data\n",
    "\n",
    "Retrieve time-series data from channels as pandas DataFrames."
   ]
  },
  {
   "cell_type": "code",
   "execution_count": 53,
   "id": "b6b40678b0bbe34e",
   "metadata": {
    "ExecuteTime": {
     "end_time": "2025-10-10T21:43:40.980438Z",
     "start_time": "2025-10-10T21:43:40.491510Z"
    }
   },
   "outputs": [
    {
     "data": {
      "text/html": [
       "<pre style=\"white-space:pre;overflow-x:auto;line-height:normal;font-family:Menlo,'DejaVu Sans Mono',consolas,'Courier New',monospace\">\n",
       "✓ Retrieved data for <span style=\"color: #008080; text-decoration-color: #008080; font-weight: bold\">4</span> channels:\n",
       "</pre>\n"
      ],
      "text/plain": [
       "\n",
       "✓ Retrieved data for \u001b[1;36m4\u001b[0m channels:\n"
      ]
     },
     "jetTransient": {
      "display_id": null
     },
     "metadata": {},
     "output_type": "display_data"
    },
    {
     "data": {
      "text/html": [
       "<pre style=\"white-space:pre;overflow-x:auto;line-height:normal;font-family:Menlo,'DejaVu Sans Mono',consolas,'Courier New',monospace\">\n",
       "  Channel: is_even\n",
       "</pre>\n"
      ],
      "text/plain": [
       "\n",
       "  Channel: is_even\n"
      ]
     },
     "jetTransient": {
      "display_id": null
     },
     "metadata": {},
     "output_type": "display_data"
    },
    {
     "data": {
      "text/html": [
       "<pre style=\"white-space:pre;overflow-x:auto;line-height:normal;font-family:Menlo,'DejaVu Sans Mono',consolas,'Courier New',monospace\">  Data points: <span style=\"color: #008080; text-decoration-color: #008080; font-weight: bold\">1000</span>\n",
       "</pre>\n"
      ],
      "text/plain": [
       "  Data points: \u001b[1;36m1000\u001b[0m\n"
      ]
     },
     "jetTransient": {
      "display_id": null
     },
     "metadata": {},
     "output_type": "display_data"
    },
    {
     "data": {
      "text/html": [
       "<pre style=\"white-space:pre;overflow-x:auto;line-height:normal;font-family:Menlo,'DejaVu Sans Mono',consolas,'Courier New',monospace\">                                     is_even\n",
       "<span style=\"color: #008080; text-decoration-color: #008080; font-weight: bold\">2025</span>-<span style=\"color: #008080; text-decoration-color: #008080; font-weight: bold\">06</span>-<span style=\"color: #008080; text-decoration-color: #008080; font-weight: bold\">04</span> <span style=\"color: #00ff00; text-decoration-color: #00ff00; font-weight: bold\">17:21:13</span>.<span style=\"color: #008080; text-decoration-color: #008080; font-weight: bold\">180486958</span>+<span style=\"color: #00ff00; text-decoration-color: #00ff00; font-weight: bold\">00:00</span>     <span style=\"color: #00ff00; text-decoration-color: #00ff00; font-style: italic\">True</span>\n",
       "<span style=\"color: #008080; text-decoration-color: #008080; font-weight: bold\">2025</span>-<span style=\"color: #008080; text-decoration-color: #008080; font-weight: bold\">06</span>-<span style=\"color: #008080; text-decoration-color: #008080; font-weight: bold\">04</span> <span style=\"color: #00ff00; text-decoration-color: #00ff00; font-weight: bold\">17:21:13</span>.<span style=\"color: #008080; text-decoration-color: #008080; font-weight: bold\">380486958</span>+<span style=\"color: #00ff00; text-decoration-color: #00ff00; font-weight: bold\">00:00</span>     <span style=\"color: #00ff00; text-decoration-color: #00ff00; font-style: italic\">True</span>\n",
       "<span style=\"color: #008080; text-decoration-color: #008080; font-weight: bold\">2025</span>-<span style=\"color: #008080; text-decoration-color: #008080; font-weight: bold\">06</span>-<span style=\"color: #008080; text-decoration-color: #008080; font-weight: bold\">04</span> <span style=\"color: #00ff00; text-decoration-color: #00ff00; font-weight: bold\">17:21:13</span>.<span style=\"color: #008080; text-decoration-color: #008080; font-weight: bold\">580486958</span>+<span style=\"color: #00ff00; text-decoration-color: #00ff00; font-weight: bold\">00:00</span>     <span style=\"color: #00ff00; text-decoration-color: #00ff00; font-style: italic\">True</span>\n",
       "<span style=\"color: #008080; text-decoration-color: #008080; font-weight: bold\">2025</span>-<span style=\"color: #008080; text-decoration-color: #008080; font-weight: bold\">06</span>-<span style=\"color: #008080; text-decoration-color: #008080; font-weight: bold\">04</span> <span style=\"color: #00ff00; text-decoration-color: #00ff00; font-weight: bold\">17:21:13</span>.<span style=\"color: #008080; text-decoration-color: #008080; font-weight: bold\">780486958</span>+<span style=\"color: #00ff00; text-decoration-color: #00ff00; font-weight: bold\">00:00</span>     <span style=\"color: #00ff00; text-decoration-color: #00ff00; font-style: italic\">True</span>\n",
       "<span style=\"color: #008080; text-decoration-color: #008080; font-weight: bold\">2025</span>-<span style=\"color: #008080; text-decoration-color: #008080; font-weight: bold\">06</span>-<span style=\"color: #008080; text-decoration-color: #008080; font-weight: bold\">04</span> <span style=\"color: #00ff00; text-decoration-color: #00ff00; font-weight: bold\">17:21:13</span>.<span style=\"color: #008080; text-decoration-color: #008080; font-weight: bold\">980486958</span>+<span style=\"color: #00ff00; text-decoration-color: #00ff00; font-weight: bold\">00:00</span>     <span style=\"color: #00ff00; text-decoration-color: #00ff00; font-style: italic\">True</span>\n",
       "</pre>\n"
      ],
      "text/plain": [
       "                                     is_even\n",
       "\u001b[1;36m2025\u001b[0m-\u001b[1;36m06\u001b[0m-\u001b[1;36m04\u001b[0m \u001b[1;92m17:21:13\u001b[0m.\u001b[1;36m180486958\u001b[0m+\u001b[1;92m00:00\u001b[0m     \u001b[3;92mTrue\u001b[0m\n",
       "\u001b[1;36m2025\u001b[0m-\u001b[1;36m06\u001b[0m-\u001b[1;36m04\u001b[0m \u001b[1;92m17:21:13\u001b[0m.\u001b[1;36m380486958\u001b[0m+\u001b[1;92m00:00\u001b[0m     \u001b[3;92mTrue\u001b[0m\n",
       "\u001b[1;36m2025\u001b[0m-\u001b[1;36m06\u001b[0m-\u001b[1;36m04\u001b[0m \u001b[1;92m17:21:13\u001b[0m.\u001b[1;36m580486958\u001b[0m+\u001b[1;92m00:00\u001b[0m     \u001b[3;92mTrue\u001b[0m\n",
       "\u001b[1;36m2025\u001b[0m-\u001b[1;36m06\u001b[0m-\u001b[1;36m04\u001b[0m \u001b[1;92m17:21:13\u001b[0m.\u001b[1;36m780486958\u001b[0m+\u001b[1;92m00:00\u001b[0m     \u001b[3;92mTrue\u001b[0m\n",
       "\u001b[1;36m2025\u001b[0m-\u001b[1;36m06\u001b[0m-\u001b[1;36m04\u001b[0m \u001b[1;92m17:21:13\u001b[0m.\u001b[1;36m980486958\u001b[0m+\u001b[1;92m00:00\u001b[0m     \u001b[3;92mTrue\u001b[0m\n"
      ]
     },
     "jetTransient": {
      "display_id": null
     },
     "metadata": {},
     "output_type": "display_data"
    },
    {
     "data": {
      "text/html": [
       "<pre style=\"white-space:pre;overflow-x:auto;line-height:normal;font-family:Menlo,'DejaVu Sans Mono',consolas,'Courier New',monospace\">\n",
       "  Channel: mainmotor.velocity\n",
       "</pre>\n"
      ],
      "text/plain": [
       "\n",
       "  Channel: mainmotor.velocity\n"
      ]
     },
     "jetTransient": {
      "display_id": null
     },
     "metadata": {},
     "output_type": "display_data"
    },
    {
     "data": {
      "text/html": [
       "<pre style=\"white-space:pre;overflow-x:auto;line-height:normal;font-family:Menlo,'DejaVu Sans Mono',consolas,'Courier New',monospace\">  Data points: <span style=\"color: #008080; text-decoration-color: #008080; font-weight: bold\">1000</span>\n",
       "</pre>\n"
      ],
      "text/plain": [
       "  Data points: \u001b[1;36m1000\u001b[0m\n"
      ]
     },
     "jetTransient": {
      "display_id": null
     },
     "metadata": {},
     "output_type": "display_data"
    },
    {
     "data": {
      "text/html": [
       "<pre style=\"white-space:pre;overflow-x:auto;line-height:normal;font-family:Menlo,'DejaVu Sans Mono',consolas,'Courier New',monospace\">                                     mainmotor.velocity\n",
       "<span style=\"color: #008080; text-decoration-color: #008080; font-weight: bold\">2025</span>-<span style=\"color: #008080; text-decoration-color: #008080; font-weight: bold\">06</span>-<span style=\"color: #008080; text-decoration-color: #008080; font-weight: bold\">04</span> <span style=\"color: #00ff00; text-decoration-color: #00ff00; font-weight: bold\">17:21:13</span>.<span style=\"color: #008080; text-decoration-color: #008080; font-weight: bold\">180486958</span>+<span style=\"color: #00ff00; text-decoration-color: #00ff00; font-weight: bold\">00:00</span>           <span style=\"color: #008080; text-decoration-color: #008080; font-weight: bold\">21.352492</span>\n",
       "<span style=\"color: #008080; text-decoration-color: #008080; font-weight: bold\">2025</span>-<span style=\"color: #008080; text-decoration-color: #008080; font-weight: bold\">06</span>-<span style=\"color: #008080; text-decoration-color: #008080; font-weight: bold\">04</span> <span style=\"color: #00ff00; text-decoration-color: #00ff00; font-weight: bold\">17:21:13</span>.<span style=\"color: #008080; text-decoration-color: #008080; font-weight: bold\">380486958</span>+<span style=\"color: #00ff00; text-decoration-color: #00ff00; font-weight: bold\">00:00</span>           <span style=\"color: #008080; text-decoration-color: #008080; font-weight: bold\">32.011998</span>\n",
       "<span style=\"color: #008080; text-decoration-color: #008080; font-weight: bold\">2025</span>-<span style=\"color: #008080; text-decoration-color: #008080; font-weight: bold\">06</span>-<span style=\"color: #008080; text-decoration-color: #008080; font-weight: bold\">04</span> <span style=\"color: #00ff00; text-decoration-color: #00ff00; font-weight: bold\">17:21:13</span>.<span style=\"color: #008080; text-decoration-color: #008080; font-weight: bold\">580486958</span>+<span style=\"color: #00ff00; text-decoration-color: #00ff00; font-weight: bold\">00:00</span>           <span style=\"color: #008080; text-decoration-color: #008080; font-weight: bold\">34.370449</span>\n",
       "<span style=\"color: #008080; text-decoration-color: #008080; font-weight: bold\">2025</span>-<span style=\"color: #008080; text-decoration-color: #008080; font-weight: bold\">06</span>-<span style=\"color: #008080; text-decoration-color: #008080; font-weight: bold\">04</span> <span style=\"color: #00ff00; text-decoration-color: #00ff00; font-weight: bold\">17:21:13</span>.<span style=\"color: #008080; text-decoration-color: #008080; font-weight: bold\">780486958</span>+<span style=\"color: #00ff00; text-decoration-color: #00ff00; font-weight: bold\">00:00</span>           <span style=\"color: #008080; text-decoration-color: #008080; font-weight: bold\">25.635827</span>\n",
       "<span style=\"color: #008080; text-decoration-color: #008080; font-weight: bold\">2025</span>-<span style=\"color: #008080; text-decoration-color: #008080; font-weight: bold\">06</span>-<span style=\"color: #008080; text-decoration-color: #008080; font-weight: bold\">04</span> <span style=\"color: #00ff00; text-decoration-color: #00ff00; font-weight: bold\">17:21:13</span>.<span style=\"color: #008080; text-decoration-color: #008080; font-weight: bold\">980486958</span>+<span style=\"color: #00ff00; text-decoration-color: #00ff00; font-weight: bold\">00:00</span>           <span style=\"color: #008080; text-decoration-color: #008080; font-weight: bold\">16.148490</span>\n",
       "</pre>\n"
      ],
      "text/plain": [
       "                                     mainmotor.velocity\n",
       "\u001b[1;36m2025\u001b[0m-\u001b[1;36m06\u001b[0m-\u001b[1;36m04\u001b[0m \u001b[1;92m17:21:13\u001b[0m.\u001b[1;36m180486958\u001b[0m+\u001b[1;92m00:00\u001b[0m           \u001b[1;36m21.352492\u001b[0m\n",
       "\u001b[1;36m2025\u001b[0m-\u001b[1;36m06\u001b[0m-\u001b[1;36m04\u001b[0m \u001b[1;92m17:21:13\u001b[0m.\u001b[1;36m380486958\u001b[0m+\u001b[1;92m00:00\u001b[0m           \u001b[1;36m32.011998\u001b[0m\n",
       "\u001b[1;36m2025\u001b[0m-\u001b[1;36m06\u001b[0m-\u001b[1;36m04\u001b[0m \u001b[1;92m17:21:13\u001b[0m.\u001b[1;36m580486958\u001b[0m+\u001b[1;92m00:00\u001b[0m           \u001b[1;36m34.370449\u001b[0m\n",
       "\u001b[1;36m2025\u001b[0m-\u001b[1;36m06\u001b[0m-\u001b[1;36m04\u001b[0m \u001b[1;92m17:21:13\u001b[0m.\u001b[1;36m780486958\u001b[0m+\u001b[1;92m00:00\u001b[0m           \u001b[1;36m25.635827\u001b[0m\n",
       "\u001b[1;36m2025\u001b[0m-\u001b[1;36m06\u001b[0m-\u001b[1;36m04\u001b[0m \u001b[1;92m17:21:13\u001b[0m.\u001b[1;36m980486958\u001b[0m+\u001b[1;92m00:00\u001b[0m           \u001b[1;36m16.148490\u001b[0m\n"
      ]
     },
     "jetTransient": {
      "display_id": null
     },
     "metadata": {},
     "output_type": "display_data"
    },
    {
     "data": {
      "text/html": [
       "<pre style=\"white-space:pre;overflow-x:auto;line-height:normal;font-family:Menlo,'DejaVu Sans Mono',consolas,'Courier New',monospace\">\n",
       "  Channel: vehicle_state\n",
       "</pre>\n"
      ],
      "text/plain": [
       "\n",
       "  Channel: vehicle_state\n"
      ]
     },
     "jetTransient": {
      "display_id": null
     },
     "metadata": {},
     "output_type": "display_data"
    },
    {
     "data": {
      "text/html": [
       "<pre style=\"white-space:pre;overflow-x:auto;line-height:normal;font-family:Menlo,'DejaVu Sans Mono',consolas,'Courier New',monospace\">  Data points: <span style=\"color: #008080; text-decoration-color: #008080; font-weight: bold\">1000</span>\n",
       "</pre>\n"
      ],
      "text/plain": [
       "  Data points: \u001b[1;36m1000\u001b[0m\n"
      ]
     },
     "jetTransient": {
      "display_id": null
     },
     "metadata": {},
     "output_type": "display_data"
    },
    {
     "data": {
      "text/html": [
       "<pre style=\"white-space:pre;overflow-x:auto;line-height:normal;font-family:Menlo,'DejaVu Sans Mono',consolas,'Courier New',monospace\">                                     vehicle_state\n",
       "<span style=\"color: #008080; text-decoration-color: #008080; font-weight: bold\">2025</span>-<span style=\"color: #008080; text-decoration-color: #008080; font-weight: bold\">06</span>-<span style=\"color: #008080; text-decoration-color: #008080; font-weight: bold\">04</span> <span style=\"color: #00ff00; text-decoration-color: #00ff00; font-weight: bold\">17:21:13</span>.<span style=\"color: #008080; text-decoration-color: #008080; font-weight: bold\">180486958</span>+<span style=\"color: #00ff00; text-decoration-color: #00ff00; font-weight: bold\">00:00</span>              <span style=\"color: #008080; text-decoration-color: #008080; font-weight: bold\">1</span>\n",
       "<span style=\"color: #008080; text-decoration-color: #008080; font-weight: bold\">2025</span>-<span style=\"color: #008080; text-decoration-color: #008080; font-weight: bold\">06</span>-<span style=\"color: #008080; text-decoration-color: #008080; font-weight: bold\">04</span> <span style=\"color: #00ff00; text-decoration-color: #00ff00; font-weight: bold\">17:21:13</span>.<span style=\"color: #008080; text-decoration-color: #008080; font-weight: bold\">380486958</span>+<span style=\"color: #00ff00; text-decoration-color: #00ff00; font-weight: bold\">00:00</span>              <span style=\"color: #008080; text-decoration-color: #008080; font-weight: bold\">1</span>\n",
       "<span style=\"color: #008080; text-decoration-color: #008080; font-weight: bold\">2025</span>-<span style=\"color: #008080; text-decoration-color: #008080; font-weight: bold\">06</span>-<span style=\"color: #008080; text-decoration-color: #008080; font-weight: bold\">04</span> <span style=\"color: #00ff00; text-decoration-color: #00ff00; font-weight: bold\">17:21:13</span>.<span style=\"color: #008080; text-decoration-color: #008080; font-weight: bold\">580486958</span>+<span style=\"color: #00ff00; text-decoration-color: #00ff00; font-weight: bold\">00:00</span>              <span style=\"color: #008080; text-decoration-color: #008080; font-weight: bold\">1</span>\n",
       "<span style=\"color: #008080; text-decoration-color: #008080; font-weight: bold\">2025</span>-<span style=\"color: #008080; text-decoration-color: #008080; font-weight: bold\">06</span>-<span style=\"color: #008080; text-decoration-color: #008080; font-weight: bold\">04</span> <span style=\"color: #00ff00; text-decoration-color: #00ff00; font-weight: bold\">17:21:13</span>.<span style=\"color: #008080; text-decoration-color: #008080; font-weight: bold\">780486958</span>+<span style=\"color: #00ff00; text-decoration-color: #00ff00; font-weight: bold\">00:00</span>              <span style=\"color: #008080; text-decoration-color: #008080; font-weight: bold\">1</span>\n",
       "<span style=\"color: #008080; text-decoration-color: #008080; font-weight: bold\">2025</span>-<span style=\"color: #008080; text-decoration-color: #008080; font-weight: bold\">06</span>-<span style=\"color: #008080; text-decoration-color: #008080; font-weight: bold\">04</span> <span style=\"color: #00ff00; text-decoration-color: #00ff00; font-weight: bold\">17:21:13</span>.<span style=\"color: #008080; text-decoration-color: #008080; font-weight: bold\">980486958</span>+<span style=\"color: #00ff00; text-decoration-color: #00ff00; font-weight: bold\">00:00</span>              <span style=\"color: #008080; text-decoration-color: #008080; font-weight: bold\">1</span>\n",
       "</pre>\n"
      ],
      "text/plain": [
       "                                     vehicle_state\n",
       "\u001b[1;36m2025\u001b[0m-\u001b[1;36m06\u001b[0m-\u001b[1;36m04\u001b[0m \u001b[1;92m17:21:13\u001b[0m.\u001b[1;36m180486958\u001b[0m+\u001b[1;92m00:00\u001b[0m              \u001b[1;36m1\u001b[0m\n",
       "\u001b[1;36m2025\u001b[0m-\u001b[1;36m06\u001b[0m-\u001b[1;36m04\u001b[0m \u001b[1;92m17:21:13\u001b[0m.\u001b[1;36m380486958\u001b[0m+\u001b[1;92m00:00\u001b[0m              \u001b[1;36m1\u001b[0m\n",
       "\u001b[1;36m2025\u001b[0m-\u001b[1;36m06\u001b[0m-\u001b[1;36m04\u001b[0m \u001b[1;92m17:21:13\u001b[0m.\u001b[1;36m580486958\u001b[0m+\u001b[1;92m00:00\u001b[0m              \u001b[1;36m1\u001b[0m\n",
       "\u001b[1;36m2025\u001b[0m-\u001b[1;36m06\u001b[0m-\u001b[1;36m04\u001b[0m \u001b[1;92m17:21:13\u001b[0m.\u001b[1;36m780486958\u001b[0m+\u001b[1;92m00:00\u001b[0m              \u001b[1;36m1\u001b[0m\n",
       "\u001b[1;36m2025\u001b[0m-\u001b[1;36m06\u001b[0m-\u001b[1;36m04\u001b[0m \u001b[1;92m17:21:13\u001b[0m.\u001b[1;36m980486958\u001b[0m+\u001b[1;92m00:00\u001b[0m              \u001b[1;36m1\u001b[0m\n"
      ]
     },
     "jetTransient": {
      "display_id": null
     },
     "metadata": {},
     "output_type": "display_data"
    },
    {
     "data": {
      "text/html": [
       "<pre style=\"white-space:pre;overflow-x:auto;line-height:normal;font-family:Menlo,'DejaVu Sans Mono',consolas,'Courier New',monospace\">\n",
       "  Channel: voltage\n",
       "</pre>\n"
      ],
      "text/plain": [
       "\n",
       "  Channel: voltage\n"
      ]
     },
     "jetTransient": {
      "display_id": null
     },
     "metadata": {},
     "output_type": "display_data"
    },
    {
     "data": {
      "text/html": [
       "<pre style=\"white-space:pre;overflow-x:auto;line-height:normal;font-family:Menlo,'DejaVu Sans Mono',consolas,'Courier New',monospace\">  Data points: <span style=\"color: #008080; text-decoration-color: #008080; font-weight: bold\">1000</span>\n",
       "</pre>\n"
      ],
      "text/plain": [
       "  Data points: \u001b[1;36m1000\u001b[0m\n"
      ]
     },
     "jetTransient": {
      "display_id": null
     },
     "metadata": {},
     "output_type": "display_data"
    },
    {
     "data": {
      "text/html": [
       "<pre style=\"white-space:pre;overflow-x:auto;line-height:normal;font-family:Menlo,'DejaVu Sans Mono',consolas,'Courier New',monospace\">                                     voltage\n",
       "<span style=\"color: #008080; text-decoration-color: #008080; font-weight: bold\">2025</span>-<span style=\"color: #008080; text-decoration-color: #008080; font-weight: bold\">06</span>-<span style=\"color: #008080; text-decoration-color: #008080; font-weight: bold\">04</span> <span style=\"color: #00ff00; text-decoration-color: #00ff00; font-weight: bold\">17:21:13</span>.<span style=\"color: #008080; text-decoration-color: #008080; font-weight: bold\">180486958</span>+<span style=\"color: #00ff00; text-decoration-color: #00ff00; font-weight: bold\">00:00</span>       <span style=\"color: #008080; text-decoration-color: #008080; font-weight: bold\">12</span>\n",
       "<span style=\"color: #008080; text-decoration-color: #008080; font-weight: bold\">2025</span>-<span style=\"color: #008080; text-decoration-color: #008080; font-weight: bold\">06</span>-<span style=\"color: #008080; text-decoration-color: #008080; font-weight: bold\">04</span> <span style=\"color: #00ff00; text-decoration-color: #00ff00; font-weight: bold\">17:21:13</span>.<span style=\"color: #008080; text-decoration-color: #008080; font-weight: bold\">380486958</span>+<span style=\"color: #00ff00; text-decoration-color: #00ff00; font-weight: bold\">00:00</span>       <span style=\"color: #008080; text-decoration-color: #008080; font-weight: bold\">12</span>\n",
       "<span style=\"color: #008080; text-decoration-color: #008080; font-weight: bold\">2025</span>-<span style=\"color: #008080; text-decoration-color: #008080; font-weight: bold\">06</span>-<span style=\"color: #008080; text-decoration-color: #008080; font-weight: bold\">04</span> <span style=\"color: #00ff00; text-decoration-color: #00ff00; font-weight: bold\">17:21:13</span>.<span style=\"color: #008080; text-decoration-color: #008080; font-weight: bold\">580486958</span>+<span style=\"color: #00ff00; text-decoration-color: #00ff00; font-weight: bold\">00:00</span>       <span style=\"color: #008080; text-decoration-color: #008080; font-weight: bold\">12</span>\n",
       "<span style=\"color: #008080; text-decoration-color: #008080; font-weight: bold\">2025</span>-<span style=\"color: #008080; text-decoration-color: #008080; font-weight: bold\">06</span>-<span style=\"color: #008080; text-decoration-color: #008080; font-weight: bold\">04</span> <span style=\"color: #00ff00; text-decoration-color: #00ff00; font-weight: bold\">17:21:13</span>.<span style=\"color: #008080; text-decoration-color: #008080; font-weight: bold\">780486958</span>+<span style=\"color: #00ff00; text-decoration-color: #00ff00; font-weight: bold\">00:00</span>        <span style=\"color: #008080; text-decoration-color: #008080; font-weight: bold\">2</span>\n",
       "<span style=\"color: #008080; text-decoration-color: #008080; font-weight: bold\">2025</span>-<span style=\"color: #008080; text-decoration-color: #008080; font-weight: bold\">06</span>-<span style=\"color: #008080; text-decoration-color: #008080; font-weight: bold\">04</span> <span style=\"color: #00ff00; text-decoration-color: #00ff00; font-weight: bold\">17:21:13</span>.<span style=\"color: #008080; text-decoration-color: #008080; font-weight: bold\">980486958</span>+<span style=\"color: #00ff00; text-decoration-color: #00ff00; font-weight: bold\">00:00</span>        <span style=\"color: #008080; text-decoration-color: #008080; font-weight: bold\">2</span>\n",
       "</pre>\n"
      ],
      "text/plain": [
       "                                     voltage\n",
       "\u001b[1;36m2025\u001b[0m-\u001b[1;36m06\u001b[0m-\u001b[1;36m04\u001b[0m \u001b[1;92m17:21:13\u001b[0m.\u001b[1;36m180486958\u001b[0m+\u001b[1;92m00:00\u001b[0m       \u001b[1;36m12\u001b[0m\n",
       "\u001b[1;36m2025\u001b[0m-\u001b[1;36m06\u001b[0m-\u001b[1;36m04\u001b[0m \u001b[1;92m17:21:13\u001b[0m.\u001b[1;36m380486958\u001b[0m+\u001b[1;92m00:00\u001b[0m       \u001b[1;36m12\u001b[0m\n",
       "\u001b[1;36m2025\u001b[0m-\u001b[1;36m06\u001b[0m-\u001b[1;36m04\u001b[0m \u001b[1;92m17:21:13\u001b[0m.\u001b[1;36m580486958\u001b[0m+\u001b[1;92m00:00\u001b[0m       \u001b[1;36m12\u001b[0m\n",
       "\u001b[1;36m2025\u001b[0m-\u001b[1;36m06\u001b[0m-\u001b[1;36m04\u001b[0m \u001b[1;92m17:21:13\u001b[0m.\u001b[1;36m780486958\u001b[0m+\u001b[1;92m00:00\u001b[0m        \u001b[1;36m2\u001b[0m\n",
       "\u001b[1;36m2025\u001b[0m-\u001b[1;36m06\u001b[0m-\u001b[1;36m04\u001b[0m \u001b[1;92m17:21:13\u001b[0m.\u001b[1;36m980486958\u001b[0m+\u001b[1;92m00:00\u001b[0m        \u001b[1;36m2\u001b[0m\n"
      ]
     },
     "jetTransient": {
      "display_id": null
     },
     "metadata": {},
     "output_type": "display_data"
    }
   ],
   "source": [
    "run = client.runs.list_(\n",
    "    duration_greater_than=timedelta(seconds=30),\n",
    "    description_contains=\"simulated run: 1 flows, 8 total channels, 5hz sampling rate\",\n",
    ")[0]\n",
    "\n",
    "# Get data as a dictionary of pandas DataFrames\n",
    "data = client.channels.get_data(\n",
    "    channels=client.channels.list_(run=run, name_contains=\"v\"),\n",
    "    run=run,\n",
    "    limit=1000,  # Limit to 1000 data points per channel\n",
    ")\n",
    "\n",
    "print(f\"\\n✓ Retrieved data for {len(data)} channels:\")\n",
    "for channel_name, df in data.items():\n",
    "    print(f\"\\n  Channel: {channel_name}\")\n",
    "    print(f\"  Data points: {len(df)}\")\n",
    "    print(df.head())"
   ]
  },
  {
   "cell_type": "markdown",
   "id": "b6c81e31a31fdc03",
   "metadata": {},
   "source": [
    "## Creating Calculated Channels\n",
    "\n",
    "Calculated channels allow you to create derived metrics from existing channels using mathematical expressions."
   ]
  },
  {
   "cell_type": "code",
   "execution_count": 58,
   "id": "70a5b0d39e5230c4",
   "metadata": {
    "ExecuteTime": {
     "end_time": "2025-10-10T22:56:15.431423Z",
     "start_time": "2025-10-10T22:56:15.154065Z"
    }
   },
   "outputs": [
    {
     "data": {
      "text/html": [
       "<pre style=\"white-space:pre;overflow-x:auto;line-height:normal;font-family:Menlo,'DejaVu Sans Mono',consolas,'Courier New',monospace\">Calculated channel <span style=\"color: #008000; text-decoration-color: #008000\">'is_even_per_voltage'</span> already exists\n",
       "</pre>\n"
      ],
      "text/plain": [
       "Calculated channel \u001b[32m'is_even_per_voltage'\u001b[0m already exists\n"
      ]
     },
     "jetTransient": {
      "display_id": null
     },
     "metadata": {},
     "output_type": "display_data"
    },
    {
     "data": {
      "text/html": [
       "<pre style=\"white-space:pre;overflow-x:auto;line-height:normal;font-family:Menlo,'DejaVu Sans Mono',consolas,'Courier New',monospace\"><span style=\"color: #800080; text-decoration-color: #800080; font-weight: bold\">CalculatedChannel</span><span style=\"font-weight: bold\">(</span>\n",
       "    <span style=\"color: #808000; text-decoration-color: #808000\">id_</span>=<span style=\"color: #008000; text-decoration-color: #008000\">'d283b5fe-fed5-4260-93d1-8bd65bec4bfe'</span>,\n",
       "    <span style=\"color: #808000; text-decoration-color: #808000\">name</span>=<span style=\"color: #008000; text-decoration-color: #008000\">'is_even_per_voltage'</span>,\n",
       "    <span style=\"color: #808000; text-decoration-color: #808000\">description</span>=<span style=\"color: #008000; text-decoration-color: #008000\">'Ratio of is_even to voltage'</span>,\n",
       "    <span style=\"color: #808000; text-decoration-color: #808000\">expression</span>=<span style=\"color: #008000; text-decoration-color: #008000\">'$1 / $2'</span>,\n",
       "    <span style=\"color: #808000; text-decoration-color: #808000\">channel_references</span>=<span style=\"font-weight: bold\">[</span>\n",
       "        <span style=\"font-weight: bold\">{</span><span style=\"color: #008000; text-decoration-color: #008000\">'channel_reference'</span>: <span style=\"color: #008000; text-decoration-color: #008000\">'$1'</span>, <span style=\"color: #008000; text-decoration-color: #008000\">'channel_identifier'</span>: <span style=\"color: #008000; text-decoration-color: #008000\">'is_even'</span><span style=\"font-weight: bold\">}</span>,\n",
       "        <span style=\"font-weight: bold\">{</span><span style=\"color: #008000; text-decoration-color: #008000\">'channel_reference'</span>: <span style=\"color: #008000; text-decoration-color: #008000\">'$2'</span>, <span style=\"color: #008000; text-decoration-color: #008000\">'channel_identifier'</span>: <span style=\"color: #008000; text-decoration-color: #008000\">'voltage'</span><span style=\"font-weight: bold\">}</span>\n",
       "    <span style=\"font-weight: bold\">]</span>,\n",
       "    <span style=\"color: #808000; text-decoration-color: #808000\">is_archived</span>=<span style=\"color: #00ff00; text-decoration-color: #00ff00; font-style: italic\">True</span>,\n",
       "    <span style=\"color: #808000; text-decoration-color: #808000\">units</span>=<span style=\"color: #008000; text-decoration-color: #008000\">''</span>,\n",
       "    <span style=\"color: #808000; text-decoration-color: #808000\">asset_ids</span>=<span style=\"font-weight: bold\">[</span><span style=\"color: #008000; text-decoration-color: #008000\">'61d6e4f0-8287-4678-b071-18a95fcd9db6'</span><span style=\"font-weight: bold\">]</span>,\n",
       "    <span style=\"color: #808000; text-decoration-color: #808000\">tag_ids</span>=<span style=\"font-weight: bold\">[]</span>,\n",
       "    <span style=\"color: #808000; text-decoration-color: #808000\">all_assets</span>=<span style=\"color: #ff0000; text-decoration-color: #ff0000; font-style: italic\">False</span>,\n",
       "    <span style=\"color: #808000; text-decoration-color: #808000\">organization_id</span>=<span style=\"color: #008000; text-decoration-color: #008000\">'dd9f82ef-7805-4b02-9572-ec61b71edde6'</span>,\n",
       "    <span style=\"color: #808000; text-decoration-color: #808000\">client_key</span>=<span style=\"color: #008000; text-decoration-color: #008000\">''</span>,\n",
       "    <span style=\"color: #808000; text-decoration-color: #808000\">archived_date</span>=<span style=\"color: #800080; text-decoration-color: #800080; font-weight: bold\">datetime</span><span style=\"color: #800080; text-decoration-color: #800080; font-weight: bold\">.datetime</span><span style=\"font-weight: bold\">(</span><span style=\"color: #008080; text-decoration-color: #008080; font-weight: bold\">2025</span>, <span style=\"color: #008080; text-decoration-color: #008080; font-weight: bold\">10</span>, <span style=\"color: #008080; text-decoration-color: #008080; font-weight: bold\">10</span>, <span style=\"color: #008080; text-decoration-color: #008080; font-weight: bold\">21</span>, <span style=\"color: #008080; text-decoration-color: #008080; font-weight: bold\">36</span>, <span style=\"color: #008080; text-decoration-color: #008080; font-weight: bold\">19</span>, <span style=\"color: #008080; text-decoration-color: #008080; font-weight: bold\">947790</span>, <span style=\"color: #808000; text-decoration-color: #808000\">tzinfo</span>=<span style=\"color: #800080; text-decoration-color: #800080\">datetime</span>.timezone.utc<span style=\"font-weight: bold\">)</span>,\n",
       "    <span style=\"color: #808000; text-decoration-color: #808000\">version_id</span>=<span style=\"color: #008000; text-decoration-color: #008000\">'0923ec64-9799-4e73-8038-71496227a846'</span>,\n",
       "    <span style=\"color: #808000; text-decoration-color: #808000\">version</span>=<span style=\"color: #008080; text-decoration-color: #008080; font-weight: bold\">1</span>,\n",
       "    <span style=\"color: #808000; text-decoration-color: #808000\">change_message</span>=<span style=\"color: #008000; text-decoration-color: #008000\">'Created calculated channel'</span>,\n",
       "    <span style=\"color: #808000; text-decoration-color: #808000\">user_notes</span>=<span style=\"color: #008000; text-decoration-color: #008000\">''</span>,\n",
       "    <span style=\"color: #808000; text-decoration-color: #808000\">created_date</span>=<span style=\"color: #800080; text-decoration-color: #800080; font-weight: bold\">datetime</span><span style=\"color: #800080; text-decoration-color: #800080; font-weight: bold\">.datetime</span><span style=\"font-weight: bold\">(</span><span style=\"color: #008080; text-decoration-color: #008080; font-weight: bold\">2025</span>, <span style=\"color: #008080; text-decoration-color: #008080; font-weight: bold\">10</span>, <span style=\"color: #008080; text-decoration-color: #008080; font-weight: bold\">10</span>, <span style=\"color: #008080; text-decoration-color: #008080; font-weight: bold\">21</span>, <span style=\"color: #008080; text-decoration-color: #008080; font-weight: bold\">34</span>, <span style=\"color: #008080; text-decoration-color: #008080; font-weight: bold\">3</span>, <span style=\"color: #008080; text-decoration-color: #008080; font-weight: bold\">533939</span>, <span style=\"color: #808000; text-decoration-color: #808000\">tzinfo</span>=<span style=\"color: #800080; text-decoration-color: #800080\">datetime</span>.timezone.utc<span style=\"font-weight: bold\">)</span>,\n",
       "    <span style=\"color: #808000; text-decoration-color: #808000\">modified_date</span>=<span style=\"color: #800080; text-decoration-color: #800080; font-weight: bold\">datetime</span><span style=\"color: #800080; text-decoration-color: #800080; font-weight: bold\">.datetime</span><span style=\"font-weight: bold\">(</span><span style=\"color: #008080; text-decoration-color: #008080; font-weight: bold\">2025</span>, <span style=\"color: #008080; text-decoration-color: #008080; font-weight: bold\">10</span>, <span style=\"color: #008080; text-decoration-color: #008080; font-weight: bold\">10</span>, <span style=\"color: #008080; text-decoration-color: #008080; font-weight: bold\">21</span>, <span style=\"color: #008080; text-decoration-color: #008080; font-weight: bold\">34</span>, <span style=\"color: #008080; text-decoration-color: #008080; font-weight: bold\">3</span>, <span style=\"color: #008080; text-decoration-color: #008080; font-weight: bold\">533939</span>, <span style=\"color: #808000; text-decoration-color: #808000\">tzinfo</span>=<span style=\"color: #800080; text-decoration-color: #800080\">datetime</span>.timezone.utc<span style=\"font-weight: bold\">)</span>,\n",
       "    <span style=\"color: #808000; text-decoration-color: #808000\">created_by_user_id</span>=<span style=\"color: #008000; text-decoration-color: #008000\">'ae1f6c7c-3e93-40a9-8796-d227a725662c'</span>,\n",
       "    <span style=\"color: #808000; text-decoration-color: #808000\">modified_by_user_id</span>=<span style=\"color: #008000; text-decoration-color: #008000\">'ae1f6c7c-3e93-40a9-8796-d227a725662c'</span>\n",
       "<span style=\"font-weight: bold\">)</span>\n",
       "</pre>\n"
      ],
      "text/plain": [
       "\u001b[1;35mCalculatedChannel\u001b[0m\u001b[1m(\u001b[0m\n",
       "    \u001b[33mid_\u001b[0m=\u001b[32m'd283b5fe-fed5-4260-93d1-8bd65bec4bfe'\u001b[0m,\n",
       "    \u001b[33mname\u001b[0m=\u001b[32m'is_even_per_voltage'\u001b[0m,\n",
       "    \u001b[33mdescription\u001b[0m=\u001b[32m'Ratio of is_even to voltage'\u001b[0m,\n",
       "    \u001b[33mexpression\u001b[0m=\u001b[32m'$1 / $2'\u001b[0m,\n",
       "    \u001b[33mchannel_references\u001b[0m=\u001b[1m[\u001b[0m\n",
       "        \u001b[1m{\u001b[0m\u001b[32m'channel_reference'\u001b[0m: \u001b[32m'$1'\u001b[0m, \u001b[32m'channel_identifier'\u001b[0m: \u001b[32m'is_even'\u001b[0m\u001b[1m}\u001b[0m,\n",
       "        \u001b[1m{\u001b[0m\u001b[32m'channel_reference'\u001b[0m: \u001b[32m'$2'\u001b[0m, \u001b[32m'channel_identifier'\u001b[0m: \u001b[32m'voltage'\u001b[0m\u001b[1m}\u001b[0m\n",
       "    \u001b[1m]\u001b[0m,\n",
       "    \u001b[33mis_archived\u001b[0m=\u001b[3;92mTrue\u001b[0m,\n",
       "    \u001b[33munits\u001b[0m=\u001b[32m''\u001b[0m,\n",
       "    \u001b[33masset_ids\u001b[0m=\u001b[1m[\u001b[0m\u001b[32m'61d6e4f0-8287-4678-b071-18a95fcd9db6'\u001b[0m\u001b[1m]\u001b[0m,\n",
       "    \u001b[33mtag_ids\u001b[0m=\u001b[1m[\u001b[0m\u001b[1m]\u001b[0m,\n",
       "    \u001b[33mall_assets\u001b[0m=\u001b[3;91mFalse\u001b[0m,\n",
       "    \u001b[33morganization_id\u001b[0m=\u001b[32m'dd9f82ef-7805-4b02-9572-ec61b71edde6'\u001b[0m,\n",
       "    \u001b[33mclient_key\u001b[0m=\u001b[32m''\u001b[0m,\n",
       "    \u001b[33marchived_date\u001b[0m=\u001b[1;35mdatetime\u001b[0m\u001b[1;35m.datetime\u001b[0m\u001b[1m(\u001b[0m\u001b[1;36m2025\u001b[0m, \u001b[1;36m10\u001b[0m, \u001b[1;36m10\u001b[0m, \u001b[1;36m21\u001b[0m, \u001b[1;36m36\u001b[0m, \u001b[1;36m19\u001b[0m, \u001b[1;36m947790\u001b[0m, \u001b[33mtzinfo\u001b[0m=\u001b[35mdatetime\u001b[0m.timezone.utc\u001b[1m)\u001b[0m,\n",
       "    \u001b[33mversion_id\u001b[0m=\u001b[32m'0923ec64-9799-4e73-8038-71496227a846'\u001b[0m,\n",
       "    \u001b[33mversion\u001b[0m=\u001b[1;36m1\u001b[0m,\n",
       "    \u001b[33mchange_message\u001b[0m=\u001b[32m'Created calculated channel'\u001b[0m,\n",
       "    \u001b[33muser_notes\u001b[0m=\u001b[32m''\u001b[0m,\n",
       "    \u001b[33mcreated_date\u001b[0m=\u001b[1;35mdatetime\u001b[0m\u001b[1;35m.datetime\u001b[0m\u001b[1m(\u001b[0m\u001b[1;36m2025\u001b[0m, \u001b[1;36m10\u001b[0m, \u001b[1;36m10\u001b[0m, \u001b[1;36m21\u001b[0m, \u001b[1;36m34\u001b[0m, \u001b[1;36m3\u001b[0m, \u001b[1;36m533939\u001b[0m, \u001b[33mtzinfo\u001b[0m=\u001b[35mdatetime\u001b[0m.timezone.utc\u001b[1m)\u001b[0m,\n",
       "    \u001b[33mmodified_date\u001b[0m=\u001b[1;35mdatetime\u001b[0m\u001b[1;35m.datetime\u001b[0m\u001b[1m(\u001b[0m\u001b[1;36m2025\u001b[0m, \u001b[1;36m10\u001b[0m, \u001b[1;36m10\u001b[0m, \u001b[1;36m21\u001b[0m, \u001b[1;36m34\u001b[0m, \u001b[1;36m3\u001b[0m, \u001b[1;36m533939\u001b[0m, \u001b[33mtzinfo\u001b[0m=\u001b[35mdatetime\u001b[0m.timezone.utc\u001b[1m)\u001b[0m,\n",
       "    \u001b[33mcreated_by_user_id\u001b[0m=\u001b[32m'ae1f6c7c-3e93-40a9-8796-d227a725662c'\u001b[0m,\n",
       "    \u001b[33mmodified_by_user_id\u001b[0m=\u001b[32m'ae1f6c7c-3e93-40a9-8796-d227a725662c'\u001b[0m\n",
       "\u001b[1m)\u001b[0m\n"
      ]
     },
     "jetTransient": {
      "display_id": null
     },
     "metadata": {},
     "output_type": "display_data"
    }
   ],
   "source": [
    "# Create a calculated channel\n",
    "# This example creates a channel that divides two existing channels\n",
    "# Replace channel names with actual channels from your system\n",
    "\n",
    "\n",
    "# Use first two channels for this example\n",
    "channel1 = channels[0]\n",
    "channel2 = channels[1]\n",
    "\n",
    "calc_channel_name = f\"{channel1.name}_per_{channel2.name}\"\n",
    "\n",
    "# Check if calculated channel already exists\n",
    "existing = client.calculated_channels.find(\n",
    "    name=calc_channel_name, asset=asset.id_, include_archived=True\n",
    ")\n",
    "\n",
    "if existing:\n",
    "    print(f\"Calculated channel '{calc_channel_name}' already exists\")\n",
    "    calc_channel = existing\n",
    "else:\n",
    "    print(f\"Creating calculated channel: {calc_channel_name}\")\n",
    "\n",
    "    calc_channel = client.calculated_channels.create(\n",
    "        dict(\n",
    "            name=calc_channel_name,\n",
    "            description=f\"Ratio of {channel1.name} to {channel2.name}\",\n",
    "            expression=\"$1 / $2\",  # $1 and $2 refer to the channel references below\n",
    "            expression_channel_references=[\n",
    "                dict(channel_reference=\"$1\", channel_identifier=channel1.name),\n",
    "                dict(channel_reference=\"$2\", channel_identifier=channel2.name),\n",
    "            ],\n",
    "            asset_ids=[asset.id_],\n",
    "        )\n",
    "    )\n",
    "\n",
    "print(calc_channel)"
   ]
  },
  {
   "cell_type": "code",
   "execution_count": 25,
   "id": "c3be1f869e83d59d",
   "metadata": {
    "ExecuteTime": {
     "end_time": "2025-10-10T21:43:41.257980Z",
     "start_time": "2025-10-10T21:35:07.170355Z"
    }
   },
   "outputs": [
    {
     "data": {
      "text/html": [
       "<pre style=\"white-space:pre;overflow-x:auto;line-height:normal;font-family:Menlo,'DejaVu Sans Mono',consolas,'Courier New',monospace\">Calculated channels for asset <span style=\"color: #008000; text-decoration-color: #008000\">'MarsRover0'</span>: <span style=\"color: #008080; text-decoration-color: #008080; font-weight: bold\">1</span>\n",
       "</pre>\n"
      ],
      "text/plain": [
       "Calculated channels for asset \u001b[32m'MarsRover0'\u001b[0m: \u001b[1;36m1\u001b[0m\n"
      ]
     },
     "jetTransient": {
      "display_id": null
     },
     "metadata": {},
     "output_type": "display_data"
    },
    {
     "data": {
      "text/html": [
       "<pre style=\"white-space:pre;overflow-x:auto;line-height:normal;font-family:Menlo,'DejaVu Sans Mono',consolas,'Courier New',monospace\">  - is_even_per_voltage\n",
       "</pre>\n"
      ],
      "text/plain": [
       "  - is_even_per_voltage\n"
      ]
     },
     "jetTransient": {
      "display_id": null
     },
     "metadata": {},
     "output_type": "display_data"
    },
    {
     "data": {
      "text/html": [
       "<pre style=\"white-space:pre;overflow-x:auto;line-height:normal;font-family:Menlo,'DejaVu Sans Mono',consolas,'Courier New',monospace\">    Expression: $<span style=\"color: #008080; text-decoration-color: #008080; font-weight: bold\">1</span> <span style=\"color: #800080; text-decoration-color: #800080\">/</span> $<span style=\"color: #008080; text-decoration-color: #008080; font-weight: bold\">2</span>\n",
       "</pre>\n"
      ],
      "text/plain": [
       "    Expression: $\u001b[1;36m1\u001b[0m \u001b[35m/\u001b[0m $\u001b[1;36m2\u001b[0m\n"
      ]
     },
     "jetTransient": {
      "display_id": null
     },
     "metadata": {},
     "output_type": "display_data"
    },
    {
     "data": {
      "text/html": [
       "<pre style=\"white-space:pre;overflow-x:auto;line-height:normal;font-family:Menlo,'DejaVu Sans Mono',consolas,'Courier New',monospace\">    Version: <span style=\"color: #008080; text-decoration-color: #008080; font-weight: bold\">1</span>\n",
       "</pre>\n"
      ],
      "text/plain": [
       "    Version: \u001b[1;36m1\u001b[0m\n"
      ]
     },
     "jetTransient": {
      "display_id": null
     },
     "metadata": {},
     "output_type": "display_data"
    }
   ],
   "source": [
    "# List all calculated channels for the asset\n",
    "calc_channels = client.calculated_channels.list_(asset=asset.id_, name=calc_channel_name, limit=10)\n",
    "\n",
    "print(f\"Calculated channels for asset '{asset.name}': {len(calc_channels)}\")\n",
    "for cc in calc_channels:\n",
    "    print(f\"  - {cc.name}\")\n",
    "    print(f\"    Expression: {cc.expression}\")\n",
    "    print(f\"    Version: {cc.version}\")"
   ]
  },
  {
   "cell_type": "code",
   "execution_count": 26,
   "id": "37b76600aedba1a1",
   "metadata": {
    "ExecuteTime": {
     "end_time": "2025-10-10T21:43:41.258564Z",
     "start_time": "2025-10-10T21:36:19.888164Z"
    }
   },
   "outputs": [
    {
     "data": {
      "text/html": [
       "<pre style=\"white-space:pre;overflow-x:auto;line-height:normal;font-family:Menlo,'DejaVu Sans Mono',consolas,'Courier New',monospace\">Archived calculated channel: is_even_per_voltage\n",
       "</pre>\n"
      ],
      "text/plain": [
       "Archived calculated channel: is_even_per_voltage\n"
      ]
     },
     "jetTransient": {
      "display_id": null
     },
     "metadata": {},
     "output_type": "display_data"
    },
    {
     "data": {
      "text/html": [
       "<pre style=\"white-space:pre;overflow-x:auto;line-height:normal;font-family:Menlo,'DejaVu Sans Mono',consolas,'Courier New',monospace\">\n",
       "✓ Example complete!\n",
       "</pre>\n"
      ],
      "text/plain": [
       "\n",
       "✓ Example complete!\n"
      ]
     },
     "jetTransient": {
      "display_id": null
     },
     "metadata": {},
     "output_type": "display_data"
    }
   ],
   "source": [
    "# Optional: Clean up resources\n",
    "# Uncomment to archive the created calculated channel and rule\n",
    "\n",
    "if calc_channel:\n",
    "    calc_channel.archive()\n",
    "    print(f\"Archived calculated channel: {calc_channel.name}\")\n",
    "\n",
    "print(\"\\n✓ Example complete!\")"
   ]
  }
 ],
 "metadata": {
  "kernelspec": {
   "display_name": "Python 3",
   "language": "python",
   "name": "python3"
  },
  "language_info": {
   "codemirror_mode": {
    "name": "ipython",
    "version": 3
   },
   "file_extension": ".py",
   "mimetype": "text/x-python",
   "name": "python",
   "nbconvert_exporter": "python",
   "pygments_lexer": "ipython3",
   "version": "3.12.0"
  }
 },
 "nbformat": 4,
 "nbformat_minor": 5
}
